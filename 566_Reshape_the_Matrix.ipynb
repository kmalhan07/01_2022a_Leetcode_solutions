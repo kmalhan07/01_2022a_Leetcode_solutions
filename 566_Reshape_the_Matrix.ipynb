{
 "cells": [
  {
   "cell_type": "markdown",
   "metadata": {},
   "source": [
    "### 566. Reshape the Matrix\n",
    "\n",
    "### https://leetcode.com/problems/reshape-the-matrix/"
   ]
  },
  {
   "cell_type": "code",
   "execution_count": 71,
   "metadata": {},
   "outputs": [],
   "source": [
    "def rtm(mat, r, c):\n",
    "    \n",
    "    rr, cc = len(mat), len(mat[0])\n",
    "    \n",
    "    if rr == r and cc == c:\n",
    "        return mat\n",
    "    else:\n",
    "        mat_ans = []\n",
    "        row = []\n",
    "        for i in range(0, rr):\n",
    "            for j in range(0, cc):\n",
    "                row.append(mat[i][j])\n",
    "                if len(row) == c:\n",
    "                    mat_ans.append(row)\n",
    "                    row = []\n",
    "            \n",
    "        return mat_ans"
   ]
  },
  {
   "cell_type": "code",
   "execution_count": 72,
   "metadata": {},
   "outputs": [
    {
     "name": "stdout",
     "output_type": "stream",
     "text": [
      "\n",
      "answer =  [[1, 2, 3, 4]]\n"
     ]
    }
   ],
   "source": [
    "mat = [[1,2],[3,4]]\n",
    "r = 1\n",
    "c = 4\n",
    "answer = rtm(mat, r, c)\n",
    "print(\"\\nanswer = \", answer)"
   ]
  },
  {
   "cell_type": "code",
   "execution_count": 73,
   "metadata": {},
   "outputs": [
    {
     "name": "stdout",
     "output_type": "stream",
     "text": [
      "\n",
      "answer =  [[1, 2], [3, 4]]\n"
     ]
    }
   ],
   "source": [
    "mat = [[1,2],[3,4]]\n",
    "r = 2\n",
    "c = 4\n",
    "answer = rtm(mat, r, c)\n",
    "print(\"\\nanswer = \", answer)"
   ]
  },
  {
   "cell_type": "code",
   "execution_count": 74,
   "metadata": {},
   "outputs": [
    {
     "name": "stdout",
     "output_type": "stream",
     "text": [
      "\n",
      "answer =  [[1], [2]]\n"
     ]
    }
   ],
   "source": [
    "mat = [[1, 2]]\n",
    "r = 2\n",
    "c = 1\n",
    "answer = rtm(mat, r, c)\n",
    "print(\"\\nanswer = \", answer)"
   ]
  },
  {
   "cell_type": "markdown",
   "metadata": {},
   "source": [
    "### Leetcode"
   ]
  },
  {
   "cell_type": "code",
   "execution_count": null,
   "metadata": {},
   "outputs": [],
   "source": [
    "class Solution(object):\n",
    "    def matrixReshape(self, mat, r, c):\n",
    "        \"\"\"\n",
    "        :type mat: List[List[int]]\n",
    "        :type r: int\n",
    "        :type c: int\n",
    "        :rtype: List[List[int]]\n",
    "        \"\"\"\n",
    "        return rtm(mat, r, c)\n",
    "    \n",
    "def rtm(mat, r, c):\n",
    "    \n",
    "    rr, cc = len(mat), len(mat[0])\n",
    "    \n",
    "    if rr == r and cc == c:\n",
    "        return mat\n",
    "    else:\n",
    "        mat_ans = []\n",
    "        row = []\n",
    "        for i in range(0, rr):\n",
    "            for j in range(0, cc):\n",
    "                row.append(mat[i][j])\n",
    "                if len(row) == c:\n",
    "                    mat_ans.append(row)\n",
    "                    row = []\n",
    "            \n",
    "        return mat_ans"
   ]
  }
 ],
 "metadata": {
  "kernelspec": {
   "display_name": "Python 3",
   "language": "python",
   "name": "python3"
  },
  "language_info": {
   "codemirror_mode": {
    "name": "ipython",
    "version": 3
   },
   "file_extension": ".py",
   "mimetype": "text/x-python",
   "name": "python",
   "nbconvert_exporter": "python",
   "pygments_lexer": "ipython3",
   "version": "3.7.13"
  }
 },
 "nbformat": 4,
 "nbformat_minor": 4
}
