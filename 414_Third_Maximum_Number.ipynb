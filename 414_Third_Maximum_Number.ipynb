{
 "cells": [
  {
   "cell_type": "markdown",
   "metadata": {},
   "source": [
    "### https://leetcode.com/problems/third-maximum-number/\n",
    "\n",
    "### 414. Third Maximum Number\n",
    "\n",
    "**Constraints:**\n",
    "    \n",
    "$\\bullet$ 1 <= nums.length <= $10^4$\n",
    "\n",
    "$\\bullet$ $-2^{31}$ <= nums[i] <= $2^{31}$ - 1\n"
   ]
  },
  {
   "cell_type": "code",
   "execution_count": 38,
   "metadata": {},
   "outputs": [],
   "source": [
    "def third_max(nums):\n",
    "    \n",
    "    arr = sorted(list(set(nums)))\n",
    "    if len(arr) >= 3 and arr[-3]  in arr:\n",
    "        return arr[-3]\n",
    "    else:\n",
    "        return max(nums)"
   ]
  },
  {
   "cell_type": "code",
   "execution_count": 35,
   "metadata": {},
   "outputs": [
    {
     "name": "stdout",
     "output_type": "stream",
     "text": [
      "\n",
      "answer =  1\n"
     ]
    }
   ],
   "source": [
    "nums = [2,2,3,1]\n",
    "answer = third_max(nums)\n",
    "print(\"\\nanswer = \", answer)"
   ]
  },
  {
   "cell_type": "code",
   "execution_count": 36,
   "metadata": {},
   "outputs": [
    {
     "name": "stdout",
     "output_type": "stream",
     "text": [
      "\n",
      "answer =  1\n"
     ]
    }
   ],
   "source": [
    "nums = [3,2,1]\n",
    "answer = third_max(nums)\n",
    "print(\"\\nanswer = \", answer)"
   ]
  },
  {
   "cell_type": "code",
   "execution_count": 37,
   "metadata": {},
   "outputs": [
    {
     "name": "stdout",
     "output_type": "stream",
     "text": [
      "\n",
      "answer =  2\n"
     ]
    }
   ],
   "source": [
    "nums = [1,2]\n",
    "answer = third_max(nums)\n",
    "print(\"\\nanswer = \", answer)"
   ]
  },
  {
   "cell_type": "markdown",
   "metadata": {},
   "source": [
    "### Leetcode"
   ]
  },
  {
   "cell_type": "code",
   "execution_count": 27,
   "metadata": {},
   "outputs": [],
   "source": [
    "class Solution(object):\n",
    "    def thirdMax(self, nums):\n",
    "        \"\"\"\n",
    "        :type nums: List[int]\n",
    "        :rtype: int\n",
    "        \"\"\"\n",
    "        return third_max(nums)\n",
    "    \n",
    "    \n",
    "def third_max(nums):\n",
    "    \n",
    "    arr = sorted(list(set(nums)))\n",
    "    if len(arr) >= 3 and arr[-3]  in arr:\n",
    "        return arr[-3]\n",
    "    else:\n",
    "        return max(nums)"
   ]
  },
  {
   "cell_type": "markdown",
   "metadata": {},
   "source": [
    "**Runtime 75 ms, Beats 35.35%**\n",
    "\n",
    "**Memory 14.3 MB, Beats 73.78%**"
   ]
  },
  {
   "cell_type": "code",
   "execution_count": null,
   "metadata": {},
   "outputs": [],
   "source": []
  }
 ],
 "metadata": {
  "kernelspec": {
   "display_name": "Python 3",
   "language": "python",
   "name": "python3"
  },
  "language_info": {
   "codemirror_mode": {
    "name": "ipython",
    "version": 3
   },
   "file_extension": ".py",
   "mimetype": "text/x-python",
   "name": "python",
   "nbconvert_exporter": "python",
   "pygments_lexer": "ipython3",
   "version": "3.7.13"
  }
 },
 "nbformat": 4,
 "nbformat_minor": 4
}
