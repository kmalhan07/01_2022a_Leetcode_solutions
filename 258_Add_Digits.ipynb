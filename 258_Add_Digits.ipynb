{
 "cells": [
  {
   "cell_type": "markdown",
   "metadata": {},
   "source": [
    "### 258. Add Digits\n",
    "\n",
    "### https://leetcode.com/problems/add-digits/\n",
    "\n",
    "**Constraints:**\n",
    "\n",
    "$\\bullet$  0 <= num <= $2^{31}$ - 1"
   ]
  },
  {
   "cell_type": "code",
   "execution_count": 25,
   "metadata": {},
   "outputs": [],
   "source": [
    "def add_digits(num):\n",
    "    \n",
    "    if len(str(num)) == 1:\n",
    "        return num\n",
    "    else:\n",
    "        added_sum = sum(map(int, list(str(num))))\n",
    "        return add_digits(added_sum)"
   ]
  },
  {
   "cell_type": "code",
   "execution_count": 22,
   "metadata": {},
   "outputs": [
    {
     "name": "stdout",
     "output_type": "stream",
     "text": [
      "answer = 2\n"
     ]
    }
   ],
   "source": [
    "num = 38\n",
    "answer = add_digits(num)\n",
    "print(\"answer =\", answer)"
   ]
  },
  {
   "cell_type": "code",
   "execution_count": 23,
   "metadata": {},
   "outputs": [
    {
     "name": "stdout",
     "output_type": "stream",
     "text": [
      "answer = 0\n"
     ]
    }
   ],
   "source": [
    "num = 0\n",
    "answer = add_digits(num)\n",
    "print(\"answer =\", answer)"
   ]
  },
  {
   "cell_type": "markdown",
   "metadata": {},
   "source": [
    "### Leetcode solution"
   ]
  },
  {
   "cell_type": "code",
   "execution_count": 24,
   "metadata": {},
   "outputs": [],
   "source": [
    "class Solution(object):\n",
    "    def addDigits(self, num):\n",
    "        \"\"\"\n",
    "        :type num: int\n",
    "        :rtype: int\n",
    "        \"\"\"\n",
    "        return add_digits(num)\n",
    "    \n",
    "\n",
    "def add_digits(num):\n",
    "    \n",
    "    if len(str(num)) == 1:\n",
    "        return num\n",
    "    else:\n",
    "        added_sum = sum(map(int, list(str(num))))\n",
    "        return add_digits(added_sum)"
   ]
  },
  {
   "cell_type": "markdown",
   "metadata": {},
   "source": [
    "**Runtime: 31 ms, faster than 61.00% of Python online submissions for Add Digits.**\n",
    "    \n",
    "**Memory Usage: 13.4 MB, less than 60.58% of Python online submissions for Add Digits.**"
   ]
  },
  {
   "cell_type": "code",
   "execution_count": null,
   "metadata": {},
   "outputs": [],
   "source": []
  }
 ],
 "metadata": {
  "kernelspec": {
   "display_name": "Python 3",
   "language": "python",
   "name": "python3"
  },
  "language_info": {
   "codemirror_mode": {
    "name": "ipython",
    "version": 3
   },
   "file_extension": ".py",
   "mimetype": "text/x-python",
   "name": "python",
   "nbconvert_exporter": "python",
   "pygments_lexer": "ipython3",
   "version": "3.7.13"
  }
 },
 "nbformat": 4,
 "nbformat_minor": 4
}
