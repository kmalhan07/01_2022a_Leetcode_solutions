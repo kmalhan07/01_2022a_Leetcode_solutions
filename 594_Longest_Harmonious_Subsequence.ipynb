{
 "cells": [
  {
   "cell_type": "markdown",
   "metadata": {},
   "source": [
    "### 594. Longest Harmonious Subsequence\n",
    "\n",
    "### https://leetcode.com/problems/longest-harmonious-subsequence/"
   ]
  },
  {
   "cell_type": "code",
   "execution_count": 69,
   "metadata": {},
   "outputs": [],
   "source": [
    "def hls(nums):\n",
    "    \n",
    "    nums_set = sorted(set(nums))\n",
    "    \n",
    "    n_longest = 0\n",
    "    for i in range(1, len(nums_set)):\n",
    "        if nums_set[i] - nums_set[i - 1] == 1 and nums.count(nums_set[i]) + nums.count(nums_set[i - 1]) > n_longest:\n",
    "            n_longest = nums.count(nums_set[i]) + nums.count(nums_set[i - 1])\n",
    "            \n",
    "    return n_longest            "
   ]
  },
  {
   "cell_type": "code",
   "execution_count": 70,
   "metadata": {},
   "outputs": [
    {
     "name": "stdout",
     "output_type": "stream",
     "text": [
      "\n",
      "answer =  5\n"
     ]
    }
   ],
   "source": [
    "nums = [1,3,2,2,5,2,3,7]\n",
    "answer = hls(nums)\n",
    "print(\"\\nanswer = \", answer)"
   ]
  },
  {
   "cell_type": "code",
   "execution_count": 71,
   "metadata": {},
   "outputs": [
    {
     "name": "stdout",
     "output_type": "stream",
     "text": [
      "\n",
      "answer =  2\n"
     ]
    }
   ],
   "source": [
    "nums = [1,2,3,4]\n",
    "answer = hls(nums)\n",
    "print(\"\\nanswer = \", answer)"
   ]
  },
  {
   "cell_type": "code",
   "execution_count": 72,
   "metadata": {},
   "outputs": [
    {
     "name": "stdout",
     "output_type": "stream",
     "text": [
      "\n",
      "answer =  0\n"
     ]
    }
   ],
   "source": [
    "nums = [1,1,1,1]\n",
    "answer = hls(nums)\n",
    "print(\"\\nanswer = \", answer)"
   ]
  },
  {
   "cell_type": "code",
   "execution_count": 73,
   "metadata": {},
   "outputs": [
    {
     "name": "stdout",
     "output_type": "stream",
     "text": [
      "\n",
      "answer =  4\n"
     ]
    }
   ],
   "source": [
    "nums = [1,2,2,1]\n",
    "answer = hls(nums)\n",
    "print(\"\\nanswer = \", answer)"
   ]
  },
  {
   "cell_type": "markdown",
   "metadata": {},
   "source": [
    "### Leetcode"
   ]
  },
  {
   "cell_type": "code",
   "execution_count": 30,
   "metadata": {},
   "outputs": [],
   "source": [
    "class Solution(object):\n",
    "    def findLHS(self, nums):\n",
    "        \"\"\"\n",
    "        :type nums: List[int]\n",
    "        :rtype: int\n",
    "        \"\"\"\n",
    "        return hls(nums)\n",
    "\n",
    "\n",
    "def hls(nums):\n",
    "    \n",
    "    nums_set = sorted(set(nums))\n",
    "    \n",
    "    n_longest = 0\n",
    "    for i in range(1, len(nums_set)):\n",
    "        if nums_set[i] - nums_set[i - 1] == 1 and nums.count(nums_set[i]) + nums.count(nums_set[i - 1]) > n_longest:\n",
    "            n_longest = nums.count(nums_set[i]) + nums.count(nums_set[i - 1])\n",
    "            \n",
    "    return n_longest      "
   ]
  },
  {
   "cell_type": "markdown",
   "metadata": {},
   "source": [
    "**Runtime 4274 ms, Beats 5.51%**\n",
    "\n",
    "**Memory 15.2 MB, Beats 89.76%**"
   ]
  },
  {
   "cell_type": "code",
   "execution_count": null,
   "metadata": {},
   "outputs": [],
   "source": []
  }
 ],
 "metadata": {
  "kernelspec": {
   "display_name": "Python 3",
   "language": "python",
   "name": "python3"
  },
  "language_info": {
   "codemirror_mode": {
    "name": "ipython",
    "version": 3
   },
   "file_extension": ".py",
   "mimetype": "text/x-python",
   "name": "python",
   "nbconvert_exporter": "python",
   "pygments_lexer": "ipython3",
   "version": "3.7.13"
  }
 },
 "nbformat": 4,
 "nbformat_minor": 4
}
