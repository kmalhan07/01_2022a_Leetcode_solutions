{
 "cells": [
  {
   "cell_type": "markdown",
   "metadata": {},
   "source": [
    "### https://leetcode.com/problems/pascals-triangle-ii/\n",
    "\n",
    "### 119. Pascal's Triangle II"
   ]
  },
  {
   "cell_type": "code",
   "execution_count": 205,
   "metadata": {},
   "outputs": [],
   "source": [
    "def pt(rowIndex):\n",
    "    \n",
    "    pt_list = []\n",
    "       \n",
    "    for i in range(0, rowIndex + 1):\n",
    "\n",
    "        list_tmp = [None]*(i + 1)\n",
    "        list_tmp[0], list_tmp[-1] = 1, 1\n",
    "        if (i>=2):\n",
    "            for j in range(1, i):\n",
    "                list_tmp[j] = pt_list[i - 1][j - 1] + pt_list[i - 1][j]\n",
    "                \n",
    "        pt_list.append(list_tmp)\n",
    "        \n",
    "    return pt_list[-1]"
   ]
  },
  {
   "cell_type": "code",
   "execution_count": 206,
   "metadata": {},
   "outputs": [
    {
     "name": "stdout",
     "output_type": "stream",
     "text": [
      "\n",
      "\n",
      "answer =  [1]\n"
     ]
    }
   ],
   "source": [
    "rowIndex = 0\n",
    "answer = pt(rowIndex)\n",
    "print(\"\\n\\nanswer = \",answer)"
   ]
  },
  {
   "cell_type": "code",
   "execution_count": 207,
   "metadata": {},
   "outputs": [
    {
     "name": "stdout",
     "output_type": "stream",
     "text": [
      "\n",
      "answer =  [1, 1]\n"
     ]
    }
   ],
   "source": [
    "rowIndex = 1\n",
    "answer = pt(rowIndex)\n",
    "print(\"\\nanswer = \",answer)"
   ]
  },
  {
   "cell_type": "code",
   "execution_count": 208,
   "metadata": {},
   "outputs": [
    {
     "name": "stdout",
     "output_type": "stream",
     "text": [
      "\n",
      "\n",
      "answer =  [1, 2, 1]\n"
     ]
    }
   ],
   "source": [
    "rowIndex = 2\n",
    "answer = pt(rowIndex)\n",
    "print(\"\\n\\nanswer = \",answer)"
   ]
  },
  {
   "cell_type": "code",
   "execution_count": 209,
   "metadata": {},
   "outputs": [
    {
     "name": "stdout",
     "output_type": "stream",
     "text": [
      "\n",
      "\n",
      "answer =  [1, 3, 3, 1]\n"
     ]
    }
   ],
   "source": [
    "rowIndex = 3\n",
    "answer = pt(rowIndex)\n",
    "print(\"\\n\\nanswer = \",answer)"
   ]
  },
  {
   "cell_type": "markdown",
   "metadata": {},
   "source": [
    "### Leetcode solution"
   ]
  },
  {
   "cell_type": "code",
   "execution_count": 210,
   "metadata": {},
   "outputs": [],
   "source": [
    "class Solution(object):\n",
    "    def getRow(self, rowIndex):\n",
    "        \"\"\"\n",
    "        :type rowIndex: int\n",
    "        :rtype: List[int]\n",
    "        \"\"\"\n",
    "        return pt(rowIndex)\n",
    "    \n",
    "\n",
    "def pt(rowIndex):\n",
    "    \n",
    "    pt_list = []\n",
    "       \n",
    "    for i in range(0, rowIndex + 1):\n",
    "\n",
    "        list_tmp = [None]*(i + 1)\n",
    "        list_tmp[0], list_tmp[-1] = 1, 1\n",
    "        if (i>=2):\n",
    "            for j in range(1, i):\n",
    "                list_tmp[j] = pt_list[i - 1][j - 1] + pt_list[i - 1][j]\n",
    "                \n",
    "        pt_list.append(list_tmp)\n",
    "        \n",
    "    return pt_list[-1]"
   ]
  },
  {
   "cell_type": "markdown",
   "metadata": {},
   "source": [
    "Runtime: 33 ms, faster than 30.22% of Python online submissions for Pascal's Triangle II.\n",
    "\n",
    "Memory Usage: 13.5 MB, less than 35.99% of Python online submissions for Pascal's Triangle II."
   ]
  },
  {
   "cell_type": "code",
   "execution_count": null,
   "metadata": {},
   "outputs": [],
   "source": []
  }
 ],
 "metadata": {
  "kernelspec": {
   "display_name": "Python 3",
   "language": "python",
   "name": "python3"
  },
  "language_info": {
   "codemirror_mode": {
    "name": "ipython",
    "version": 3
   },
   "file_extension": ".py",
   "mimetype": "text/x-python",
   "name": "python",
   "nbconvert_exporter": "python",
   "pygments_lexer": "ipython3",
   "version": "3.7.13"
  }
 },
 "nbformat": 4,
 "nbformat_minor": 4
}
