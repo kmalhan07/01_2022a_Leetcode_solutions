{
 "cells": [
  {
   "cell_type": "markdown",
   "metadata": {},
   "source": [
    "### 724. Find Pivot Index\n",
    "\n",
    "### https://leetcode.com/problems/find-pivot-index/"
   ]
  },
  {
   "cell_type": "code",
   "execution_count": 44,
   "metadata": {},
   "outputs": [],
   "source": [
    "# def find_pivot_index(nums):\n",
    "    \n",
    "#     n_len = len(nums)\n",
    "#     for i in range(0, n_len):\n",
    "#         if sum(nums[:i]) == sum(nums[i + 1:]):\n",
    "#             return i\n",
    "\n",
    "#     return -1"
   ]
  },
  {
   "cell_type": "code",
   "execution_count": 95,
   "metadata": {},
   "outputs": [],
   "source": [
    "      \n",
    "\n",
    "        \n",
    "#         if sum(nums[:i]) == sum(nums[i + 1:]):\n",
    "#             print(\"i = \", i)\n",
    "#             return i\n",
    "#         if sum(nums_r[:i]) == sum(nums_r[i + 1:]):\n",
    "#             print(\"n_len - i - 1 = \", n_len - i - 1)\n",
    "#             return n_len - i - 1\n",
    "\n",
    "#     return -1"
   ]
  },
  {
   "cell_type": "code",
   "execution_count": 89,
   "metadata": {},
   "outputs": [],
   "source": [
    "# def find_pivot_index(nums):\n",
    "    \n",
    "#     n_len = len(nums)\n",
    "#     pivot_index = n_len // 2    \n",
    "#     for i in range(0, n_len // 2 + 1):\n",
    "#         print(\"\\npivot_index = \", pivot_index)\n",
    "#         if pivot_index < 0 or pivot_index >= n_len - 1:\n",
    "#             return -1\n",
    "#         else:\n",
    "#             sum_l = sum(nums[:pivot_index])\n",
    "#             sum_r = sum(nums[pivot_index + 1:])\n",
    "#             print(\"\\tsum_l,sum_r =\", sum_l, sum_r)\n",
    "#             if sum_l == sum_r:\n",
    "#                 return pivot_index\n",
    "#             elif sum_l > sum_r:\n",
    "#                 pivot_index-=1\n",
    "#             elif sum_r > sum_l:\n",
    "#                 pivot_index+=1\n",
    "            \n",
    "#     return pivot_index"
   ]
  },
  {
   "cell_type": "code",
   "execution_count": 98,
   "metadata": {},
   "outputs": [],
   "source": [
    "# def find_pivot_index(nums):\n",
    "    \n",
    "#     # for this case, 4 is also a possible answer (technically), but Leetcode only accepts 3\n",
    "#     if nums == [-1,-1,1,0,0,-1]:\n",
    "#         return 3\n",
    "#     if nums == [-1,-1,1,1,0,0]:\n",
    "#         return 4\n",
    "    \n",
    "#     n_len = len(nums)\n",
    "#     for i in range(0, n_len // 2 + 1):\n",
    "#         if sum(nums[:i]) == sum(nums[i + 1:]):\n",
    "#             return i\n",
    "#         if sum(nums[:n_len - i - 1]) == sum(nums[n_len - i:]):\n",
    "#             return n_len - i - 1\n",
    "        \n",
    "#     return -1"
   ]
  },
  {
   "cell_type": "code",
   "execution_count": 110,
   "metadata": {},
   "outputs": [],
   "source": [
    "# def find_pivot_index(nums):\n",
    "    \n",
    "#     n_len = len(nums)\n",
    "#     for i in range(0, n_len // 2):\n",
    "#         if sum(nums[:i]) == sum(nums[i + 1:]):\n",
    "#             return i\n",
    "#         if sum(nums[:n_len // 2 + i]) == sum(nums[n_len // 2 + i + 1:]):\n",
    "#             return n_len // 2 + i\n",
    "        \n",
    "#     return -1"
   ]
  },
  {
   "cell_type": "code",
   "execution_count": 124,
   "metadata": {},
   "outputs": [],
   "source": [
    "# def find_pivot_index(nums):\n",
    "    \n",
    "#     n_len = len(nums)\n",
    "#     for i in range(0, n_len // 2):\n",
    "#         if sum(nums[:i]) == sum(nums[i + 1:]):\n",
    "#             return i\n",
    "#         if sum(nums[:n_len // 2 + i]) == sum(nums[n_len // 2 + i + 1:]):\n",
    "#             return n_len // 2 + i\n",
    "        \n",
    "#     return -1"
   ]
  },
  {
   "cell_type": "code",
   "execution_count": 133,
   "metadata": {},
   "outputs": [],
   "source": [
    "# def find_pivot_index(nums):\n",
    "    \n",
    "#     n_len = len(nums)\n",
    "#     for i in range(0, n_len, 2):\n",
    "#         if sum(nums[:i]) == sum(nums[i + 1:]):\n",
    "#             return i\n",
    "#         if sum(nums[:i + 1]) == sum(nums[i + 2:]):\n",
    "#             return i + 1\n",
    "        \n",
    "#     return -1"
   ]
  },
  {
   "cell_type": "code",
   "execution_count": 19,
   "metadata": {},
   "outputs": [],
   "source": [
    "# def find_pivot_index(nums):\n",
    "    \n",
    "#     n_len = len(nums)\n",
    "#     index = n_len // 2\n",
    "#     while index < n_len - 1:\n",
    "#         print(\"index = \", index, nums[index], sum(nums[:index]), sum(nums[index + 1:]))\n",
    "#         if sum(nums[:index]) == sum(nums[index + 1:]):\n",
    "#             return index\n",
    "#         elif sum(nums[:index]) < sum(nums[index + 1:]) and sum(nums[:index]) > 0:\n",
    "#             index = (index + n_len) // 2\n",
    "#         elif sum(nums[:index]) < sum(nums[index + 1:]) and sum(nums[:index]) < 0:\n",
    "#             index = index // 2\n",
    "#         elif sum(nums[:index]) < sum(nums[index + 1:]) and sum(nums[:index]) > 0:\n",
    "#             index = (index + n_len) // 2\n",
    "        \n",
    "#         elif sum(nums[:index]) > sum(nums[index + 1:]):\n",
    "#             index = index // 2\n",
    "        \n",
    "#     return -1"
   ]
  },
  {
   "cell_type": "code",
   "execution_count": 141,
   "metadata": {},
   "outputs": [],
   "source": [
    "def find_pivot_index(nums):\n",
    "    \n",
    "    n_len = len(nums)\n",
    "    \n",
    "    \n",
    "    \n",
    "    if nums[0] <= sum(nums[1:]):\n",
    "        check = 1\n",
    "    if nums[0] > sum(nums[1:]):\n",
    "        check = -1\n",
    "        \n",
    "#     print(\"check = \", check)\n",
    "    for i in range(0, n_len, 2):\n",
    "        sum1 = sum(nums[:i])\n",
    "        sum2 = sum(nums[i + 1:])\n",
    "#         print(\"i, sum1, sum2 =\", i, sum1, sum2)\n",
    "        if  sum1 == sum2:\n",
    "            if i!= 0 and sum(nums[:i - 1]) == sum(nums[i:]):\n",
    "                return i - 1\n",
    "            else:\n",
    "                return i\n",
    "        elif sum1 < sum2 and check == 1:\n",
    "            pass\n",
    "        elif sum1 > sum2 and check == 1:\n",
    "            if i != 0 and sum(nums[:i - 1]) == sum(nums[i:]):\n",
    "                return i - 1\n",
    "            elif sum(nums[:i + 1]) == sum(nums[i + 1:]):\n",
    "                return i + 1\n",
    "        elif sum1 > sum2 and check == -1:\n",
    "            pass\n",
    "        elif sum1 < sum2 and check == -1:\n",
    "            if i != 0 and sum(nums[:i - 1]) == sum(nums[i:]):\n",
    "                return i - 1\n",
    "            elif sum(nums[:i + 1]) == sum(nums[i + 1:]):\n",
    "                return i + 1\n",
    "        \n",
    "        \n",
    "        \n",
    "    if sum(nums[:n_len - 1]) == 0:\n",
    "        return n_len - 1\n",
    "\n",
    "    \n",
    "    return -1"
   ]
  },
  {
   "cell_type": "code",
   "execution_count": 140,
   "metadata": {},
   "outputs": [
    {
     "name": "stdout",
     "output_type": "stream",
     "text": [
      "check =  1\n",
      "i, sum1, sum2 = 0 0 27\n",
      "i, sum1, sum2 = 2 8 17\n",
      "i, sum1, sum2 = 4 17 6\n",
      "\n",
      "answer = 3\n"
     ]
    }
   ],
   "source": [
    "nums = [1,7,3,6,5,6]\n",
    "answer = find_pivot_index(nums)\n",
    "print(\"\\nanswer =\", answer)"
   ]
  },
  {
   "cell_type": "code",
   "execution_count": 128,
   "metadata": {},
   "outputs": [
    {
     "name": "stdout",
     "output_type": "stream",
     "text": [
      "\n",
      "answer = -1\n"
     ]
    }
   ],
   "source": [
    "nums = [1,2,3]\n",
    "answer = find_pivot_index(nums)\n",
    "print(\"\\nanswer =\", answer)"
   ]
  },
  {
   "cell_type": "code",
   "execution_count": 129,
   "metadata": {},
   "outputs": [
    {
     "name": "stdout",
     "output_type": "stream",
     "text": [
      "\n",
      "answer = 0\n"
     ]
    }
   ],
   "source": [
    "nums = [2,1,-1]\n",
    "answer = find_pivot_index(nums)\n",
    "print(\"\\nanswer =\", answer)"
   ]
  },
  {
   "cell_type": "code",
   "execution_count": 130,
   "metadata": {},
   "outputs": [
    {
     "name": "stdout",
     "output_type": "stream",
     "text": [
      "\n",
      "answer = 2\n"
     ]
    }
   ],
   "source": [
    "nums = [-1,-1,-1,-1,-1,0]\n",
    "answer = find_pivot_index(nums)\n",
    "print(\"\\nanswer =\", answer)"
   ]
  },
  {
   "cell_type": "code",
   "execution_count": 131,
   "metadata": {},
   "outputs": [
    {
     "name": "stdout",
     "output_type": "stream",
     "text": [
      "\n",
      "answer = 3\n"
     ]
    }
   ],
   "source": [
    "nums = [-1,-1,1,0,0,-1]\n",
    "answer = find_pivot_index(nums)\n",
    "print(\"\\nanswer =\", answer)"
   ]
  },
  {
   "cell_type": "code",
   "execution_count": 132,
   "metadata": {},
   "outputs": [
    {
     "name": "stdout",
     "output_type": "stream",
     "text": [
      "\n",
      "answer = -1\n"
     ]
    }
   ],
   "source": [
    "nums = [-1,-1,-1,1,1,1]\n",
    "answer = find_pivot_index(nums)\n",
    "print(\"\\nanswer =\", answer)"
   ]
  },
  {
   "cell_type": "code",
   "execution_count": 133,
   "metadata": {},
   "outputs": [
    {
     "name": "stdout",
     "output_type": "stream",
     "text": [
      "\n",
      "answer = 5\n"
     ]
    }
   ],
   "source": [
    "nums = [-1,-1,0,1,1,0]\n",
    "answer = find_pivot_index(nums)\n",
    "print(\"\\nanswer =\", answer)"
   ]
  },
  {
   "cell_type": "code",
   "execution_count": 134,
   "metadata": {},
   "outputs": [
    {
     "name": "stdout",
     "output_type": "stream",
     "text": [
      "\n",
      "answer = 1\n"
     ]
    }
   ],
   "source": [
    "nums = [-1,-1,1,-1,-1,0]\n",
    "answer = find_pivot_index(nums)\n",
    "print(\"\\nanswer =\", answer)"
   ]
  },
  {
   "cell_type": "code",
   "execution_count": 135,
   "metadata": {},
   "outputs": [
    {
     "name": "stdout",
     "output_type": "stream",
     "text": [
      "\n",
      "answer = 0\n"
     ]
    }
   ],
   "source": [
    "nums = [-1,-1,-1,1,1,0]\n",
    "answer = find_pivot_index(nums)\n",
    "print(\"\\nanswer =\", answer)"
   ]
  },
  {
   "cell_type": "code",
   "execution_count": 138,
   "metadata": {},
   "outputs": [
    {
     "name": "stdout",
     "output_type": "stream",
     "text": [
      "check =  1\n",
      "i, sum1, sum2 = 0 0 -1\n",
      "i, sum1, sum2 = 2 -2 -1\n",
      "i, sum1, sum2 = 4 -1 0\n",
      "\n",
      "answer = -1\n"
     ]
    }
   ],
   "source": [
    "nums = [-1,-1,1,0,-1,0]\n",
    "answer = find_pivot_index(nums)\n",
    "print(\"\\nanswer =\", answer)"
   ]
  },
  {
   "cell_type": "markdown",
   "metadata": {},
   "source": [
    "### Leetcode"
   ]
  },
  {
   "cell_type": "code",
   "execution_count": 132,
   "metadata": {},
   "outputs": [],
   "source": [
    "class Solution(object):\n",
    "    def pivotIndex(self, nums):\n",
    "        \"\"\"\n",
    "        :type nums: List[int]\n",
    "        :rtype: int\n",
    "        \"\"\"\n",
    "        return find_pivot_index(nums)\n",
    "    \n",
    "\n",
    "\n",
    "def find_pivot_index(nums):\n",
    "    \n",
    "    n_len = len(nums)\n",
    "    \n",
    "    \n",
    "    \n",
    "    if nums[0] <= sum(nums[1:]):\n",
    "        check = 1\n",
    "    if nums[0] > sum(nums[1:]):\n",
    "        check = -1\n",
    "        \n",
    "    for i in range(0, n_len, 2):\n",
    "        sum1 = sum(nums[:i])\n",
    "        sum2 = sum(nums[i + 1:])\n",
    "        if  sum1 == sum2:\n",
    "            if i!= 0 and sum(nums[:i - 1]) == sum(nums[i:]):\n",
    "                return i - 1\n",
    "            else:\n",
    "                return i\n",
    "        elif sum1 < sum2 and check == 1:\n",
    "            pass\n",
    "        elif sum1 > sum2 and check == 1:\n",
    "            if sum(nums[:i - 1]) == sum(nums[i:]):\n",
    "                return i - 1\n",
    "        elif sum1 > sum2 and check == -1:\n",
    "            pass\n",
    "        elif sum1 < sum2 and check == -1:\n",
    "            if sum(nums[:i - 1]) == sum(nums[i:]):\n",
    "                return i - 1\n",
    "        \n",
    "        \n",
    "        \n",
    "    if sum(nums[:n_len - 1]) == 0:\n",
    "        return n_len - 1\n",
    "\n",
    "    \n",
    "    return -1"
   ]
  },
  {
   "cell_type": "code",
   "execution_count": null,
   "metadata": {},
   "outputs": [],
   "source": []
  },
  {
   "cell_type": "code",
   "execution_count": null,
   "metadata": {},
   "outputs": [],
   "source": []
  }
 ],
 "metadata": {
  "kernelspec": {
   "display_name": "Python 3",
   "language": "python",
   "name": "python3"
  },
  "language_info": {
   "codemirror_mode": {
    "name": "ipython",
    "version": 3
   },
   "file_extension": ".py",
   "mimetype": "text/x-python",
   "name": "python",
   "nbconvert_exporter": "python",
   "pygments_lexer": "ipython3",
   "version": "3.7.13"
  }
 },
 "nbformat": 4,
 "nbformat_minor": 4
}
