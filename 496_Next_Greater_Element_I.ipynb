{
 "cells": [
  {
   "cell_type": "markdown",
   "metadata": {},
   "source": [
    "### 496. Next Greater Element I\n",
    "\n",
    "### https://leetcode.com/problems/next-greater-element-i/\n",
    "\n",
    "**Constraints:**\n",
    "    \n",
    "$\\bullet$  1 <= nums1.length <= nums2.length <= 1000\n",
    "    \n",
    "$\\bullet$  0 <= nums1[i], nums2[i] <= $10^4$\n",
    "    \n",
    "$\\bullet$  All integers in nums1 and nums2 are unique.\n",
    "    \n",
    "$\\bullet$  All the integers of nums1 also appear in nums2.\n"
   ]
  },
  {
   "cell_type": "code",
   "execution_count": 31,
   "metadata": {},
   "outputs": [],
   "source": [
    "def nge(nums1, nums2):\n",
    "    \n",
    "    ans = []\n",
    "    for e1 in nums1:\n",
    "        ans.append(next((x for x in nums2[nums2.index(e1) + 1:] if x > e1), -1))\n",
    "    return ans"
   ]
  },
  {
   "cell_type": "code",
   "execution_count": 32,
   "metadata": {},
   "outputs": [
    {
     "name": "stdout",
     "output_type": "stream",
     "text": [
      "\n",
      "answer =  [-1, 3, -1]\n"
     ]
    }
   ],
   "source": [
    "nums1 = [4,1,2]\n",
    "nums2 = [1,3,4,2]\n",
    "answer = nge(nums1, nums2)\n",
    "print(\"\\nanswer = \", answer)"
   ]
  },
  {
   "cell_type": "code",
   "execution_count": 33,
   "metadata": {},
   "outputs": [
    {
     "name": "stdout",
     "output_type": "stream",
     "text": [
      "\n",
      "answer =  [3, -1]\n"
     ]
    }
   ],
   "source": [
    "nums1 = [2,4]\n",
    "nums2 = [1,2,3,4]\n",
    "answer = nge(nums1, nums2)\n",
    "print(\"\\nanswer = \", answer)"
   ]
  },
  {
   "cell_type": "code",
   "execution_count": 34,
   "metadata": {},
   "outputs": [
    {
     "name": "stdout",
     "output_type": "stream",
     "text": [
      "\n",
      "answer =  [7, 7, 7, 7, 7]\n"
     ]
    }
   ],
   "source": [
    "nums1 = [1,3,5,2,4]\n",
    "nums2 = [6,5,4,3,2,1,7]\n",
    "answer = nge(nums1, nums2)\n",
    "print(\"\\nanswer = \", answer)"
   ]
  },
  {
   "cell_type": "markdown",
   "metadata": {},
   "source": [
    "### Leetcode"
   ]
  },
  {
   "cell_type": "code",
   "execution_count": 9,
   "metadata": {},
   "outputs": [],
   "source": [
    "class Solution(object):\n",
    "    def nextGreaterElement(self, nums1, nums2):\n",
    "        \"\"\"\n",
    "        :type nums1: List[int]\n",
    "        :type nums2: List[int]\n",
    "        :rtype: List[int]\n",
    "        \"\"\"\n",
    "        return nge(nums1, nums2)\n",
    "    \n",
    "\n",
    "def nge(nums1, nums2):\n",
    "    \n",
    "    ans = []\n",
    "    for e1 in nums1:\n",
    "        ans.append(next((x for x in nums2[nums2.index(e1) + 1:] if x > e1), -1))\n",
    "    return ans"
   ]
  },
  {
   "cell_type": "markdown",
   "metadata": {},
   "source": [
    "**Runtime 102 ms, Beats 33.36%**\n",
    "\n",
    "**Memory13.5 MB Beats 83.13%**"
   ]
  },
  {
   "cell_type": "code",
   "execution_count": null,
   "metadata": {},
   "outputs": [],
   "source": []
  }
 ],
 "metadata": {
  "kernelspec": {
   "display_name": "Python 3",
   "language": "python",
   "name": "python3"
  },
  "language_info": {
   "codemirror_mode": {
    "name": "ipython",
    "version": 3
   },
   "file_extension": ".py",
   "mimetype": "text/x-python",
   "name": "python",
   "nbconvert_exporter": "python",
   "pygments_lexer": "ipython3",
   "version": "3.7.13"
  }
 },
 "nbformat": 4,
 "nbformat_minor": 4
}
