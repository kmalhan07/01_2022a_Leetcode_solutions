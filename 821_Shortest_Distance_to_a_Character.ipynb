{
 "cells": [
  {
   "cell_type": "markdown",
   "metadata": {},
   "source": [
    "### 821. Shortest Distance to a Character\n",
    "\n",
    "### https://leetcode.com/problems/shortest-distance-to-a-character/"
   ]
  },
  {
   "cell_type": "code",
   "execution_count": 13,
   "metadata": {},
   "outputs": [],
   "source": [
    "def distance(s, c):\n",
    "    \n",
    "    indices_for_c = [i for i, ltr in enumerate(s) if ltr == c]\n",
    "    \n",
    "    result = []\n",
    "    for i in range(0, len(s)):\n",
    "        result.append(min([abs(x - i) for x in indices_for_c]))\n",
    "    \n",
    "    return result"
   ]
  },
  {
   "cell_type": "code",
   "execution_count": 14,
   "metadata": {},
   "outputs": [
    {
     "name": "stdout",
     "output_type": "stream",
     "text": [
      "\n",
      "answer =  [3, 2, 1, 0, 1, 0, 0, 1, 2, 2, 1, 0]\n"
     ]
    }
   ],
   "source": [
    "s = \"loveleetcode\"\n",
    "c = \"e\"\n",
    "answer = distance(s, c)\n",
    "print(\"\\nanswer = \", answer)"
   ]
  },
  {
   "cell_type": "code",
   "execution_count": 15,
   "metadata": {},
   "outputs": [
    {
     "name": "stdout",
     "output_type": "stream",
     "text": [
      "\n",
      "answer =  [3, 2, 1, 0]\n"
     ]
    }
   ],
   "source": [
    "s = \"aaab\"\n",
    "c = \"b\"\n",
    "answer = distance(s, c)\n",
    "print(\"\\nanswer = \", answer)"
   ]
  },
  {
   "cell_type": "markdown",
   "metadata": {},
   "source": [
    "### Leetcode"
   ]
  },
  {
   "cell_type": "code",
   "execution_count": 16,
   "metadata": {},
   "outputs": [],
   "source": [
    "class Solution(object):\n",
    "    def shortestToChar(self, s, c):\n",
    "        \"\"\"\n",
    "        :type s: str\n",
    "        :type c: str\n",
    "        :rtype: List[int]\n",
    "        \"\"\"\n",
    "        return distance(s, c)\n",
    "    \n",
    "    \n",
    "def distance(s, c):\n",
    "    \n",
    "    indices_for_c = [i for i, ltr in enumerate(s) if ltr == c]\n",
    "    \n",
    "    result = []\n",
    "    for i in range(0, len(s)):\n",
    "        result.append(min([abs(x - i) for x in indices_for_c]))\n",
    "    \n",
    "    return result"
   ]
  },
  {
   "cell_type": "markdown",
   "metadata": {},
   "source": [
    "**Runtime 145 ms, Beats 18.68%**\n",
    "\n",
    "**Memory 13.6 MB, Beats 65.66%**"
   ]
  },
  {
   "cell_type": "code",
   "execution_count": null,
   "metadata": {},
   "outputs": [],
   "source": []
  }
 ],
 "metadata": {
  "kernelspec": {
   "display_name": "Python 3",
   "language": "python",
   "name": "python3"
  },
  "language_info": {
   "codemirror_mode": {
    "name": "ipython",
    "version": 3
   },
   "file_extension": ".py",
   "mimetype": "text/x-python",
   "name": "python",
   "nbconvert_exporter": "python",
   "pygments_lexer": "ipython3",
   "version": "3.7.13"
  }
 },
 "nbformat": 4,
 "nbformat_minor": 4
}
