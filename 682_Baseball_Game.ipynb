{
 "cells": [
  {
   "cell_type": "markdown",
   "metadata": {},
   "source": [
    "### 682. Baseball Game\n",
    "\n",
    "### https://leetcode.com/problems/baseball-game/"
   ]
  },
  {
   "cell_type": "code",
   "execution_count": 21,
   "metadata": {},
   "outputs": [],
   "source": [
    "def baseball(ops):\n",
    "    \n",
    "    score = []\n",
    "    for o in ops:\n",
    "        if o.isdigit() or (o.startswith('-') and o[1:].isdigit()):\n",
    "            score.append(int(o))\n",
    "        elif o == \"C\":\n",
    "            del score[-1]\n",
    "        elif o == \"D\":\n",
    "            score.append(score[-1]*2)\n",
    "        elif o == \"+\":\n",
    "            score.append(score[-1] + score[-2])\n",
    "            \n",
    "    return sum(score)"
   ]
  },
  {
   "cell_type": "code",
   "execution_count": 22,
   "metadata": {},
   "outputs": [
    {
     "name": "stdout",
     "output_type": "stream",
     "text": [
      "\n",
      "answer =  30\n"
     ]
    }
   ],
   "source": [
    "ops = [\"5\",\"2\",\"C\",\"D\",\"+\"]\n",
    "answer = baseball(ops)\n",
    "print(\"\\nanswer = \", answer)"
   ]
  },
  {
   "cell_type": "code",
   "execution_count": 23,
   "metadata": {},
   "outputs": [
    {
     "name": "stdout",
     "output_type": "stream",
     "text": [
      "\n",
      "answer =  27\n"
     ]
    }
   ],
   "source": [
    "ops = [\"5\",\"-2\",\"4\",\"C\",\"D\",\"9\",\"+\",\"+\"]\n",
    "answer = baseball(ops)\n",
    "print(\"\\nanswer = \", answer)"
   ]
  },
  {
   "cell_type": "code",
   "execution_count": 24,
   "metadata": {},
   "outputs": [
    {
     "name": "stdout",
     "output_type": "stream",
     "text": [
      "\n",
      "answer =  0\n"
     ]
    }
   ],
   "source": [
    "ops = [\"1\",\"C\"]\n",
    "answer = baseball(ops)\n",
    "print(\"\\nanswer = \", answer)"
   ]
  },
  {
   "cell_type": "markdown",
   "metadata": {},
   "source": [
    "### Leetcode"
   ]
  },
  {
   "cell_type": "code",
   "execution_count": 25,
   "metadata": {},
   "outputs": [],
   "source": [
    "class Solution(object):\n",
    "    def calPoints(self, operations):\n",
    "        \"\"\"\n",
    "        :type operations: List[str]\n",
    "        :rtype: int\n",
    "        \"\"\"\n",
    "        return baseball(operations)\n",
    "    \n",
    "    \n",
    "def baseball(ops):\n",
    "    \n",
    "    score = []\n",
    "    for o in ops:\n",
    "        if o.isdigit() or (o.startswith('-') and o[1:].isdigit()):\n",
    "            score.append(int(o))\n",
    "        elif o == \"C\":\n",
    "            del score[-1]\n",
    "        elif o == \"D\":\n",
    "            score.append(score[-1]*2)\n",
    "        elif o == \"+\":\n",
    "            score.append(score[-1] + score[-2])\n",
    "            \n",
    "    return sum(score)"
   ]
  },
  {
   "cell_type": "markdown",
   "metadata": {},
   "source": [
    "**Runtime 52 ms, Beats 41.95%**\n",
    "\n",
    "**Memory 13.7 MB, Beats 76.87%**"
   ]
  },
  {
   "cell_type": "code",
   "execution_count": null,
   "metadata": {},
   "outputs": [],
   "source": []
  }
 ],
 "metadata": {
  "kernelspec": {
   "display_name": "Python 3",
   "language": "python",
   "name": "python3"
  },
  "language_info": {
   "codemirror_mode": {
    "name": "ipython",
    "version": 3
   },
   "file_extension": ".py",
   "mimetype": "text/x-python",
   "name": "python",
   "nbconvert_exporter": "python",
   "pygments_lexer": "ipython3",
   "version": "3.7.13"
  }
 },
 "nbformat": 4,
 "nbformat_minor": 4
}
