{
 "cells": [
  {
   "cell_type": "markdown",
   "metadata": {},
   "source": [
    "### https://leetcode.com/problems/number-of-segments-in-a-string/\n",
    "\n",
    "### 434. Number of Segments in a String\n",
    "\n",
    "**Constraints:**\n",
    "    \n",
    "$\\bullet$ 0 <= s.length <= 300\n",
    "\n",
    "$\\bullet$ s consists of lowercase and uppercase English letters, digits, or one of the following characters \"!@#$%^&*()_+-=',.:\".\n",
    "    \n",
    "$\\bullet$ The only space character in s is ' '.\n"
   ]
  },
  {
   "cell_type": "code",
   "execution_count": 46,
   "metadata": {},
   "outputs": [],
   "source": [
    "def segments(s):\n",
    "    \n",
    "    s = \" \".join(s.split())\n",
    "    \n",
    "    if len(s) == 0:\n",
    "        return 0\n",
    "    return s.count(' ') + 1"
   ]
  },
  {
   "cell_type": "code",
   "execution_count": 47,
   "metadata": {},
   "outputs": [
    {
     "name": "stdout",
     "output_type": "stream",
     "text": [
      "\n",
      "answer =  5\n"
     ]
    }
   ],
   "source": [
    "s = \"Hello, my name is John\"\n",
    "answer = segments(s)\n",
    "print(\"\\nanswer = \", answer)"
   ]
  },
  {
   "cell_type": "code",
   "execution_count": 48,
   "metadata": {},
   "outputs": [
    {
     "name": "stdout",
     "output_type": "stream",
     "text": [
      "\n",
      "answer =  1\n"
     ]
    }
   ],
   "source": [
    "s = \"Hello\"\n",
    "answer = segments(s)\n",
    "print(\"\\nanswer = \", answer)"
   ]
  },
  {
   "cell_type": "code",
   "execution_count": 49,
   "metadata": {},
   "outputs": [
    {
     "name": "stdout",
     "output_type": "stream",
     "text": [
      "\n",
      "answer =  0\n"
     ]
    }
   ],
   "source": [
    "s = \"   \"\n",
    "answer = segments(s)\n",
    "print(\"\\nanswer = \", answer)"
   ]
  },
  {
   "cell_type": "code",
   "execution_count": 50,
   "metadata": {},
   "outputs": [
    {
     "name": "stdout",
     "output_type": "stream",
     "text": [
      "\n",
      "answer =  13\n"
     ]
    }
   ],
   "source": [
    "s = \"Of all the gin joints in all the towns in all the world,   \"\n",
    "answer = segments(s)\n",
    "print(\"\\nanswer = \", answer)"
   ]
  },
  {
   "cell_type": "code",
   "execution_count": 51,
   "metadata": {},
   "outputs": [
    {
     "name": "stdout",
     "output_type": "stream",
     "text": [
      "\n",
      "answer =  6\n"
     ]
    }
   ],
   "source": [
    "s = \", , , ,        a, eaefa\"\n",
    "answer = segments(s)\n",
    "print(\"\\nanswer = \", answer)"
   ]
  },
  {
   "cell_type": "markdown",
   "metadata": {},
   "source": [
    "### Leetcode"
   ]
  },
  {
   "cell_type": "code",
   "execution_count": 52,
   "metadata": {},
   "outputs": [],
   "source": [
    "class Solution(object):\n",
    "    def countSegments(self, s):\n",
    "        \"\"\"\n",
    "        :type s: str\n",
    "        :rtype: int\n",
    "        \"\"\"\n",
    "        return segments(s)\n",
    "    \n",
    "\n",
    "def segments(s):\n",
    "    \n",
    "    s = \" \".join(s.split())\n",
    "    \n",
    "    if len(s) == 0:\n",
    "        return 0\n",
    "    return s.count(' ') + 1"
   ]
  },
  {
   "cell_type": "markdown",
   "metadata": {},
   "source": [
    "**Runtime 31 ms, Beats 29.81%**\n",
    "\n",
    "**Memory 13.7 MB, Beats 9.6%**"
   ]
  },
  {
   "cell_type": "code",
   "execution_count": null,
   "metadata": {},
   "outputs": [],
   "source": []
  }
 ],
 "metadata": {
  "kernelspec": {
   "display_name": "Python 3",
   "language": "python",
   "name": "python3"
  },
  "language_info": {
   "codemirror_mode": {
    "name": "ipython",
    "version": 3
   },
   "file_extension": ".py",
   "mimetype": "text/x-python",
   "name": "python",
   "nbconvert_exporter": "python",
   "pygments_lexer": "ipython3",
   "version": "3.7.13"
  }
 },
 "nbformat": 4,
 "nbformat_minor": 4
}
