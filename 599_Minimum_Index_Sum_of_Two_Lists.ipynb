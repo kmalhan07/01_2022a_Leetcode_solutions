{
 "cells": [
  {
   "cell_type": "markdown",
   "metadata": {},
   "source": [
    "### 599. Minimum Index Sum of Two Lists\n",
    "\n",
    "### https://leetcode.com/problems/minimum-index-sum-of-two-lists/"
   ]
  },
  {
   "cell_type": "code",
   "execution_count": 13,
   "metadata": {},
   "outputs": [],
   "source": [
    "def mistl(list1, list2):\n",
    "    \n",
    "    list_ans = []\n",
    "    \n",
    "    min_index = len(list1) + len(list2)\n",
    "    \n",
    "    for e1 in list1:\n",
    "        if e1 in list2:\n",
    "            \n",
    "            if list2.index(e1) + list1.index(e1) < min_index:\n",
    "                list_ans = []\n",
    "                list_ans.append(e1)\n",
    "                min_index = list2.index(e1) + list1.index(e1)\n",
    "            elif  list2.index(e1) + list1.index(e1) == min_index:\n",
    "                list_ans.append(e1)\n",
    "            \n",
    "    return list_ans"
   ]
  },
  {
   "cell_type": "code",
   "execution_count": 14,
   "metadata": {},
   "outputs": [
    {
     "name": "stdout",
     "output_type": "stream",
     "text": [
      "\n",
      "answer =  ['Shogun']\n"
     ]
    }
   ],
   "source": [
    "list1 = [\"Shogun\",\"Tapioca Express\",\"Burger King\",\"KFC\"]\n",
    "list2 = [\"Piatti\",\"The Grill at Torrey Pines\",\"Hungry Hunter Steakhouse\",\"Shogun\"]\n",
    "answer = mistl(list1, list2)\n",
    "print(\"\\nanswer = \", answer)"
   ]
  },
  {
   "cell_type": "code",
   "execution_count": 15,
   "metadata": {},
   "outputs": [
    {
     "name": "stdout",
     "output_type": "stream",
     "text": [
      "\n",
      "answer =  ['Shogun']\n"
     ]
    }
   ],
   "source": [
    "list1 = [\"Shogun\",\"Tapioca Express\",\"Burger King\",\"KFC\"]\n",
    "list2 = [\"KFC\",\"Shogun\",\"Burger King\"]\n",
    "answer = mistl(list1, list2)\n",
    "print(\"\\nanswer = \", answer)"
   ]
  },
  {
   "cell_type": "code",
   "execution_count": 16,
   "metadata": {},
   "outputs": [
    {
     "name": "stdout",
     "output_type": "stream",
     "text": [
      "\n",
      "answer =  ['happy', 'sad']\n"
     ]
    }
   ],
   "source": [
    "list1 = [\"happy\",\"sad\",\"good\"]\n",
    "list2 = [\"sad\",\"happy\",\"good\"]\n",
    "answer = mistl(list1, list2)\n",
    "print(\"\\nanswer = \", answer)"
   ]
  },
  {
   "cell_type": "markdown",
   "metadata": {},
   "source": [
    "### Leetcode"
   ]
  },
  {
   "cell_type": "code",
   "execution_count": 17,
   "metadata": {},
   "outputs": [],
   "source": [
    "class Solution(object):\n",
    "    def findRestaurant(self, list1, list2):\n",
    "        \"\"\"\n",
    "        :type list1: List[str]\n",
    "        :type list2: List[str]\n",
    "        :rtype: List[str]\n",
    "        \"\"\"\n",
    "        return mistl(list1, list2)\n",
    "    \n",
    "def mistl(list1, list2):\n",
    "    \n",
    "    list_ans = []\n",
    "    \n",
    "    min_index = len(list1) + len(list2)\n",
    "    \n",
    "    for e1 in list1:\n",
    "        if e1 in list2:\n",
    "            \n",
    "            if list2.index(e1) + list1.index(e1) < min_index:\n",
    "                list_ans = []\n",
    "                list_ans.append(e1)\n",
    "                min_index = list2.index(e1) + list1.index(e1)\n",
    "            elif  list2.index(e1) + list1.index(e1) == min_index:\n",
    "                list_ans.append(e1)\n",
    "            \n",
    "    return list_ans"
   ]
  },
  {
   "cell_type": "markdown",
   "metadata": {},
   "source": [
    "**Runtime 1078 ms, Beats 16.49%**\n",
    "\n",
    "**Memory 13.9 MB, Beats 56.27%**"
   ]
  },
  {
   "cell_type": "code",
   "execution_count": null,
   "metadata": {},
   "outputs": [],
   "source": []
  }
 ],
 "metadata": {
  "kernelspec": {
   "display_name": "Python 3",
   "language": "python",
   "name": "python3"
  },
  "language_info": {
   "codemirror_mode": {
    "name": "ipython",
    "version": 3
   },
   "file_extension": ".py",
   "mimetype": "text/x-python",
   "name": "python",
   "nbconvert_exporter": "python",
   "pygments_lexer": "ipython3",
   "version": "3.7.13"
  }
 },
 "nbformat": 4,
 "nbformat_minor": 4
}
