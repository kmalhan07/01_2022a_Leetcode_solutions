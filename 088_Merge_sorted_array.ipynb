{
 "cells": [
  {
   "cell_type": "markdown",
   "metadata": {},
   "source": [
    "### https://leetcode.com/problems/merge-sorted-array/\n",
    "\n",
    "### 88. Merge Sorted Array\n",
    "\n",
    "> ***Constraints:***\n",
    "\n",
    "$\\bullet$    nums1.length == m + n\n",
    "\n",
    "$\\bullet$    nums2.length == n\n",
    "\n",
    "$\\bullet$    0 <= m, n <= 200\n",
    "\n",
    "$\\bullet$    1 <= m + n <= 200\n",
    "\n",
    "$\\bullet$    -10^9 <= nums1[i], nums2[j] <= 10^9\n",
    "\n",
    " "
   ]
  },
  {
   "cell_type": "code",
   "execution_count": 27,
   "metadata": {},
   "outputs": [],
   "source": [
    "# return an array that is sorted via \"binary sorting\"\n",
    "def bubble_sorting(array):\n",
    "    print(\"performing sorting\")\n",
    "    \n",
    "    for i in range(0,len(array)):\n",
    "        for j in range(0,len(array) - i -1):\n",
    "            \n",
    "            if array[j] > array[j + 1]:\n",
    "                tmp1 = array[j]\n",
    "                array[j] = array[j + 1]\n",
    "                array[j + 1] = tmp1\n",
    "            \n",
    "    return array\n",
    "    \n",
    "    \n",
    "def merge(nums1, m, nums2, n):\n",
    "    \n",
    "    #print\n",
    "    print(\"\\n\")\n",
    "    print(\"nums1 = \", nums1, \"\\tm =\", m)\n",
    "    print(\"nums2 = \", nums2, \"\\tn =\", n)\n",
    "    \n",
    "    # new merged array into nums1\n",
    "    print(\"\\n\")\n",
    "    nums1[:] = nums1[:m] + nums2[:n]\n",
    "    print(\"nums1 = \", nums1)\n",
    "    \n",
    "    # sort array into non-decreasing order\n",
    "    print(\"\\n\")\n",
    "    nums1 = bubble_sorting(nums1)\n",
    "    print(\"nums1 = \", nums1)\n",
    "    \n",
    "#     return nums1\n",
    "    "
   ]
  },
  {
   "cell_type": "code",
   "execution_count": 28,
   "metadata": {},
   "outputs": [
    {
     "name": "stdout",
     "output_type": "stream",
     "text": [
      "\n",
      "\n",
      "nums1 =  [1, 2, 3, 0, 0, 0] \tm = 3\n",
      "nums2 =  [2, 5, 6] \tn = 3\n",
      "\n",
      "\n",
      "nums1 =  [1, 2, 3, 2, 5, 6]\n",
      "\n",
      "\n",
      "performing sorting\n",
      "nums1 =  [1, 2, 2, 3, 5, 6]\n",
      "\n",
      "\n",
      "nums1 =  [1, 2, 2, 3, 5, 6]\n"
     ]
    }
   ],
   "source": [
    "nums1 = [1,2,3,0,0,0]\n",
    "m = 3\n",
    "\n",
    "nums2 = [2,5,6]\n",
    "n = 3\n",
    "\n",
    "merge(nums1, m, nums2, n)\n",
    "print(\"\\n\\nnums1 = \", nums1)"
   ]
  },
  {
   "cell_type": "code",
   "execution_count": 29,
   "metadata": {},
   "outputs": [
    {
     "name": "stdout",
     "output_type": "stream",
     "text": [
      "\n",
      "\n",
      "nums1 =  [1, 2, 3, 10, 0] \tm = 4\n",
      "nums2 =  [2, 5, 6] \tn = 3\n",
      "\n",
      "\n",
      "nums1 =  [1, 2, 3, 10, 2, 5, 6]\n",
      "\n",
      "\n",
      "performing sorting\n",
      "nums1 =  [1, 2, 2, 3, 5, 6, 10]\n",
      "\n",
      "\n",
      "nums1 =  [1, 2, 2, 3, 5, 6, 10]\n"
     ]
    }
   ],
   "source": [
    "nums1 = [1,2,3,10, 0]\n",
    "m = 4\n",
    "\n",
    "nums2 = [2,5,6]\n",
    "n = 3\n",
    "\n",
    "merge(nums1, m, nums2, n)\n",
    "print(\"\\n\\nnums1 = \", nums1)"
   ]
  },
  {
   "cell_type": "markdown",
   "metadata": {},
   "source": [
    "# Leetcode solution"
   ]
  },
  {
   "cell_type": "code",
   "execution_count": null,
   "metadata": {},
   "outputs": [],
   "source": [
    "class Solution(object):\n",
    "    def merge(self, nums1, m, nums2, n):\n",
    "        \"\"\"\n",
    "        :type nums1: List[int]\n",
    "        :type m: int\n",
    "        :type nums2: List[int]\n",
    "        :type n: int\n",
    "        :rtype: None Do not return anything, modify nums1 in-place instead.\n",
    "        \"\"\"\n",
    "        merge(nums1, m, nums2, n)\n",
    "        \n",
    "        \n",
    "        \n",
    "# return an array that is sorted via \"binary sorting\"\n",
    "def bubble_sorting(array):\n",
    "    \n",
    "    for i in range(0,len(array)):\n",
    "        for j in range(0,len(array) - i -1):\n",
    "            \n",
    "            if array[j] > array[j + 1]:\n",
    "                tmp1 = array[j]\n",
    "                array[j] = array[j + 1]\n",
    "                array[j + 1] = tmp1\n",
    "            \n",
    "    return array\n",
    "    \n",
    "    \n",
    "def merge(nums1, m, nums2, n):\n",
    "    \n",
    "    # new merged array into nums1\n",
    "    nums1[:] = nums1[:m] + nums2[:n]\n",
    "    \n",
    "    # sort array into non-decreasing order\n",
    "    nums1 = bubble_sorting(nums1)"
   ]
  },
  {
   "cell_type": "markdown",
   "metadata": {},
   "source": [
    "**Runtime: 52 ms, faster than 10.32% of Python online submissions for Merge Sorted Array.**\n",
    "\n",
    "**Memory Usage: 13.1 MB, less than 98.14% of Python online submissions for Merge Sorted Array.**"
   ]
  },
  {
   "cell_type": "code",
   "execution_count": null,
   "metadata": {},
   "outputs": [],
   "source": []
  }
 ],
 "metadata": {
  "kernelspec": {
   "display_name": "Python 3",
   "language": "python",
   "name": "python3"
  },
  "language_info": {
   "codemirror_mode": {
    "name": "ipython",
    "version": 3
   },
   "file_extension": ".py",
   "mimetype": "text/x-python",
   "name": "python",
   "nbconvert_exporter": "python",
   "pygments_lexer": "ipython3",
   "version": "3.7.13"
  }
 },
 "nbformat": 4,
 "nbformat_minor": 4
}
