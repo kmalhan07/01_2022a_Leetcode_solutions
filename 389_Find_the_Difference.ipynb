{
 "cells": [
  {
   "cell_type": "markdown",
   "metadata": {},
   "source": [
    "### 389. Find the Difference\n",
    "\n",
    "### https://leetcode.com/problems/find-the-difference/\n",
    "\n",
    "**Constraints:**\n",
    "\n",
    "$\\bullet$ 0 <= s.length <= 1000\n",
    "    \n",
    "$\\bullet$ t.length == s.length + 1\n",
    "    \n",
    "$\\bullet$ s and t consist of lowercase English letters.\n"
   ]
  },
  {
   "cell_type": "code",
   "execution_count": 30,
   "metadata": {},
   "outputs": [],
   "source": [
    "def diff(s, t):\n",
    "    \n",
    "    for char in t:\n",
    "        if t.count(char) != s.count(char):\n",
    "            return char"
   ]
  },
  {
   "cell_type": "code",
   "execution_count": 31,
   "metadata": {},
   "outputs": [
    {
     "name": "stdout",
     "output_type": "stream",
     "text": [
      "\n",
      "answer =  e\n"
     ]
    }
   ],
   "source": [
    "s = \"abcd\"\n",
    "t = \"abcde\"\n",
    "answer = diff(s, t)\n",
    "print(\"\\nanswer = \", answer)"
   ]
  },
  {
   "cell_type": "code",
   "execution_count": 32,
   "metadata": {},
   "outputs": [
    {
     "name": "stdout",
     "output_type": "stream",
     "text": [
      "\n",
      "answer =  y\n"
     ]
    }
   ],
   "source": [
    "s = \"\"\n",
    "t = \"y\"\n",
    "answer = diff(s, t)\n",
    "print(\"\\nanswer = \", answer)"
   ]
  },
  {
   "cell_type": "markdown",
   "metadata": {},
   "source": [
    "### Leetcode"
   ]
  },
  {
   "cell_type": "code",
   "execution_count": 34,
   "metadata": {},
   "outputs": [],
   "source": [
    "class Solution(object):\n",
    "    def findTheDifference(self, s, t):\n",
    "        \"\"\"\n",
    "        :type s: str\n",
    "        :type t: str\n",
    "        :rtype: str\n",
    "        \"\"\"\n",
    "        return diff(s, t)\n",
    "    \n",
    "def diff(s, t):\n",
    "    \n",
    "    for char in t:\n",
    "        if t.count(char) != s.count(char):\n",
    "            return char\n"
   ]
  },
  {
   "cell_type": "markdown",
   "metadata": {},
   "source": [
    "**Runtime 36 ms, Beats 63.6%**\n",
    "\n",
    "**Memory 13.4 MB, Beats 89.31%**"
   ]
  },
  {
   "cell_type": "code",
   "execution_count": null,
   "metadata": {},
   "outputs": [],
   "source": []
  }
 ],
 "metadata": {
  "kernelspec": {
   "display_name": "Python 3",
   "language": "python",
   "name": "python3"
  },
  "language_info": {
   "codemirror_mode": {
    "name": "ipython",
    "version": 3
   },
   "file_extension": ".py",
   "mimetype": "text/x-python",
   "name": "python",
   "nbconvert_exporter": "python",
   "pygments_lexer": "ipython3",
   "version": "3.7.13"
  }
 },
 "nbformat": 4,
 "nbformat_minor": 4
}
