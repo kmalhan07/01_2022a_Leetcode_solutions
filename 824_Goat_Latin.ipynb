{
 "cells": [
  {
   "cell_type": "markdown",
   "metadata": {},
   "source": [
    "### 824. Goat Latin\n",
    "\n",
    "### https://leetcode.com/problems/goat-latin/"
   ]
  },
  {
   "cell_type": "code",
   "execution_count": 6,
   "metadata": {},
   "outputs": [],
   "source": [
    "def GL(sentence):\n",
    "    \n",
    "    words = sentence.split()\n",
    "    \n",
    "    result = \"\"\n",
    "    word_counter = 0\n",
    "    for w in words:\n",
    "        word_counter+=1\n",
    "        \n",
    "        if w[0] not in ['a', 'e', 'i', 'o', 'u'] and w[0] not in ['A', 'E', 'I', 'O', 'U']:\n",
    "            result+=w[1:] + w[0] + \"ma\" + \"a\"*word_counter + \" \"\n",
    "            \n",
    "        if w[0] in ['a', 'e', 'i', 'o', 'u'] or w[0] in ['A', 'E', 'I', 'O', 'U']:\n",
    "            result+=w + \"ma\" + \"a\"*word_counter + \" \"\n",
    "        \n",
    "    return result[:-1]"
   ]
  },
  {
   "cell_type": "code",
   "execution_count": 7,
   "metadata": {},
   "outputs": [
    {
     "name": "stdout",
     "output_type": "stream",
     "text": [
      "\n",
      "answer =  Imaa peaksmaaa oatGmaaaa atinLmaaaaa \n"
     ]
    }
   ],
   "source": [
    "sentence = \"I speak Goat Latin\"\n",
    "answer = GL(sentence)\n",
    "print(\"\\nanswer = \", answer)"
   ]
  },
  {
   "cell_type": "code",
   "execution_count": 8,
   "metadata": {},
   "outputs": [
    {
     "name": "stdout",
     "output_type": "stream",
     "text": [
      "\n",
      "answer =  heTmaa uickqmaaa rownbmaaaa oxfmaaaaa umpedjmaaaaaa overmaaaaaaa hetmaaaaaaaa azylmaaaaaaaaa ogdmaaaaaaaaaa \n"
     ]
    }
   ],
   "source": [
    "sentence = \"The quick brown fox jumped over the lazy dog\"\n",
    "answer = GL(sentence)\n",
    "print(\"\\nanswer = \", answer)"
   ]
  },
  {
   "cell_type": "markdown",
   "metadata": {},
   "source": [
    "### Leetcode"
   ]
  },
  {
   "cell_type": "code",
   "execution_count": 9,
   "metadata": {},
   "outputs": [],
   "source": [
    "class Solution(object):\n",
    "    def toGoatLatin(self, sentence):\n",
    "        \"\"\"\n",
    "        :type sentence: str\n",
    "        :rtype: str\n",
    "        \"\"\"\n",
    "        return GL(sentence)\n",
    "    \n",
    "def GL(sentence):\n",
    "    \n",
    "    words = sentence.split()\n",
    "    \n",
    "    result = \"\"\n",
    "    word_counter = 0\n",
    "    for w in words:\n",
    "        word_counter+=1\n",
    "        \n",
    "        if w[0] not in ['a', 'e', 'i', 'o', 'u'] and w[0] not in ['A', 'E', 'I', 'O', 'U']:\n",
    "            result+=w[1:] + w[0] + \"ma\" + \"a\"*word_counter + \" \"\n",
    "            \n",
    "        if w[0] in ['a', 'e', 'i', 'o', 'u'] or w[0] in ['A', 'E', 'I', 'O', 'U']:\n",
    "            result+=w + \"ma\" + \"a\"*word_counter + \" \"\n",
    "        \n",
    "    return result[:-1]    "
   ]
  },
  {
   "cell_type": "markdown",
   "metadata": {},
   "source": [
    "**Runtime 17 ms, Beats 93.75%**\n",
    "\n",
    "**Memory 13.6 MB, Beats 18.6%**"
   ]
  },
  {
   "cell_type": "code",
   "execution_count": null,
   "metadata": {},
   "outputs": [],
   "source": []
  }
 ],
 "metadata": {
  "kernelspec": {
   "display_name": "Python 3",
   "language": "python",
   "name": "python3"
  },
  "language_info": {
   "codemirror_mode": {
    "name": "ipython",
    "version": 3
   },
   "file_extension": ".py",
   "mimetype": "text/x-python",
   "name": "python",
   "nbconvert_exporter": "python",
   "pygments_lexer": "ipython3",
   "version": "3.7.13"
  }
 },
 "nbformat": 4,
 "nbformat_minor": 4
}
