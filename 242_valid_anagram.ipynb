{
 "cells": [
  {
   "cell_type": "markdown",
   "metadata": {},
   "source": [
    "### https://leetcode.com/problems/valid-anagram/\n",
    "\n",
    "### 242. Valid Anagram\n",
    "\n",
    "**Constraints:**\n",
    "\n",
    "$\\bullet$ 1 <= s.length, t.length <= 5 * $10^4$\n",
    "\n",
    "$\\bullet$ s and t consist of lowercase English letters.\n"
   ]
  },
  {
   "cell_type": "code",
   "execution_count": 18,
   "metadata": {},
   "outputs": [],
   "source": [
    "def is_anagram(s, t):\n",
    "    \n",
    "    import collections\n",
    "    compare = lambda x, y: collections.Counter(x) == collections.Counter(y)\n",
    "    \n",
    "    return compare(s, t)"
   ]
  },
  {
   "cell_type": "code",
   "execution_count": 19,
   "metadata": {},
   "outputs": [
    {
     "name": "stdout",
     "output_type": "stream",
     "text": [
      "\n",
      "answer =  True\n"
     ]
    }
   ],
   "source": [
    "s = \"anagram\"\n",
    "t = \"nagaram\"\n",
    "answer = is_anagram(s, t)\n",
    "print(\"\\nanswer = \", answer)"
   ]
  },
  {
   "cell_type": "code",
   "execution_count": 20,
   "metadata": {},
   "outputs": [
    {
     "name": "stdout",
     "output_type": "stream",
     "text": [
      "\n",
      "answer =  False\n"
     ]
    }
   ],
   "source": [
    "s = \"rat\"\n",
    "t = \"car\"\n",
    "answer = is_anagram(s, t)\n",
    "print(\"\\nanswer = \", answer)"
   ]
  },
  {
   "cell_type": "code",
   "execution_count": 21,
   "metadata": {},
   "outputs": [
    {
     "name": "stdout",
     "output_type": "stream",
     "text": [
      "\n",
      "answer =  False\n"
     ]
    }
   ],
   "source": [
    "s = \"aacc\"\n",
    "t = \"ccac\"\n",
    "answer = is_anagram(s, t)\n",
    "print(\"\\nanswer = \", answer)"
   ]
  },
  {
   "cell_type": "code",
   "execution_count": 17,
   "metadata": {},
   "outputs": [
    {
     "name": "stdout",
     "output_type": "stream",
     "text": [
      "1.  True\n",
      "2.  False\n"
     ]
    }
   ],
   "source": [
    "s = ['a', 'a', 'c', 'c']\n",
    "t = ['c', 'c', 'a', 'c']\n",
    "print(\"1. \",all(elem in s  for elem in t))\n",
    "\n",
    "\n",
    "import collections\n",
    "compare = lambda x, y: collections.Counter(x) == collections.Counter(y)\n",
    "\n",
    "print(\"2. \", compare(s, t))"
   ]
  },
  {
   "cell_type": "markdown",
   "metadata": {},
   "source": [
    "### Leetcode solution"
   ]
  },
  {
   "cell_type": "code",
   "execution_count": 6,
   "metadata": {},
   "outputs": [],
   "source": [
    "class Solution(object):\n",
    "    def isAnagram(self, s, t):\n",
    "        \"\"\"\n",
    "        :type s: str\n",
    "        :type t: str\n",
    "        :rtype: bool\n",
    "        \"\"\"\n",
    "        return is_anagram(s, t)\n",
    "    \n",
    "\n",
    "def is_anagram(s, t):\n",
    "    \n",
    "    import collections\n",
    "    compare = lambda x, y: collections.Counter(x) == collections.Counter(y)\n",
    "    \n",
    "    return compare(s, t)"
   ]
  },
  {
   "cell_type": "markdown",
   "metadata": {},
   "source": [
    "**Runtime: 140 ms, faster than 10.33% of Python online submissions for Valid Anagram.**\n",
    "    \n",
    "**Memory Usage: 13.9 MB, less than 77.68% of Python online submissions for Valid Anagram.**"
   ]
  },
  {
   "cell_type": "code",
   "execution_count": null,
   "metadata": {},
   "outputs": [],
   "source": []
  }
 ],
 "metadata": {
  "kernelspec": {
   "display_name": "Python 3",
   "language": "python",
   "name": "python3"
  },
  "language_info": {
   "codemirror_mode": {
    "name": "ipython",
    "version": 3
   },
   "file_extension": ".py",
   "mimetype": "text/x-python",
   "name": "python",
   "nbconvert_exporter": "python",
   "pygments_lexer": "ipython3",
   "version": "3.7.13"
  }
 },
 "nbformat": 4,
 "nbformat_minor": 4
}
