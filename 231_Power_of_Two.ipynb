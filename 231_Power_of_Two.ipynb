{
 "cells": [
  {
   "cell_type": "markdown",
   "metadata": {},
   "source": [
    "### https://leetcode.com/problems/power-of-two/\n",
    "\n",
    "### https://leetcode.com/problems/power-of-two/\n",
    "\n",
    "**Constraints**:\n",
    "\n",
    "$\\bullet$ $-2^{31}$ <= n <= $2^{31}$ - 1"
   ]
  },
  {
   "cell_type": "code",
   "execution_count": 18,
   "metadata": {},
   "outputs": [],
   "source": [
    "def power_two(n):\n",
    "    if n <= 0:\n",
    "        return False\n",
    "    \n",
    "    import math\n",
    "    x = int(math.log(n,2))\n",
    "    if 2**x == n:\n",
    "        return True\n",
    "    else:\n",
    "        return False\n"
   ]
  },
  {
   "cell_type": "code",
   "execution_count": 19,
   "metadata": {},
   "outputs": [
    {
     "name": "stdout",
     "output_type": "stream",
     "text": [
      "\n",
      "answer =  True\n"
     ]
    }
   ],
   "source": [
    "n = 1\n",
    "answer = power_two(n)\n",
    "print(\"\\nanswer = \", answer)"
   ]
  },
  {
   "cell_type": "code",
   "execution_count": 20,
   "metadata": {},
   "outputs": [
    {
     "name": "stdout",
     "output_type": "stream",
     "text": [
      "\n",
      "answer =  True\n"
     ]
    }
   ],
   "source": [
    "n = 16\n",
    "answer = power_two(n)\n",
    "print(\"\\nanswer = \", answer)"
   ]
  },
  {
   "cell_type": "code",
   "execution_count": 21,
   "metadata": {},
   "outputs": [
    {
     "name": "stdout",
     "output_type": "stream",
     "text": [
      "\n",
      "answer =  False\n"
     ]
    }
   ],
   "source": [
    "n = 3\n",
    "answer = power_two(n)\n",
    "print(\"\\nanswer = \", answer)"
   ]
  },
  {
   "cell_type": "markdown",
   "metadata": {},
   "source": [
    "### Leetcode"
   ]
  },
  {
   "cell_type": "code",
   "execution_count": 23,
   "metadata": {},
   "outputs": [],
   "source": [
    "class Solution(object):\n",
    "    def isPowerOfTwo(self, n):\n",
    "        \"\"\"\n",
    "        :type n: int\n",
    "        :rtype: bool\n",
    "        \"\"\"\n",
    "        return power_two(n)\n",
    "    \n",
    "    \n",
    "def power_two(n):\n",
    "    if n <= 0:\n",
    "        return False\n",
    "    \n",
    "    import math\n",
    "    x = int(math.log(n,2))\n",
    "    if 2**x == n:\n",
    "        return True\n",
    "    else:\n",
    "        return False\n",
    "\n",
    "\n"
   ]
  },
  {
   "cell_type": "markdown",
   "metadata": {},
   "source": [
    "**Runtime: 36 ms, faster than 38.19% of Python online submissions for Power of Two.**\n",
    "    \n",
    "**Memory Usage: 13.3 MB, less than 64.48% of Python online submissions for Power of Two.**"
   ]
  },
  {
   "cell_type": "code",
   "execution_count": null,
   "metadata": {},
   "outputs": [],
   "source": []
  }
 ],
 "metadata": {
  "kernelspec": {
   "display_name": "Python 3",
   "language": "python",
   "name": "python3"
  },
  "language_info": {
   "codemirror_mode": {
    "name": "ipython",
    "version": 3
   },
   "file_extension": ".py",
   "mimetype": "text/x-python",
   "name": "python",
   "nbconvert_exporter": "python",
   "pygments_lexer": "ipython3",
   "version": "3.7.13"
  }
 },
 "nbformat": 4,
 "nbformat_minor": 4
}
