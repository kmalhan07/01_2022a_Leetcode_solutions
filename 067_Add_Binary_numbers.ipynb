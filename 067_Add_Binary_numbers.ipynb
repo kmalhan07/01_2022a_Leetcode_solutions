{
 "cells": [
  {
   "cell_type": "markdown",
   "metadata": {},
   "source": [
    "### https://leetcode.com/problems/add-binary/\n",
    "\n",
    "### 67. Add Binary\n",
    "\n",
    "Given two binary strings a and b, return their sum as a binary string.\n",
    "\n",
    "\n",
    "***Constraints:***\n",
    "\n",
    "$\\bullet$ 1 <= a.length, b.length <= 104\n",
    "\n",
    "$\\bullet$ a and b consist only of '0' or '1' characters.\n",
    "\n",
    "$\\bullet$ Each string does not contain leading zeros except for the zero itself.\n",
    "\n",
    " "
   ]
  },
  {
   "cell_type": "code",
   "execution_count": 83,
   "metadata": {},
   "outputs": [],
   "source": [
    "def sum_binary(a_bin_digit, b_bin_digit, carry):\n",
    "    \n",
    "    '''\n",
    "    Rules to add binary numbers:\n",
    "    0 + 0 = 0\n",
    "    0 + 1 = 1\n",
    "    1 + 0 = 1\n",
    "    1 + 1 = 10      ( carry 1 to the next significant bit)\n",
    "    1 + 1 + 1 = 11  ( carry 1 to the next significant bit)\n",
    "    '''\n",
    "    \n",
    "    \n",
    "    if carry == \"0\":\n",
    "        if (a_bin_digit == \"0\"  and b_bin_digit == \"0\"):\n",
    "            sum1, carry = \"0\", \"0\"\n",
    "        elif ((a_bin_digit == \"0\"  and b_bin_digit == \"1\") or (a_bin_digit == \"1\"  and b_bin_digit == \"0\")):\n",
    "            sum1, carry = \"1\", \"0\"\n",
    "        elif (a_bin_digit == \"1\"  and b_bin_digit == \"1\"):\n",
    "            sum1, carry = \"0\", \"1\"\n",
    "    elif carry == \"1\":\n",
    "        if (a_bin_digit == \"0\"  and b_bin_digit == \"0\"):\n",
    "            sum1, carry = \"1\", \"0\"\n",
    "        elif ((a_bin_digit == \"0\"  and b_bin_digit == \"1\") or (a_bin_digit == \"1\"  and b_bin_digit == \"0\")):\n",
    "            sum1, carry = \"0\", \"1\"\n",
    "        elif (a_bin_digit == \"1\"  and b_bin_digit == \"1\"):\n",
    "            sum1, carry = \"1\", \"1\"\n",
    "      \n",
    "    return sum1, carry\n",
    "        \n",
    "        \n",
    "\n",
    "def return_two_strings_of_equal_length(a, b):\n",
    "    '''\n",
    "    make two strings equal in length, by adding 0s to that string with smaller in length\n",
    "    '''\n",
    "        \n",
    "    N_a, N_b = len(a), len(b)\n",
    "    \n",
    "\n",
    "    if N_a == N_b:\n",
    "        pass\n",
    "    elif N_a < N_b:\n",
    "        while N_a < N_b:\n",
    "            a = \"0\" + a\n",
    "            N_a+=1\n",
    "    elif N_a > N_b:\n",
    "        while N_a > N_b:\n",
    "            b = \"0\" + b\n",
    "            N_b+=1\n",
    "            \n",
    "    return a, b\n",
    "            \n",
    "    \n",
    "    \n",
    "    \n",
    "def addBinary(a, b):\n",
    "\n",
    "    print(\"\\nInput values (a, b are strings)\\na = \", a, \"\\nb = \", b)\n",
    "    \n",
    "    a, b = return_two_strings_of_equal_length(a, b) \n",
    "    print(\"\\nNew a, b values (after making strings of equal length)\")\n",
    "    print(\"a = \", a, \"\\nb = \", b)\n",
    "        \n",
    "    answer = \"\"\n",
    "    carry = \"0\"\n",
    "    for index in range(len(a) - 1, -1, -1):\n",
    "        sum1, carry = sum_binary(a[index], b[index], carry)\n",
    "        answer = sum1 + answer\n",
    "    \n",
    "    if carry == \"1\":\n",
    "        sum1, carry = sum_binary(\"0\", \"0\", carry)\n",
    "        answer = sum1 + answer        \n",
    "    \n",
    "    return answer\n",
    "        \n"
   ]
  },
  {
   "cell_type": "code",
   "execution_count": 87,
   "metadata": {},
   "outputs": [
    {
     "name": "stdout",
     "output_type": "stream",
     "text": [
      "\n",
      "Input values (a, b are strings)\n",
      "a =  0 \n",
      "b =  0\n",
      "\n",
      "New a, b values (after making strings of equal length)\n",
      "a =  0 \n",
      "b =  0\n",
      "\n",
      "\n",
      "answer =  0\n"
     ]
    }
   ],
   "source": [
    "a = \"0\"\n",
    "b = \"0\"\n",
    "answer = addBinary(a, b)\n",
    "print(\"\\n\\nanswer = \", answer)"
   ]
  },
  {
   "cell_type": "code",
   "execution_count": 88,
   "metadata": {},
   "outputs": [
    {
     "name": "stdout",
     "output_type": "stream",
     "text": [
      "\n",
      "Input values (a, b are strings)\n",
      "a =  0 \n",
      "b =  1\n",
      "\n",
      "New a, b values (after making strings of equal length)\n",
      "a =  0 \n",
      "b =  1\n",
      "\n",
      "\n",
      "answer =  1\n"
     ]
    }
   ],
   "source": [
    "a = \"0\"\n",
    "b = \"1\"\n",
    "answer = addBinary(a, b)\n",
    "print(\"\\n\\nanswer = \", answer)"
   ]
  },
  {
   "cell_type": "code",
   "execution_count": 89,
   "metadata": {},
   "outputs": [
    {
     "name": "stdout",
     "output_type": "stream",
     "text": [
      "\n",
      "Input values (a, b are strings)\n",
      "a =  1 \n",
      "b =  1\n",
      "\n",
      "New a, b values (after making strings of equal length)\n",
      "a =  1 \n",
      "b =  1\n",
      "\n",
      "\n",
      "answer =  10\n"
     ]
    }
   ],
   "source": [
    "a = \"1\"\n",
    "b = \"1\"\n",
    "answer = addBinary(a, b)\n",
    "print(\"\\n\\nanswer = \", answer)"
   ]
  },
  {
   "cell_type": "code",
   "execution_count": 90,
   "metadata": {},
   "outputs": [
    {
     "name": "stdout",
     "output_type": "stream",
     "text": [
      "\n",
      "Input values (a, b are strings)\n",
      "a =  10 \n",
      "b =  101\n",
      "\n",
      "New a, b values (after making strings of equal length)\n",
      "a =  010 \n",
      "b =  101\n",
      "\n",
      "\n",
      "answer =  111\n"
     ]
    }
   ],
   "source": [
    "a = \"10\"\n",
    "b = \"101\"\n",
    "answer = addBinary(a, b)\n",
    "print(\"\\n\\nanswer = \", answer)"
   ]
  },
  {
   "cell_type": "code",
   "execution_count": 91,
   "metadata": {},
   "outputs": [
    {
     "name": "stdout",
     "output_type": "stream",
     "text": [
      "\n",
      "Input values (a, b are strings)\n",
      "a =  1001 \n",
      "b =  111\n",
      "\n",
      "New a, b values (after making strings of equal length)\n",
      "a =  1001 \n",
      "b =  0111\n",
      "\n",
      "\n",
      "answer =  10000\n"
     ]
    }
   ],
   "source": [
    "a = \"1001\"\n",
    "b = \"111\"\n",
    "answer = addBinary(a, b)\n",
    "print(\"\\n\\nanswer = \", answer)"
   ]
  },
  {
   "cell_type": "code",
   "execution_count": 93,
   "metadata": {},
   "outputs": [
    {
     "name": "stdout",
     "output_type": "stream",
     "text": [
      "\n",
      "Input values (a, b are strings)\n",
      "a =  100110 \n",
      "b =  110101\n",
      "\n",
      "New a, b values (after making strings of equal length)\n",
      "a =  100110 \n",
      "b =  110101\n",
      "\n",
      "answer =  1011011\n"
     ]
    }
   ],
   "source": [
    "a = \"100110\"\n",
    "b = \"110101\"\n",
    "answer = addBinary(a, b)\n",
    "print(\"\\nanswer = \", answer)"
   ]
  },
  {
   "cell_type": "code",
   "execution_count": 94,
   "metadata": {},
   "outputs": [
    {
     "name": "stdout",
     "output_type": "stream",
     "text": [
      "\n",
      "Input values (a, b are strings)\n",
      "a =  101 \n",
      "b =  100110\n",
      "\n",
      "New a, b values (after making strings of equal length)\n",
      "a =  000101 \n",
      "b =  100110\n",
      "\n",
      "answer =  101011\n"
     ]
    }
   ],
   "source": [
    "a = \"101\"\n",
    "b = \"100110\"\n",
    "answer = addBinary(a, b)\n",
    "print(\"\\nanswer = \", answer)"
   ]
  },
  {
   "cell_type": "code",
   "execution_count": 95,
   "metadata": {},
   "outputs": [
    {
     "name": "stdout",
     "output_type": "stream",
     "text": [
      "\n",
      "Input values (a, b are strings)\n",
      "a =  100110 \n",
      "b =  110101\n",
      "\n",
      "New a, b values (after making strings of equal length)\n",
      "a =  100110 \n",
      "b =  110101\n",
      "\n",
      "answer =  1011011\n"
     ]
    }
   ],
   "source": [
    "a = \"100110\"\n",
    "b = \"110101\"\n",
    "answer = addBinary(a, b)\n",
    "print(\"\\nanswer = \", answer)"
   ]
  },
  {
   "cell_type": "markdown",
   "metadata": {},
   "source": [
    "### Leetcode solution\n",
    "\n",
    "https://leetcode.com/problems/add-binary/"
   ]
  },
  {
   "cell_type": "code",
   "execution_count": 96,
   "metadata": {},
   "outputs": [],
   "source": [
    "class Solution(object):\n",
    "    def addBinary(self, a, b):\n",
    "        \"\"\"\n",
    "        :type a: str\n",
    "        :type b: str\n",
    "        :rtype: str\n",
    "        \"\"\"\n",
    "        \n",
    "        return addBinary(a, b)\n",
    "        \n",
    "        \n",
    "\n",
    "def sum_binary(a_bin_digit, b_bin_digit, carry):\n",
    "    \n",
    "    '''\n",
    "    Rules to add binary numbers:\n",
    "    0 + 0 = 0\n",
    "    0 + 1 = 1\n",
    "    1 + 0 = 1\n",
    "    1 + 1 = 10      ( carry 1 to the next significant bit)\n",
    "    1 + 1 + 1 = 11  ( carry 1 to the next significant bit)\n",
    "    '''\n",
    "    \n",
    "    \n",
    "    if carry == \"0\":\n",
    "        if (a_bin_digit == \"0\"  and b_bin_digit == \"0\"):\n",
    "            sum1, carry = \"0\", \"0\"\n",
    "        elif ((a_bin_digit == \"0\"  and b_bin_digit == \"1\") or (a_bin_digit == \"1\"  and b_bin_digit == \"0\")):\n",
    "            sum1, carry = \"1\", \"0\"\n",
    "        elif (a_bin_digit == \"1\"  and b_bin_digit == \"1\"):\n",
    "            sum1, carry = \"0\", \"1\"\n",
    "    elif carry == \"1\":\n",
    "        if (a_bin_digit == \"0\"  and b_bin_digit == \"0\"):\n",
    "            sum1, carry = \"1\", \"0\"\n",
    "        elif ((a_bin_digit == \"0\"  and b_bin_digit == \"1\") or (a_bin_digit == \"1\"  and b_bin_digit == \"0\")):\n",
    "            sum1, carry = \"0\", \"1\"\n",
    "        elif (a_bin_digit == \"1\"  and b_bin_digit == \"1\"):\n",
    "            sum1, carry = \"1\", \"1\"\n",
    "      \n",
    "    return sum1, carry\n",
    "        \n",
    "        \n",
    "\n",
    "def return_two_strings_of_equal_length(a, b):\n",
    "    '''\n",
    "    make two strings equal in length, by adding 0s to that string with smaller in length\n",
    "    '''\n",
    "        \n",
    "    N_a, N_b = len(a), len(b)\n",
    "    \n",
    "\n",
    "    if N_a == N_b:\n",
    "        pass\n",
    "    elif N_a < N_b:\n",
    "        while N_a < N_b:\n",
    "            a = \"0\" + a\n",
    "            N_a+=1\n",
    "    elif N_a > N_b:\n",
    "        while N_a > N_b:\n",
    "            b = \"0\" + b\n",
    "            N_b+=1\n",
    "            \n",
    "    return a, b\n",
    "            \n",
    "    \n",
    "    \n",
    "    \n",
    "def addBinary(a, b):\n",
    "\n",
    "    print(\"\\nInput values (a, b are strings)\\na = \", a, \"\\nb = \", b)\n",
    "    \n",
    "    a, b = return_two_strings_of_equal_length(a, b) \n",
    "    print(\"\\nNew a, b values (after making strings of equal length)\")\n",
    "    print(\"a = \", a, \"\\nb = \", b)\n",
    "        \n",
    "    answer = \"\"\n",
    "    carry = \"0\"\n",
    "    for index in range(len(a) - 1, -1, -1):\n",
    "        sum1, carry = sum_binary(a[index], b[index], carry)\n",
    "        answer = sum1 + answer\n",
    "    \n",
    "    if carry == \"1\":\n",
    "        sum1, carry = sum_binary(\"0\", \"0\", carry)\n",
    "        answer = sum1 + answer        \n",
    "    \n",
    "    return answer\n",
    "                "
   ]
  },
  {
   "cell_type": "markdown",
   "metadata": {},
   "source": [
    "### Leetcode submission reply\n",
    "\n",
    "Runtime: 19 ms, faster than 92.79% of Python online submissions for Add Binary.\n",
    "\n",
    "Memory Usage: 13.7 MB, less than 20.11% of Python online submissions for Add Binary."
   ]
  },
  {
   "cell_type": "code",
   "execution_count": null,
   "metadata": {},
   "outputs": [],
   "source": []
  }
 ],
 "metadata": {
  "kernelspec": {
   "display_name": "Python 3",
   "language": "python",
   "name": "python3"
  },
  "language_info": {
   "codemirror_mode": {
    "name": "ipython",
    "version": 3
   },
   "file_extension": ".py",
   "mimetype": "text/x-python",
   "name": "python",
   "nbconvert_exporter": "python",
   "pygments_lexer": "ipython3",
   "version": "3.7.13"
  }
 },
 "nbformat": 4,
 "nbformat_minor": 4
}
