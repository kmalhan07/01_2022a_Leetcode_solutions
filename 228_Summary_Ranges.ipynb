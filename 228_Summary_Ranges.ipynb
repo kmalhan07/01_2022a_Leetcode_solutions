{
 "cells": [
  {
   "cell_type": "markdown",
   "metadata": {},
   "source": [
    "### 228. Summary Ranges\n",
    "\n",
    "### https://leetcode.com/problems/summary-ranges/\n",
    "\n",
    "**Constraints:**\n",
    "\n",
    "$\\bullet$ 0 <= nums.length <= 20\n",
    "\n",
    "$\\bullet$ $-2^{31}$ <= nums[i] <= $2^{31} - 1$\n",
    "\n",
    "$\\bullet$ All the values of nums are unique.\n",
    "\n",
    "$\\bullet$ nums is sorted in ascending order.\n",
    "\n",
    "\n"
   ]
  },
  {
   "cell_type": "code",
   "execution_count": 213,
   "metadata": {},
   "outputs": [],
   "source": [
    "def summary_ranges(nums):\n",
    "    \n",
    "    # if nums is an empty list\n",
    "    if not nums:\n",
    "        return []\n",
    "    \n",
    "    # if nums contains only one element\n",
    "    if len(nums) == 1:\n",
    "        return [str(nums[0])]\n",
    "    \n",
    "    # for nums, find difference between consecutive elements\n",
    "    diff = [abs(j-i) for i, j in zip(nums[:-1], nums[1:])]\n",
    "    if all(elem == 1 for elem in diff):\n",
    "        return [str(nums[0]) + \"->\" + str(nums[-1])]\n",
    "    \n",
    "    # find those indices that are greater than 1 (because these are the starting and end points of range)\n",
    "    ind_of_diff = [i for i,v in enumerate(diff) if v > 1]\n",
    "    \n",
    "    arr_output = []\n",
    "    count_iter = 0\n",
    "    for idx in ind_of_diff:\n",
    "        count_iter+=1\n",
    "        str1 = \"\"\n",
    "        if idx == 0:\n",
    "            str1 = str(nums[idx])\n",
    "        elif count_iter == 1 and idx > 0:\n",
    "            str1 = str(nums[0]) + \"->\" + str(nums[idx])\n",
    "        elif count_iter > 1 and abs(ind_of_diff[count_iter - 2] - ind_of_diff[count_iter - 1]) == 1:\n",
    "            str1 = str(nums[idx])\n",
    "        else:\n",
    "            ind_start = ind_of_diff[count_iter - 2] + 1\n",
    "            ind_end = idx\n",
    "            str1 = str(nums[ind_start]) + \"->\" + str(nums[ind_end])\n",
    "          \n",
    "        \n",
    "        arr_output.append(str1)\n",
    "        \n",
    "    if nums[ind_of_diff[-1] + 1] == nums[-1]:\n",
    "        str1 = str(nums[-1])\n",
    "    else:\n",
    "        str1 = str(nums[ind_of_diff[-1] + 1]) + \"->\" + str(nums[-1])\n",
    "    arr_output.append(str1)\n",
    "    \n",
    "    \n",
    "    return arr_output"
   ]
  },
  {
   "cell_type": "code",
   "execution_count": 214,
   "metadata": {},
   "outputs": [
    {
     "name": "stdout",
     "output_type": "stream",
     "text": [
      "\n",
      "answer =  ['-1']\n"
     ]
    }
   ],
   "source": [
    "nums = [-1]\n",
    "answer = summary_ranges(nums)\n",
    "print(\"\\nanswer = \",answer)"
   ]
  },
  {
   "cell_type": "code",
   "execution_count": 211,
   "metadata": {},
   "outputs": [
    {
     "name": "stdout",
     "output_type": "stream",
     "text": [
      "\n",
      "answer =  []\n"
     ]
    }
   ],
   "source": [
    "nums = []\n",
    "answer = summary_ranges(nums)\n",
    "print(\"\\nanswer = \",answer)"
   ]
  },
  {
   "cell_type": "code",
   "execution_count": 199,
   "metadata": {},
   "outputs": [
    {
     "name": "stdout",
     "output_type": "stream",
     "text": [
      "\n",
      "answer =  ['10', '12->14', '16', '18->19']\n"
     ]
    }
   ],
   "source": [
    "nums = [10, 12, 13, 14, 16, 18, 19]\n",
    "answer = summary_ranges(nums)\n",
    "print(\"\\nanswer = \",answer)"
   ]
  },
  {
   "cell_type": "code",
   "execution_count": 200,
   "metadata": {},
   "outputs": [
    {
     "name": "stdout",
     "output_type": "stream",
     "text": [
      "\n",
      "answer =  ['0', '2->4', '6', '8->9']\n"
     ]
    }
   ],
   "source": [
    "nums = [0,2,3,4,6,8,9]\n",
    "answer = summary_ranges(nums)\n",
    "print(\"\\nanswer = \",answer)"
   ]
  },
  {
   "cell_type": "code",
   "execution_count": 201,
   "metadata": {},
   "outputs": [
    {
     "name": "stdout",
     "output_type": "stream",
     "text": [
      "\n",
      "answer =  ['10->13']\n"
     ]
    }
   ],
   "source": [
    "nums = [10, 11, 12, 13]\n",
    "answer = summary_ranges(nums)\n",
    "print(\"\\nanswer = \",answer)"
   ]
  },
  {
   "cell_type": "code",
   "execution_count": 202,
   "metadata": {},
   "outputs": [
    {
     "name": "stdout",
     "output_type": "stream",
     "text": [
      "\n",
      "answer =  ['10', '13->14']\n"
     ]
    }
   ],
   "source": [
    "nums = [10, 13, 14]\n",
    "answer = summary_ranges(nums)\n",
    "print(\"\\nanswer = \",answer)"
   ]
  },
  {
   "cell_type": "code",
   "execution_count": 203,
   "metadata": {},
   "outputs": [
    {
     "name": "stdout",
     "output_type": "stream",
     "text": [
      "\n",
      "answer =  ['10->11', '13->14', '16']\n"
     ]
    }
   ],
   "source": [
    "nums = [10, 11, 13, 14, 16]\n",
    "answer = summary_ranges(nums)\n",
    "print(\"\\nanswer = \",answer)"
   ]
  },
  {
   "cell_type": "code",
   "execution_count": 204,
   "metadata": {},
   "outputs": [
    {
     "name": "stdout",
     "output_type": "stream",
     "text": [
      "\n",
      "answer =  ['10->11', '13->14']\n"
     ]
    }
   ],
   "source": [
    "nums = [10, 11, 13, 14]\n",
    "answer = summary_ranges(nums)\n",
    "print(\"\\nanswer = \",answer)"
   ]
  },
  {
   "cell_type": "code",
   "execution_count": 205,
   "metadata": {},
   "outputs": [
    {
     "name": "stdout",
     "output_type": "stream",
     "text": [
      "\n",
      "answer =  ['10->11', '14']\n"
     ]
    }
   ],
   "source": [
    "nums = [10, 11, 14]\n",
    "answer = summary_ranges(nums)\n",
    "print(\"\\nanswer = \",answer)"
   ]
  },
  {
   "cell_type": "code",
   "execution_count": 206,
   "metadata": {},
   "outputs": [
    {
     "name": "stdout",
     "output_type": "stream",
     "text": [
      "\n",
      "answer =  ['10->12', '14->15', '17->18']\n"
     ]
    }
   ],
   "source": [
    "nums = [10, 11, 12, 14, 15, 17, 18]\n",
    "answer = summary_ranges(nums)\n",
    "print(\"\\nanswer = \",answer)"
   ]
  },
  {
   "cell_type": "code",
   "execution_count": 207,
   "metadata": {},
   "outputs": [
    {
     "name": "stdout",
     "output_type": "stream",
     "text": [
      "\n",
      "answer =  ['0->2', '4->5', '7->8']\n"
     ]
    }
   ],
   "source": [
    "nums = [0, 1, 2, 4, 5, 7, 8]\n",
    "answer = summary_ranges(nums)\n",
    "print(\"\\nanswer = \",answer)"
   ]
  },
  {
   "cell_type": "code",
   "execution_count": 208,
   "metadata": {},
   "outputs": [
    {
     "name": "stdout",
     "output_type": "stream",
     "text": [
      "\n",
      "answer =  ['0->2', '4->5', '7']\n"
     ]
    }
   ],
   "source": [
    "nums = [0,1,2,4,5,7]\n",
    "answer = summary_ranges(nums)\n",
    "print(\"\\nanswer = \",answer)"
   ]
  },
  {
   "cell_type": "code",
   "execution_count": null,
   "metadata": {},
   "outputs": [],
   "source": []
  },
  {
   "cell_type": "code",
   "execution_count": null,
   "metadata": {},
   "outputs": [],
   "source": []
  },
  {
   "cell_type": "code",
   "execution_count": null,
   "metadata": {},
   "outputs": [],
   "source": []
  },
  {
   "cell_type": "markdown",
   "metadata": {},
   "source": [
    "### Leetcode"
   ]
  },
  {
   "cell_type": "code",
   "execution_count": null,
   "metadata": {},
   "outputs": [],
   "source": [
    "class Solution(object):\n",
    "    def summaryRanges(self, nums):\n",
    "        \"\"\"\n",
    "        :type nums: List[int]\n",
    "        :rtype: List[str]\n",
    "        \"\"\"\n",
    "        return summary_ranges(nums)\n",
    "    \n",
    "    \n",
    "def summary_ranges(nums):\n",
    "    \n",
    "    # if nums is an empty list\n",
    "    if not nums:\n",
    "        return []\n",
    "    \n",
    "    # if nums contains only one element\n",
    "    if len(nums) == 1:\n",
    "        return [str(nums[0])]\n",
    "    \n",
    "    \n",
    "    # for nums, find difference between consecutive elements\n",
    "    diff = [abs(j-i) for i, j in zip(nums[:-1], nums[1:])]\n",
    "    if all(elem == 1 for elem in diff):\n",
    "        return [str(nums[0]) + \"->\" + str(nums[-1])]\n",
    "    \n",
    "    # find those indices that are greater than 1 (because these are the starting and end points of range)\n",
    "    ind_of_diff = [i for i,v in enumerate(diff) if v > 1]\n",
    "    \n",
    "    arr_output = []\n",
    "    count_iter = 0\n",
    "    for idx in ind_of_diff:\n",
    "        count_iter+=1\n",
    "        str1 = \"\"\n",
    "        if idx == 0:\n",
    "            str1 = str(nums[idx])\n",
    "        elif count_iter == 1 and idx > 0:\n",
    "            str1 = str(nums[0]) + \"->\" + str(nums[idx])\n",
    "        elif count_iter > 1 and abs(ind_of_diff[count_iter - 2] - ind_of_diff[count_iter - 1]) == 1:\n",
    "            str1 = str(nums[idx])\n",
    "        else:\n",
    "            ind_start = ind_of_diff[count_iter - 2] + 1\n",
    "            ind_end = idx\n",
    "            str1 = str(nums[ind_start]) + \"->\" + str(nums[ind_end])\n",
    "          \n",
    "        \n",
    "        arr_output.append(str1)\n",
    "        \n",
    "    if nums[ind_of_diff[-1] + 1] == nums[-1]:\n",
    "        str1 = str(nums[-1])\n",
    "    else:\n",
    "        str1 = str(nums[ind_of_diff[-1] + 1]) + \"->\" + str(nums[-1])\n",
    "    arr_output.append(str1)\n",
    "    \n",
    "    \n",
    "    return arr_output"
   ]
  },
  {
   "cell_type": "markdown",
   "metadata": {},
   "source": [
    "**Runtime: 34 ms, faster than 20.87% of Python online submissions for Summary Ranges.**\n",
    "    \n",
    "**Memory Usage: 13.4 MB, less than 62.38% of Python online submissions for Summary Ranges.**"
   ]
  },
  {
   "cell_type": "code",
   "execution_count": null,
   "metadata": {},
   "outputs": [],
   "source": []
  }
 ],
 "metadata": {
  "kernelspec": {
   "display_name": "Python 3",
   "language": "python",
   "name": "python3"
  },
  "language_info": {
   "codemirror_mode": {
    "name": "ipython",
    "version": 3
   },
   "file_extension": ".py",
   "mimetype": "text/x-python",
   "name": "python",
   "nbconvert_exporter": "python",
   "pygments_lexer": "ipython3",
   "version": "3.7.13"
  }
 },
 "nbformat": 4,
 "nbformat_minor": 4
}
