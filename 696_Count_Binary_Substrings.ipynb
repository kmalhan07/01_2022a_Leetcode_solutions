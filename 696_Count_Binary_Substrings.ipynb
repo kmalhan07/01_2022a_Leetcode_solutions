{
 "cells": [
  {
   "cell_type": "markdown",
   "metadata": {},
   "source": [
    "### 696. Count Binary Substrings\n",
    "\n",
    "### https://leetcode.com/problems/count-binary-substrings/"
   ]
  },
  {
   "cell_type": "code",
   "execution_count": 37,
   "metadata": {},
   "outputs": [],
   "source": [
    "def cbs(s):\n",
    "    \n",
    "    n = len(s)\n",
    "    \n",
    "    if n <= 1:\n",
    "        return 0\n",
    "    else:\n",
    "        \n",
    "        # nn is an even integer\n",
    "        if n % 2 == 0:\n",
    "            pass\n",
    "        else:\n",
    "            n = n - 1\n",
    "          \n",
    "        count = 0\n",
    "        for i in range(2, n + 1, 2):\n",
    "            count+= s.count(\"0\"*(i//2) + \"1\"*(i//2))\n",
    "            count+= s.count(\"1\"*(i//2) + \"0\"*(i//2))\n",
    "            \n",
    "        return count"
   ]
  },
  {
   "cell_type": "code",
   "execution_count": 34,
   "metadata": {},
   "outputs": [
    {
     "name": "stdout",
     "output_type": "stream",
     "text": [
      "\n",
      "answer =  6\n"
     ]
    }
   ],
   "source": [
    "s = \"00110011\"\n",
    "answer = cbs(s)\n",
    "print(\"\\nanswer = \", answer)"
   ]
  },
  {
   "cell_type": "code",
   "execution_count": 35,
   "metadata": {},
   "outputs": [
    {
     "name": "stdout",
     "output_type": "stream",
     "text": [
      "\n",
      "answer =  4\n"
     ]
    }
   ],
   "source": [
    "s = \"10101\"\n",
    "answer = cbs(s)\n",
    "print(\"\\nanswer = \", answer)"
   ]
  },
  {
   "cell_type": "code",
   "execution_count": 36,
   "metadata": {},
   "outputs": [
    {
     "name": "stdout",
     "output_type": "stream",
     "text": [
      "\n",
      "answer =  3\n"
     ]
    }
   ],
   "source": [
    "s = \"00110\"\n",
    "answer = cbs(s)\n",
    "print(\"\\nanswer = \", answer)"
   ]
  },
  {
   "cell_type": "markdown",
   "metadata": {},
   "source": [
    "### Leetcode"
   ]
  },
  {
   "cell_type": "code",
   "execution_count": 24,
   "metadata": {},
   "outputs": [],
   "source": [
    "class Solution(object):\n",
    "    def countBinarySubstrings(self, s):\n",
    "        \"\"\"\n",
    "        :type s: str\n",
    "        :rtype: int\n",
    "        \"\"\"\n",
    "        return cbs(s)\n",
    "        \n",
    "        \n",
    "        \n",
    "def cbs(s):\n",
    "    \n",
    "    n = len(s)\n",
    "    \n",
    "    if n <= 1:\n",
    "        return 0\n",
    "    else:\n",
    "        \n",
    "        # nn is an even integer\n",
    "        if n % 2 == 0:\n",
    "            pass\n",
    "        else:\n",
    "            n = n - 1\n",
    "          \n",
    "        count = 0\n",
    "        for i in range(2, n + 1, 2):\n",
    "            count+= s.count(\"0\"*(i//2) + \"1\"*(i//2))\n",
    "            count+= s.count(\"1\"*(i//2) + \"0\"*(i//2))\n",
    "            \n",
    "        return count"
   ]
  },
  {
   "cell_type": "code",
   "execution_count": null,
   "metadata": {},
   "outputs": [],
   "source": []
  }
 ],
 "metadata": {
  "kernelspec": {
   "display_name": "Python 3",
   "language": "python",
   "name": "python3"
  },
  "language_info": {
   "codemirror_mode": {
    "name": "ipython",
    "version": 3
   },
   "file_extension": ".py",
   "mimetype": "text/x-python",
   "name": "python",
   "nbconvert_exporter": "python",
   "pygments_lexer": "ipython3",
   "version": "3.7.13"
  }
 },
 "nbformat": 4,
 "nbformat_minor": 4
}
