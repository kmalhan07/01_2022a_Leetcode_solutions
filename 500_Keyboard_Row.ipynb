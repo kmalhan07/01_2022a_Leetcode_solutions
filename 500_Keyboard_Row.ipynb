{
 "cells": [
  {
   "cell_type": "markdown",
   "metadata": {},
   "source": [
    "### 500. Keyboard Row\n",
    "\n",
    "### https://leetcode.com/problems/keyboard-row/\n",
    "\n",
    "**Constraints:**\n",
    "    \n",
    "$\\bullet$ 1 <= words.length <= 20\n",
    "\n",
    "$\\bullet$ 1 <= words[i].length <= 100\n",
    "\n",
    "$\\bullet$ words[i] consists of English letters (both lowercase and uppercase). \n"
   ]
  },
  {
   "cell_type": "code",
   "execution_count": 51,
   "metadata": {},
   "outputs": [],
   "source": [
    "def kr(words):\n",
    "        \n",
    "    ans = []\n",
    "    for w in words:\n",
    "        word = w.lower()\n",
    "        if set(word).issubset(\"qwertyuiop\") or set(word).issubset(\"asdfghjkl\") or set(word).issubset(\"zxcvbnm\"):\n",
    "            ans.append(w)\n",
    "    return ans  \n"
   ]
  },
  {
   "cell_type": "code",
   "execution_count": 47,
   "metadata": {},
   "outputs": [
    {
     "name": "stdout",
     "output_type": "stream",
     "text": [
      "\n",
      "answer =  ['alaska', 'dad']\n"
     ]
    }
   ],
   "source": [
    "words = [\"Hello\",\"Alaska\",\"Dad\",\"Peace\"]\n",
    "answer = kr(words)\n",
    "print(\"\\nanswer = \", answer)"
   ]
  },
  {
   "cell_type": "code",
   "execution_count": 48,
   "metadata": {},
   "outputs": [
    {
     "name": "stdout",
     "output_type": "stream",
     "text": [
      "\n",
      "answer =  []\n"
     ]
    }
   ],
   "source": [
    "words = [\"omk\"]\n",
    "answer = kr(words)\n",
    "print(\"\\nanswer = \", answer)"
   ]
  },
  {
   "cell_type": "code",
   "execution_count": 49,
   "metadata": {},
   "outputs": [
    {
     "name": "stdout",
     "output_type": "stream",
     "text": [
      "\n",
      "answer =  ['adsdf', 'sfd']\n"
     ]
    }
   ],
   "source": [
    "words = [\"adsdf\",\"sfd\"]\n",
    "answer = kr(words)\n",
    "print(\"\\nanswer = \", answer)"
   ]
  },
  {
   "cell_type": "markdown",
   "metadata": {},
   "source": [
    "### Leetcode"
   ]
  },
  {
   "cell_type": "code",
   "execution_count": 50,
   "metadata": {},
   "outputs": [],
   "source": [
    "class Solution(object):\n",
    "    def findWords(self, words):\n",
    "        \"\"\"\n",
    "        :type words: List[str]\n",
    "        :rtype: List[str]\n",
    "        \"\"\"\n",
    "        return kr(words)\n",
    "    \n",
    "def kr(words):\n",
    "        \n",
    "    ans = []\n",
    "    for w in words:\n",
    "        word = w.lower()\n",
    "        if set(word).issubset(\"qwertyuiop\") or set(word).issubset(\"asdfghjkl\") or set(word).issubset(\"zxcvbnm\"):\n",
    "            ans.append(w)\n",
    "    return ans  \n",
    "\n"
   ]
  },
  {
   "cell_type": "markdown",
   "metadata": {},
   "source": [
    "**Runtime 20 ms, Beats 82.1%**\n",
    "\n",
    "**Memory 13.3 MB, Beats 81.71%**"
   ]
  },
  {
   "cell_type": "code",
   "execution_count": null,
   "metadata": {},
   "outputs": [],
   "source": []
  }
 ],
 "metadata": {
  "kernelspec": {
   "display_name": "Python 3",
   "language": "python",
   "name": "python3"
  },
  "language_info": {
   "codemirror_mode": {
    "name": "ipython",
    "version": 3
   },
   "file_extension": ".py",
   "mimetype": "text/x-python",
   "name": "python",
   "nbconvert_exporter": "python",
   "pygments_lexer": "ipython3",
   "version": "3.7.13"
  }
 },
 "nbformat": 4,
 "nbformat_minor": 4
}
