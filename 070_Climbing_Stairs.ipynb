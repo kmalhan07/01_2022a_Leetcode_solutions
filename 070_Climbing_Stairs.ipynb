{
 "cells": [
  {
   "cell_type": "markdown",
   "metadata": {},
   "source": [
    "### https://leetcode.com/problems/climbing-stairs/\n",
    "\n",
    "### 70. Climbing Stairs\n",
    "\n",
    "***Constraints:***\n",
    "\n",
    "    1 <= n <= 45\n"
   ]
  },
  {
   "cell_type": "code",
   "execution_count": 101,
   "metadata": {},
   "outputs": [],
   "source": [
    "def number_of_ways(n):\n",
    "    \n",
    "    if n == 1:\n",
    "        return 1\n",
    "    elif n == 2:\n",
    "        return 2\n",
    "    else:\n",
    "        steps_pp = 1\n",
    "        steps_p = 2\n",
    "        for i in range(2, n):\n",
    "            steps = steps_pp + steps_p\n",
    "            steps_pp = steps_p\n",
    "            steps_p = steps\n",
    "                        \n",
    "    return steps\n",
    "    "
   ]
  },
  {
   "cell_type": "code",
   "execution_count": 102,
   "metadata": {},
   "outputs": [
    {
     "name": "stdout",
     "output_type": "stream",
     "text": [
      "\n",
      "\n",
      "answer = 1\n"
     ]
    }
   ],
   "source": [
    "n = 1\n",
    "answer = number_of_ways(n)\n",
    "print(\"\\n\\nanswer =\", answer)"
   ]
  },
  {
   "cell_type": "code",
   "execution_count": 103,
   "metadata": {},
   "outputs": [
    {
     "name": "stdout",
     "output_type": "stream",
     "text": [
      "\n",
      "\n",
      "answer = 2\n"
     ]
    }
   ],
   "source": [
    "n = 2\n",
    "answer = number_of_ways(n)\n",
    "print(\"\\n\\nanswer =\", answer)"
   ]
  },
  {
   "cell_type": "code",
   "execution_count": 104,
   "metadata": {},
   "outputs": [
    {
     "name": "stdout",
     "output_type": "stream",
     "text": [
      "\n",
      "\n",
      "answer = 3\n"
     ]
    }
   ],
   "source": [
    "n = 3\n",
    "answer = number_of_ways(n)\n",
    "print(\"\\n\\nanswer =\", answer)"
   ]
  },
  {
   "cell_type": "code",
   "execution_count": 105,
   "metadata": {},
   "outputs": [
    {
     "name": "stdout",
     "output_type": "stream",
     "text": [
      "\n",
      "\n",
      "answer = 5\n"
     ]
    }
   ],
   "source": [
    "n = 4\n",
    "answer = number_of_ways(n)\n",
    "print(\"\\n\\nanswer =\", answer)"
   ]
  },
  {
   "cell_type": "code",
   "execution_count": 106,
   "metadata": {},
   "outputs": [
    {
     "name": "stdout",
     "output_type": "stream",
     "text": [
      "\n",
      "\n",
      "answer = 8\n"
     ]
    }
   ],
   "source": [
    "n = 5\n",
    "answer = number_of_ways(n)\n",
    "print(\"\\n\\nanswer =\", answer)"
   ]
  },
  {
   "cell_type": "code",
   "execution_count": 107,
   "metadata": {},
   "outputs": [
    {
     "name": "stdout",
     "output_type": "stream",
     "text": [
      "\n",
      "\n",
      "answer = 13\n"
     ]
    }
   ],
   "source": [
    "n = 6\n",
    "answer = number_of_ways(n)\n",
    "print(\"\\n\\nanswer =\", answer)"
   ]
  },
  {
   "cell_type": "markdown",
   "metadata": {},
   "source": [
    "# Leetcode solution"
   ]
  },
  {
   "cell_type": "code",
   "execution_count": 108,
   "metadata": {},
   "outputs": [],
   "source": [
    "class Solution(object):\n",
    "    def climbStairs(self, n):\n",
    "        \"\"\"\n",
    "        :type n: int\n",
    "        :rtype: int\n",
    "        \"\"\"\n",
    "        return number_of_ways(n)\n",
    "        \n",
    "        \n",
    "def number_of_ways(n):\n",
    "    \n",
    "    if n == 1:\n",
    "        return 1\n",
    "    elif n == 2:\n",
    "        return 2\n",
    "    else:\n",
    "        steps_pp = 1\n",
    "        steps_p = 2\n",
    "        for i in range(2, n):\n",
    "            steps = steps_pp + steps_p\n",
    "            steps_pp = steps_p\n",
    "            steps_p = steps\n",
    "                        \n",
    "    return steps\n",
    "    "
   ]
  },
  {
   "cell_type": "markdown",
   "metadata": {},
   "source": [
    "**Runtime: 26 ms, faster than 49.11% of Python online submissions for Climbing Stairs.**\n",
    "\n",
    "**Memory Usage: 13.4 MB, less than 62.36% of Python online submissions for Climbing Stairs.**"
   ]
  },
  {
   "cell_type": "code",
   "execution_count": null,
   "metadata": {},
   "outputs": [],
   "source": []
  }
 ],
 "metadata": {
  "kernelspec": {
   "display_name": "Python 3",
   "language": "python",
   "name": "python3"
  },
  "language_info": {
   "codemirror_mode": {
    "name": "ipython",
    "version": 3
   },
   "file_extension": ".py",
   "mimetype": "text/x-python",
   "name": "python",
   "nbconvert_exporter": "python",
   "pygments_lexer": "ipython3",
   "version": "3.7.13"
  }
 },
 "nbformat": 4,
 "nbformat_minor": 4
}
