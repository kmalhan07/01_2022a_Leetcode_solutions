{
 "cells": [
  {
   "cell_type": "markdown",
   "metadata": {},
   "source": [
    "### https://leetcode.com/problems/intersection-of-two-arrays-ii/\n",
    "\n",
    "### 350. Intersection of Two Arrays II\n",
    "\n",
    "**Constraints:**\n",
    "\n",
    "$\\bullet$ 1 <= nums1.length, nums2.length <= 1000\n",
    "    \n",
    "$\\bullet$ 0 <= nums1[i], nums2[i] <= 1000\n"
   ]
  },
  {
   "cell_type": "code",
   "execution_count": 13,
   "metadata": {},
   "outputs": [],
   "source": [
    "def intersection_1D(nums1, nums2):\n",
    "    \n",
    "    arr_answer = []\n",
    "    \n",
    "    for n1 in nums1:\n",
    "        if n1 in nums2 and n1 not in arr_answer:\n",
    "            n_min = min([nums1.count(n1), nums2.count(n1)])\n",
    "            arr_answer.extend([n1]*n_min)\n",
    "        \n",
    "    return arr_answer\n",
    "#     return nums1 and nums2\n",
    "#     import numpy as np\n",
    "#     return np.intersect1d(nums1, nums2)"
   ]
  },
  {
   "cell_type": "code",
   "execution_count": 14,
   "metadata": {},
   "outputs": [
    {
     "name": "stdout",
     "output_type": "stream",
     "text": [
      "\n",
      "answer =  [2, 2]\n"
     ]
    }
   ],
   "source": [
    "nums1 = [1,2,2,1]\n",
    "nums2 = [2,2]\n",
    "answer = intersection_1D(nums1, nums2)\n",
    "print(\"\\nanswer = \", answer)"
   ]
  },
  {
   "cell_type": "code",
   "execution_count": 15,
   "metadata": {},
   "outputs": [
    {
     "name": "stdout",
     "output_type": "stream",
     "text": [
      "\n",
      "answer =  [4, 9]\n"
     ]
    }
   ],
   "source": [
    "nums1 = [4,9,5]\n",
    "nums2 = [9,4,9,8,4]\n",
    "answer = intersection_1D(nums1, nums2)\n",
    "print(\"\\nanswer = \", answer)"
   ]
  },
  {
   "cell_type": "markdown",
   "metadata": {},
   "source": [
    "### Leetcode"
   ]
  },
  {
   "cell_type": "code",
   "execution_count": 16,
   "metadata": {},
   "outputs": [],
   "source": [
    "class Solution(object):\n",
    "    def intersect(self, nums1, nums2):\n",
    "        \"\"\"\n",
    "        :type nums1: List[int]\n",
    "        :type nums2: List[int]\n",
    "        :rtype: List[int]\n",
    "        \"\"\"\n",
    "        return intersection_1D(nums1, nums2)\n",
    "    \n",
    "        \n",
    "def intersection_1D(nums1, nums2):\n",
    "    \n",
    "    arr_answer = []\n",
    "    \n",
    "    for n1 in nums1:\n",
    "        if n1 in nums2 and n1 not in arr_answer:\n",
    "            n_min = min([nums1.count(n1), nums2.count(n1)])\n",
    "            arr_answer.extend([n1]*n_min)\n",
    "        \n",
    "    return arr_answer"
   ]
  },
  {
   "cell_type": "markdown",
   "metadata": {},
   "source": [
    "**Runtime 81 ms, Beats 25.44%**\n",
    "\n",
    "**Memory 13.6 MB, Beats 31.21%**"
   ]
  },
  {
   "cell_type": "code",
   "execution_count": null,
   "metadata": {},
   "outputs": [],
   "source": []
  }
 ],
 "metadata": {
  "kernelspec": {
   "display_name": "Python 3",
   "language": "python",
   "name": "python3"
  },
  "language_info": {
   "codemirror_mode": {
    "name": "ipython",
    "version": 3
   },
   "file_extension": ".py",
   "mimetype": "text/x-python",
   "name": "python",
   "nbconvert_exporter": "python",
   "pygments_lexer": "ipython3",
   "version": "3.7.13"
  }
 },
 "nbformat": 4,
 "nbformat_minor": 4
}
