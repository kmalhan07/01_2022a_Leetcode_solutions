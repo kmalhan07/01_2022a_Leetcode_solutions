{
 "cells": [
  {
   "cell_type": "markdown",
   "metadata": {},
   "source": [
    "### 338. Counting Bits\n",
    "\n",
    "### https://leetcode.com/problems/counting-bits/\n",
    "\n",
    "**Constraints:**\n",
    "\n",
    "$\\bullet$ 0 <= n <= $10^5$"
   ]
  },
  {
   "cell_type": "code",
   "execution_count": 13,
   "metadata": {},
   "outputs": [],
   "source": [
    "def count_bits(n):\n",
    "    \n",
    "    arr_count=[]\n",
    "    for i in range(0, n + 1):\n",
    "        arr_count.append(\"{0:b}\".format(i).count('1'))\n",
    "        \n",
    "    return arr_count"
   ]
  },
  {
   "cell_type": "code",
   "execution_count": 14,
   "metadata": {},
   "outputs": [
    {
     "name": "stdout",
     "output_type": "stream",
     "text": [
      "\n",
      "answer =  [0, 1, 1]\n"
     ]
    }
   ],
   "source": [
    "n = 2\n",
    "answer = count_bits(n)\n",
    "print(\"\\nanswer = \", answer)"
   ]
  },
  {
   "cell_type": "code",
   "execution_count": 15,
   "metadata": {},
   "outputs": [
    {
     "name": "stdout",
     "output_type": "stream",
     "text": [
      "\n",
      "answer =  [0, 1, 1, 2, 1, 2]\n"
     ]
    }
   ],
   "source": [
    "n = 5\n",
    "answer = count_bits(n)\n",
    "print(\"\\nanswer = \", answer)"
   ]
  },
  {
   "cell_type": "markdown",
   "metadata": {},
   "source": [
    "### Leetcode"
   ]
  },
  {
   "cell_type": "code",
   "execution_count": null,
   "metadata": {},
   "outputs": [],
   "source": [
    "class Solution(object):\n",
    "    def countBits(self, n):\n",
    "        \"\"\"\n",
    "        :type n: int\n",
    "        :rtype: List[int]\n",
    "        \"\"\"\n",
    "        return count_bits(n)\n",
    "    \n",
    "\n",
    "def count_bits(n):\n",
    "    \n",
    "    arr_count=[]\n",
    "    for i in range(0, n + 1):\n",
    "        arr_count.append(\"{0:b}\".format(i).count('1'))\n",
    "        \n",
    "    return arr_count"
   ]
  },
  {
   "cell_type": "markdown",
   "metadata": {},
   "source": [
    "**Runtime154 ms, Beats 36.78%**\n",
    "\n",
    "**Memory 17.2 MB, Beats 88.47**"
   ]
  },
  {
   "cell_type": "code",
   "execution_count": null,
   "metadata": {},
   "outputs": [],
   "source": []
  }
 ],
 "metadata": {
  "kernelspec": {
   "display_name": "Python 3",
   "language": "python",
   "name": "python3"
  },
  "language_info": {
   "codemirror_mode": {
    "name": "ipython",
    "version": 3
   },
   "file_extension": ".py",
   "mimetype": "text/x-python",
   "name": "python",
   "nbconvert_exporter": "python",
   "pygments_lexer": "ipython3",
   "version": "3.7.13"
  }
 },
 "nbformat": 4,
 "nbformat_minor": 4
}
