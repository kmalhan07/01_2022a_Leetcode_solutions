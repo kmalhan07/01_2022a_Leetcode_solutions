{
 "cells": [
  {
   "cell_type": "markdown",
   "metadata": {},
   "source": [
    "### 268. Missing Number\n",
    "\n",
    "### https://leetcode.com/problems/missing-number/\n",
    "\n",
    "**Constraints:**\n",
    "\n",
    "$\\bullet$ n == nums.length\n",
    "\n",
    "$\\bullet$ 1 <= n <= 10^4\n",
    "\n",
    "$\\bullet$ 0 <= nums[i] <= n\n",
    "\n",
    "$\\bullet$ All the numbers of nums are unique.\n"
   ]
  },
  {
   "cell_type": "code",
   "execution_count": 5,
   "metadata": {},
   "outputs": [],
   "source": [
    "def missing_number(nums):\n",
    "\n",
    "    n = len(nums)\n",
    "    sum1 = n*(n + 1)/2\n",
    "    sum2 = sum(nums)\n",
    "    return int(abs(sum2 - sum1))\n"
   ]
  },
  {
   "cell_type": "code",
   "execution_count": 6,
   "metadata": {},
   "outputs": [
    {
     "name": "stdout",
     "output_type": "stream",
     "text": [
      "answer = 2\n"
     ]
    }
   ],
   "source": [
    "nums = [3,0,1]\n",
    "answer = missing_number(nums)\n",
    "print(\"answer =\", answer)"
   ]
  },
  {
   "cell_type": "code",
   "execution_count": 7,
   "metadata": {},
   "outputs": [
    {
     "name": "stdout",
     "output_type": "stream",
     "text": [
      "answer = 2\n"
     ]
    }
   ],
   "source": [
    "nums = [0,1]\n",
    "answer = missing_number(nums)\n",
    "print(\"answer =\", answer)"
   ]
  },
  {
   "cell_type": "code",
   "execution_count": 8,
   "metadata": {},
   "outputs": [
    {
     "name": "stdout",
     "output_type": "stream",
     "text": [
      "answer = 8\n"
     ]
    }
   ],
   "source": [
    "nums = [9,6,4,2,3,5,7,0,1]\n",
    "answer = missing_number(nums)\n",
    "print(\"answer =\", answer)"
   ]
  },
  {
   "cell_type": "markdown",
   "metadata": {},
   "source": [
    "### Leetcode solution"
   ]
  },
  {
   "cell_type": "code",
   "execution_count": 9,
   "metadata": {},
   "outputs": [],
   "source": [
    "class Solution(object):\n",
    "    def missingNumber(self, nums):\n",
    "        \"\"\"\n",
    "        :type nums: List[int]\n",
    "        :rtype: int\n",
    "        \"\"\"\n",
    "        return missing_number(nums)\n",
    "    \n",
    "    \n",
    "def missing_number(nums):\n",
    "\n",
    "    n = len(nums)\n",
    "    sum1 = n*(n + 1)/2\n",
    "    sum2 = sum(nums)\n",
    "    return int(abs(sum2 - sum1))"
   ]
  },
  {
   "cell_type": "markdown",
   "metadata": {},
   "source": [
    "**Runtime: 187 ms, faster than 58.66% of Python online submissions for Missing Number.**\n",
    "    \n",
    "**Memory Usage: 14.6 MB, less than 86.16% of Python online submissions for Missing Number.**"
   ]
  },
  {
   "cell_type": "code",
   "execution_count": null,
   "metadata": {},
   "outputs": [],
   "source": []
  }
 ],
 "metadata": {
  "kernelspec": {
   "display_name": "Python 3",
   "language": "python",
   "name": "python3"
  },
  "language_info": {
   "codemirror_mode": {
    "name": "ipython",
    "version": 3
   },
   "file_extension": ".py",
   "mimetype": "text/x-python",
   "name": "python",
   "nbconvert_exporter": "python",
   "pygments_lexer": "ipython3",
   "version": "3.7.13"
  }
 },
 "nbformat": 4,
 "nbformat_minor": 4
}
