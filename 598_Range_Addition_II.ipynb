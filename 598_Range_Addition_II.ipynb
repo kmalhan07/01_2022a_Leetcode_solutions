{
 "cells": [
  {
   "cell_type": "markdown",
   "metadata": {},
   "source": [
    "### 598. Range Addition II\n",
    "\n",
    "### https://leetcode.com/problems/range-addition-ii/\n",
    "\n",
    "**Constraints:**\n",
    "    \n",
    "$\\bullet$ 1 <= m, n <= 4 * $10^4$\n",
    "\n",
    "$\\bullet$  0 <= ops.length <= $10^4$\n",
    "\n",
    "$\\bullet$ ops[i].length == 2\n",
    "\n",
    "$\\bullet$ 1 <= ai <= m\n",
    "\n",
    "$\\bullet$ 1 <= bi <= n"
   ]
  },
  {
   "cell_type": "code",
   "execution_count": 27,
   "metadata": {},
   "outputs": [],
   "source": [
    "def ra(m, n, ops):\n",
    "    \n",
    "    if not ops:\n",
    "        return m*n\n",
    "    '''\n",
    "    Idea: its like - you need to find minimum rows x cols in ops that gets repeated multiple times (but same number of times).\n",
    "    Then finally you can use this information to find the maximum value\n",
    "    '''\n",
    "    # in ops, split into rows and columns\n",
    "    ops_split = list(map(list, zip(*ops)))\n",
    "    ops_rows, ops_cols = ops_split[0], ops_split[1]\n",
    "    \n",
    "    min_ops_rows, min_ops_cols = min(ops_rows), min(ops_cols)\n",
    "    \n",
    "    return min_ops_rows*min_ops_cols\n"
   ]
  },
  {
   "cell_type": "code",
   "execution_count": 28,
   "metadata": {},
   "outputs": [
    {
     "name": "stdout",
     "output_type": "stream",
     "text": [
      "\n",
      "answer =  4\n"
     ]
    }
   ],
   "source": [
    "m = 3\n",
    "n = 3\n",
    "ops = [[2,2],[3,3]]\n",
    "answer = ra(m, n, ops)\n",
    "print(\"\\nanswer = \", answer)"
   ]
  },
  {
   "cell_type": "code",
   "execution_count": 29,
   "metadata": {},
   "outputs": [
    {
     "name": "stdout",
     "output_type": "stream",
     "text": [
      "\n",
      "answer =  4\n"
     ]
    }
   ],
   "source": [
    "m = 3\n",
    "n = 3\n",
    "ops = [[2,2],[3,3],[3,3],[3,3],[2,2],[3,3],[3,3],[3,3],[2,2],[3,3],[3,3],[3,3]]\n",
    "answer = ra(m, n, ops)\n",
    "print(\"\\nanswer = \", answer)"
   ]
  },
  {
   "cell_type": "code",
   "execution_count": 31,
   "metadata": {},
   "outputs": [
    {
     "name": "stdout",
     "output_type": "stream",
     "text": [
      "\n",
      "answer =  9\n"
     ]
    }
   ],
   "source": [
    "m = 3\n",
    "n = 3\n",
    "ops = []\n",
    "answer = ra(m, n, ops)\n",
    "print(\"\\nanswer = \", answer)"
   ]
  },
  {
   "cell_type": "markdown",
   "metadata": {},
   "source": [
    "### Leetcode"
   ]
  },
  {
   "cell_type": "code",
   "execution_count": 32,
   "metadata": {},
   "outputs": [],
   "source": [
    "class Solution(object):\n",
    "    def maxCount(self, m, n, ops):\n",
    "        \"\"\"\n",
    "        :type m: int\n",
    "        :type n: int\n",
    "        :type ops: List[List[int]]\n",
    "        :rtype: int\n",
    "        \"\"\"\n",
    "        return ra(m, n, ops)\n",
    "    \n",
    "    \n",
    "def ra(m, n, ops):\n",
    "    \n",
    "    if not ops:\n",
    "        return m*n\n",
    "    '''\n",
    "    Idea: its like - you need to find minimum rows x cols in ops that gets repeated multiple times (but same number of times).\n",
    "    Then finally you can use this information to find the maximum value\n",
    "    '''\n",
    "    # in ops, split into rows and columns\n",
    "    ops_split = list(map(list, zip(*ops)))\n",
    "    ops_rows, ops_cols = ops_split[0], ops_split[1]\n",
    "    \n",
    "    min_ops_rows, min_ops_cols = min(ops_rows), min(ops_cols)\n",
    "    \n",
    "    return min_ops_rows*min_ops_cols"
   ]
  },
  {
   "cell_type": "markdown",
   "metadata": {},
   "source": [
    "**Runtime 90 ms, Beats 62.50%**\n",
    "\n",
    "**Memory 15.9 MB, Beats 33.75%**"
   ]
  },
  {
   "cell_type": "code",
   "execution_count": null,
   "metadata": {},
   "outputs": [],
   "source": []
  }
 ],
 "metadata": {
  "kernelspec": {
   "display_name": "Python 3",
   "language": "python",
   "name": "python3"
  },
  "language_info": {
   "codemirror_mode": {
    "name": "ipython",
    "version": 3
   },
   "file_extension": ".py",
   "mimetype": "text/x-python",
   "name": "python",
   "nbconvert_exporter": "python",
   "pygments_lexer": "ipython3",
   "version": "3.7.13"
  }
 },
 "nbformat": 4,
 "nbformat_minor": 4
}
