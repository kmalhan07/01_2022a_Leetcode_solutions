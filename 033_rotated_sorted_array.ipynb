{
 "cells": [
  {
   "cell_type": "markdown",
   "metadata": {},
   "source": [
    "### https://leetcode.com/problems/search-in-rotated-sorted-array/\n",
    "### 33. Search in Rotated Sorted Array\n",
    "### Also, same problem given as an assignment on https://www.youtube.com/watch?v=pkYVOmU3MgA&t=840s [2:32:00]\n",
    "\n",
    "### Binary search based problem"
   ]
  },
  {
   "cell_type": "markdown",
   "metadata": {},
   "source": [
    "***Constraints:***\n",
    "\n",
    "    1 <= nums.length <= 5000\n",
    "    -104 <= nums[i] <= 104\n",
    "    All values of nums are unique.\n",
    "    nums is an ascending array that is possibly rotated.\n",
    "    -104 <= target <= 104\n"
   ]
  },
  {
   "cell_type": "code",
   "execution_count": 1,
   "metadata": {},
   "outputs": [
    {
     "name": "stdout",
     "output_type": "stream",
     "text": [
      "\n",
      "nums =  [0, 1, 2, 3, 4, 5, 6, 7, 8, 9]\n"
     ]
    }
   ],
   "source": [
    "nums = list(range(0,10))\n",
    "print(\"\\nnums = \", nums)"
   ]
  },
  {
   "cell_type": "code",
   "execution_count": 2,
   "metadata": {},
   "outputs": [],
   "source": [
    "'''\n",
    "A function that rotates an array around a pivot_index\n",
    "'''\n",
    "\n",
    "def rotate_array(nums, pivot_index):\n",
    "    \n",
    "    N = len(nums)\n",
    "    \n",
    "    if (N == 0 or N ==1 or pivot_index == 0 or pivot_index == N):\n",
    "        return nums\n",
    "    else:\n",
    "        return nums[pivot_index:] + nums[:pivot_index] "
   ]
  },
  {
   "cell_type": "code",
   "execution_count": 4,
   "metadata": {},
   "outputs": [
    {
     "name": "stdout",
     "output_type": "stream",
     "text": [
      "nums =  [0, 1, 2, 4, 5, 6, 7, 10, 12, 14, 15]\n",
      "pivot_index =  3\n",
      "nums_r = [4, 5, 6, 7, 10, 12, 14, 15, 0, 1, 2]\n"
     ]
    }
   ],
   "source": [
    "nums = [0, 1, 2, 4, 5, 6, 7, 10, 12, 14, 15]\n",
    "print(\"nums = \", nums)\n",
    "pivot_index = 3\n",
    "print(\"pivot_index = \",pivot_index)\n",
    "nums_r = rotate_array(nums, pivot_index)\n",
    "print(\"nums_r =\", nums_r)"
   ]
  },
  {
   "cell_type": "code",
   "execution_count": 6,
   "metadata": {},
   "outputs": [
    {
     "name": "stdout",
     "output_type": "stream",
     "text": [
      "nums =  [0, 1, 2, 4, 5, 6, 7, 10, 12, 14, 15]\n",
      "pivot_index =  9\n",
      "nums_r = [14, 15, 0, 1, 2, 4, 5, 6, 7, 10, 12]\n"
     ]
    }
   ],
   "source": [
    "nums = [0, 1, 2, 4, 5, 6, 7, 10, 12, 14, 15]\n",
    "print(\"nums = \", nums)\n",
    "pivot_index = 9\n",
    "print(\"pivot_index = \",pivot_index)\n",
    "nums_r = rotate_array(nums, pivot_index)\n",
    "print(\"nums_r =\", nums_r)"
   ]
  },
  {
   "cell_type": "code",
   "execution_count": null,
   "metadata": {},
   "outputs": [],
   "source": [
    "nums = [0,1,2,4,5,6,7]\n",
    "print(\"nums = \", nums)\n",
    "pivot_index = 3\n",
    "print(\"pivot_index = \",pivot_index)\n",
    "nums_r = rotate_array(nums, pivot_index)\n",
    "print(\"nums_r =\", nums_r)"
   ]
  },
  {
   "cell_type": "code",
   "execution_count": 130,
   "metadata": {},
   "outputs": [],
   "source": [
    "'''\n",
    "find #target in a rotated array #nums_r\n",
    "'''\n",
    "\n",
    "\n",
    "def test_condition1(nums_r, target, i_min, N):\n",
    "    \n",
    "    if (nums_r[i_min] < nums_r[i_min + 1] and nums_r[i_min] < nums_r[i_min - 1]):\n",
    "        return 'minimum value found'\n",
    "    if nums_r[i_min] < nums_r[-1]:\n",
    "        return 'move left'\n",
    "    elif nums_r[i_min] > nums_r[-1]:\n",
    "        return 'move right'\n",
    "    \n",
    "    \n",
    "    \n",
    "def find_index_of_min_vale_in_rotated_array(nums_r, N):\n",
    "    i_start = 0\n",
    "    i_end = N - 1\n",
    "    i_min = 0 # index position of the minima of the nums_r array\n",
    "\n",
    "    while i_start <= i_end:\n",
    "        i_min = (i_start + i_end) // 2\n",
    "#         print(\"\\t\\t\\ti_start = \", i_start,\"\\ti_min = \", i_min, \"\\ti_end = \", i_end)\n",
    "#         print(\"\\t\\tnums_r[i_min] = \", nums_r[i_min])\n",
    "        \n",
    "        if (i_min == N - 2 and nums_r[i_min] > nums_r[i_min + 1]):\n",
    "            return i_min + 1\n",
    "        else:\n",
    "\n",
    "            result = test_condition1(nums_r, target, i_min, N)\n",
    "\n",
    "            if result == 'move right':\n",
    "                i_start = i_min + 1\n",
    "            elif result == 'move left':\n",
    "                i_end = i_min - 1\n",
    "            elif result == 'minimum value found':\n",
    "                return i_min\n",
    "    \n",
    "\n",
    "    \n",
    "    \n",
    "def test_condition2(array, i_mid, target):\n",
    "    \n",
    "    if array[i_mid] == target:\n",
    "        return 'target found'\n",
    "    elif array[i_mid] < target:\n",
    "        return 'move right'\n",
    "    elif array[i_mid] > target:\n",
    "        return 'move left'\n",
    "    \n",
    "    \n",
    "def binary_search_for_ascending_array(array, target):\n",
    "        \n",
    "    i_start = 0\n",
    "    i_end = len(array) - 1\n",
    "    \n",
    "    while i_start <= i_end:\n",
    "        i_mid = (i_start + i_end) // 2\n",
    "        result = test_condition2(array, i_mid, target)\n",
    "#         print(\"\\t\\t\\ti_start = \", i_start, \"\\ti_mid = \", i_mid, \"\\ti_end =\", i_end,\"\\tarray[i_mid] =\",array[i_mid], \"\\ttarget=\", target)\n",
    "#         print(\"\\t\\t\\tresult = \", result)\n",
    "        if result == 'target found':\n",
    "            return i_mid\n",
    "        elif result == 'move right':\n",
    "            i_start = i_mid + 1\n",
    "        elif result == 'move left':\n",
    "            i_end = i_mid - 1\n",
    "            \n",
    "    return -1\n",
    "\n",
    "    \n",
    "\n",
    "\n",
    "def find_target_in_rotated_array(nums_r, target):\n",
    "    \n",
    "    N = len(nums_r)\n",
    "    \n",
    "    if (N == 0): # if the array is empty\n",
    "        return -1\n",
    "    elif (N == 1): # if array contains only one element\n",
    "        if (nums[0] == target):\n",
    "            return 0\n",
    "        else:\n",
    "            return -1\n",
    "    else:# if array contains more than one element\n",
    "        \n",
    "        # find the index of the minimum value of the array nums_r\n",
    "        i_min = find_index_of_min_vale_in_rotated_array(nums_r, N)\n",
    "#         print(\"\\n\\t\\t\\tOK i_min=\", i_min, \"\\tnums_r[i_min]=\", nums_r[i_min])\n",
    "        \n",
    "#         print(\"\\n\\t\\t\\tnums_r[:i_min]=\", nums_r[:i_min])\n",
    "        # binary search in first segment of the array\n",
    "        index1 = binary_search_for_ascending_array(nums_r[:i_min], target)\n",
    "#         print(\"\\t\\t\\tindex1 = \",index1)\n",
    "        \n",
    "        #binary search in second segment of the array\n",
    "#         print(\"\\n\\t\\t\\tnums_r[:i_min] = \", nums_r[i_min:])\n",
    "        index2 = binary_search_for_ascending_array(nums_r[i_min:], target)\n",
    "#         print(\"\\t\\t\\tindex2 = \",index2)\n",
    "        \n",
    "        if (index1 >= 0 and index2 == -1):\n",
    "            return index1\n",
    "        elif (index1 == -1 and index2 >= 0):\n",
    "            return len(nums_r[:i_min]) + index2\n",
    "        elif (index1 == -1 and index2 == -1):\n",
    "            return -1\n",
    "        \n",
    "        "
   ]
  },
  {
   "cell_type": "code",
   "execution_count": 131,
   "metadata": {},
   "outputs": [
    {
     "name": "stdout",
     "output_type": "stream",
     "text": [
      "nums =  [0, 1, 2, 4, 5, 6, 7]\n",
      "\n",
      "\n",
      "pivot_index =  3\n",
      "nums_r = [4, 5, 6, 7, 0, 1, 2]\n",
      "\n",
      "\n",
      "target =  6\n",
      "\n",
      "\n",
      "answer =  2\n"
     ]
    }
   ],
   "source": [
    "nums = [0,1,2,4,5,6,7]\n",
    "print(\"nums = \", nums)\n",
    "print(\"\\n\")\n",
    "pivot_index = 3\n",
    "print(\"pivot_index = \",pivot_index)\n",
    "nums_r = rotate_array(nums, pivot_index)\n",
    "print(\"nums_r =\", nums_r)\n",
    "print(\"\\n\")\n",
    "target = 6\n",
    "print(\"target = \", target)\n",
    "\n",
    "print(\"\\n\")\n",
    "answer = find_target_in_rotated_array(nums_r, target)\n",
    "print(\"answer = \", answer)"
   ]
  },
  {
   "cell_type": "code",
   "execution_count": 132,
   "metadata": {},
   "outputs": [
    {
     "name": "stdout",
     "output_type": "stream",
     "text": [
      "nums =  []\n",
      "\n",
      "\n",
      "pivot_index =  3\n",
      "nums_r = []\n",
      "\n",
      "\n",
      "target =  6\n",
      "\n",
      "\n",
      "answer =  -1\n"
     ]
    }
   ],
   "source": [
    "nums = []\n",
    "print(\"nums = \", nums)\n",
    "print(\"\\n\")\n",
    "pivot_index = 3\n",
    "print(\"pivot_index = \",pivot_index)\n",
    "nums_r = rotate_array(nums, pivot_index)\n",
    "print(\"nums_r =\", nums_r)\n",
    "print(\"\\n\")\n",
    "target = 6\n",
    "print(\"target = \", target)\n",
    "\n",
    "print(\"\\n\")\n",
    "answer = find_target_in_rotated_array(nums_r, target)\n",
    "print(\"answer = \", answer)"
   ]
  },
  {
   "cell_type": "code",
   "execution_count": 133,
   "metadata": {},
   "outputs": [
    {
     "name": "stdout",
     "output_type": "stream",
     "text": [
      "nums =  [6]\n",
      "\n",
      "\n",
      "pivot_index =  3\n",
      "nums_r = [6]\n",
      "\n",
      "\n",
      "target =  6\n",
      "\n",
      "\n",
      "answer =  0\n"
     ]
    }
   ],
   "source": [
    "nums = [6]\n",
    "print(\"nums = \", nums)\n",
    "print(\"\\n\")\n",
    "pivot_index = 3\n",
    "print(\"pivot_index = \",pivot_index)\n",
    "nums_r = rotate_array(nums, pivot_index)\n",
    "print(\"nums_r =\", nums_r)\n",
    "print(\"\\n\")\n",
    "target = 6\n",
    "print(\"target = \", target)\n",
    "\n",
    "print(\"\\n\")\n",
    "answer = find_target_in_rotated_array(nums_r, target)\n",
    "print(\"answer = \", answer)"
   ]
  },
  {
   "cell_type": "code",
   "execution_count": 134,
   "metadata": {},
   "outputs": [
    {
     "name": "stdout",
     "output_type": "stream",
     "text": [
      "answer =  4\n"
     ]
    }
   ],
   "source": [
    "nums_r = [4,5,6,7,0,1,2]\n",
    "target = 0\n",
    "answer = find_target_in_rotated_array(nums_r, target)\n",
    "print(\"answer = \", answer)"
   ]
  },
  {
   "cell_type": "code",
   "execution_count": 135,
   "metadata": {},
   "outputs": [
    {
     "name": "stdout",
     "output_type": "stream",
     "text": [
      "answer =  -1\n"
     ]
    }
   ],
   "source": [
    "nums_r = [4,5,6,7,0,1,2]\n",
    "target = 3\n",
    "answer = find_target_in_rotated_array(nums_r, target)\n",
    "print(\"answer = \", answer)"
   ]
  },
  {
   "cell_type": "code",
   "execution_count": 136,
   "metadata": {},
   "outputs": [
    {
     "name": "stdout",
     "output_type": "stream",
     "text": [
      "nums =  [0, 1, 2, 3, 4, 5, 6, 7, 8, 9]\n",
      "\n",
      "\n",
      "pivot_index =  0\n",
      "nums_r = [0, 1, 2, 3, 4, 5, 6, 7, 8, 9]\n",
      "\n",
      "\n",
      "target =  6\n",
      "\n",
      "\n",
      "answer =  6\n"
     ]
    }
   ],
   "source": [
    "nums = list(range(0, 10))\n",
    "print(\"nums = \", nums)\n",
    "print(\"\\n\")\n",
    "pivot_index = 0\n",
    "print(\"pivot_index = \",pivot_index)\n",
    "nums_r = rotate_array(nums, pivot_index)\n",
    "print(\"nums_r =\", nums_r)\n",
    "print(\"\\n\")\n",
    "target = 6\n",
    "print(\"target = \", target)\n",
    "\n",
    "print(\"\\n\")\n",
    "answer = find_target_in_rotated_array(nums_r, target)\n",
    "print(\"answer = \", answer)"
   ]
  },
  {
   "cell_type": "code",
   "execution_count": 137,
   "metadata": {},
   "outputs": [
    {
     "name": "stdout",
     "output_type": "stream",
     "text": [
      "nums =  [0, 1, 2, 3, 4, 5, 6, 7, 8, 9]\n",
      "\n",
      "\n",
      "pivot_index =  9\n",
      "nums_r = [9, 0, 1, 2, 3, 4, 5, 6, 7, 8]\n",
      "\n",
      "\n",
      "target =  6\n",
      "\n",
      "\n",
      "answer =  7\n"
     ]
    }
   ],
   "source": [
    "nums = list(range(0, 10))\n",
    "print(\"nums = \", nums)\n",
    "print(\"\\n\")\n",
    "pivot_index = 9\n",
    "print(\"pivot_index = \",pivot_index)\n",
    "nums_r = rotate_array(nums, pivot_index)\n",
    "print(\"nums_r =\", nums_r)\n",
    "print(\"\\n\")\n",
    "target = 6\n",
    "print(\"target = \", target)\n",
    "\n",
    "print(\"\\n\")\n",
    "answer = find_target_in_rotated_array(nums_r, target)\n",
    "print(\"answer = \", answer)"
   ]
  },
  {
   "cell_type": "code",
   "execution_count": 138,
   "metadata": {},
   "outputs": [
    {
     "name": "stdout",
     "output_type": "stream",
     "text": [
      "nums =  [0, 1, 2, 3, 4, 5, 6, 7, 8, 9]\n",
      "\n",
      "\n",
      "pivot_index =  9\n",
      "nums_r = [9, 0, 1, 2, 3, 4, 5, 6, 7, 8]\n",
      "\n",
      "\n",
      "target =  9\n",
      "\n",
      "\n",
      "answer =  0\n"
     ]
    }
   ],
   "source": [
    "nums = list(range(0, 10))\n",
    "print(\"nums = \", nums)\n",
    "print(\"\\n\")\n",
    "pivot_index = 9\n",
    "print(\"pivot_index = \",pivot_index)\n",
    "nums_r = rotate_array(nums, pivot_index)\n",
    "print(\"nums_r =\", nums_r)\n",
    "print(\"\\n\")\n",
    "target = 9\n",
    "print(\"target = \", target)\n",
    "\n",
    "print(\"\\n\")\n",
    "answer = find_target_in_rotated_array(nums_r, target)\n",
    "print(\"answer = \", answer)"
   ]
  },
  {
   "cell_type": "code",
   "execution_count": 139,
   "metadata": {},
   "outputs": [
    {
     "name": "stdout",
     "output_type": "stream",
     "text": [
      "nums =  [0, 1, 2, 3, 4, 5, 6, 7, 8, 9]\n",
      "\n",
      "\n",
      "pivot_index =  1\n",
      "nums_r = [1, 2, 3, 4, 5, 6, 7, 8, 9, 0]\n",
      "\n",
      "\n",
      "target =  6\n",
      "\n",
      "\n",
      "answer =  5\n"
     ]
    }
   ],
   "source": [
    "nums = list(range(0, 10))\n",
    "print(\"nums = \", nums)\n",
    "print(\"\\n\")\n",
    "pivot_index = 1\n",
    "print(\"pivot_index = \",pivot_index)\n",
    "nums_r = rotate_array(nums, pivot_index)\n",
    "print(\"nums_r =\", nums_r)\n",
    "print(\"\\n\")\n",
    "target = 6\n",
    "print(\"target = \", target)\n",
    "\n",
    "print(\"\\n\")\n",
    "answer = find_target_in_rotated_array(nums_r, target)\n",
    "print(\"answer = \", answer)"
   ]
  },
  {
   "cell_type": "code",
   "execution_count": 140,
   "metadata": {},
   "outputs": [
    {
     "name": "stdout",
     "output_type": "stream",
     "text": [
      "nums =  [0, 1, 2, 3, 4, 5, 6, 7, 8, 9]\n",
      "\n",
      "\n",
      "pivot_index =  1\n",
      "nums_r = [1, 2, 3, 4, 5, 6, 7, 8, 9, 0]\n",
      "\n",
      "\n",
      "target =  0\n",
      "\n",
      "\n",
      "answer =  9\n"
     ]
    }
   ],
   "source": [
    "nums = list(range(0, 10))\n",
    "print(\"nums = \", nums)\n",
    "print(\"\\n\")\n",
    "pivot_index = 1\n",
    "print(\"pivot_index = \",pivot_index)\n",
    "nums_r = rotate_array(nums, pivot_index)\n",
    "print(\"nums_r =\", nums_r)\n",
    "print(\"\\n\")\n",
    "target = 0\n",
    "print(\"target = \", target)\n",
    "\n",
    "print(\"\\n\")\n",
    "answer = find_target_in_rotated_array(nums_r, target)\n",
    "print(\"answer = \", answer)"
   ]
  },
  {
   "cell_type": "code",
   "execution_count": null,
   "metadata": {},
   "outputs": [],
   "source": []
  },
  {
   "cell_type": "code",
   "execution_count": null,
   "metadata": {},
   "outputs": [],
   "source": []
  },
  {
   "cell_type": "markdown",
   "metadata": {},
   "source": [
    "### Leetcode solution version"
   ]
  },
  {
   "cell_type": "code",
   "execution_count": 141,
   "metadata": {},
   "outputs": [],
   "source": [
    "class Solution(object):\n",
    "    def search(self, nums, target):\n",
    "        \"\"\"\n",
    "        :type nums: List[int]\n",
    "        :type target: int\n",
    "        :rtype: int\n",
    "        \"\"\"\n",
    "        return find_target_in_rotated_array(nums, target)\n",
    "    \n",
    "    \n",
    "\n",
    "def test_condition1(nums_r, i_min, N):\n",
    "    \n",
    "    if (nums_r[i_min] < nums_r[i_min + 1] and nums_r[i_min] < nums_r[i_min - 1]):\n",
    "        return 'minimum value found'\n",
    "    if nums_r[i_min] < nums_r[-1]:\n",
    "        return 'move left'\n",
    "    elif nums_r[i_min] > nums_r[-1]:\n",
    "        return 'move right'\n",
    "    \n",
    "    \n",
    "    \n",
    "def find_index_of_min_value_in_rotated_array(nums_r, N):\n",
    "    i_start = 0\n",
    "    i_end = N - 1\n",
    "    i_min = 0 # index position of the minima of the nums_r array\n",
    "\n",
    "    while i_start <= i_end:\n",
    "        i_min = (i_start + i_end) // 2\n",
    "        \n",
    "        if (i_min == N - 2 and nums_r[i_min] > nums_r[i_min + 1]): # condition : if the last element is the minimum value\n",
    "            return i_min + 1\n",
    "        else:\n",
    "\n",
    "            result = test_condition1(nums_r, i_min, N)\n",
    "\n",
    "            if result == 'move right':\n",
    "                i_start = i_min + 1\n",
    "            elif result == 'move left':\n",
    "                i_end = i_min - 1\n",
    "            elif result == 'minimum value found':\n",
    "                return i_min\n",
    "    \n",
    "\n",
    "    \n",
    "    \n",
    "def test_condition2(array, i_mid, target):\n",
    "    \n",
    "    if array[i_mid] == target:\n",
    "        return 'target found'\n",
    "    elif array[i_mid] < target:\n",
    "        return 'move right'\n",
    "    elif array[i_mid] > target:\n",
    "        return 'move left'\n",
    "    \n",
    "    \n",
    "    \n",
    "def binary_search_for_ascending_array(array, target):\n",
    "        \n",
    "    i_start = 0\n",
    "    i_end = len(array) - 1\n",
    "    \n",
    "    while i_start <= i_end:\n",
    "        i_mid = (i_start + i_end) // 2\n",
    "        result = test_condition2(array, i_mid, target)\n",
    "\n",
    "        if result == 'target found':\n",
    "            return i_mid\n",
    "        elif result == 'move right':\n",
    "            i_start = i_mid + 1\n",
    "        elif result == 'move left':\n",
    "            i_end = i_mid - 1\n",
    "            \n",
    "    return -1\n",
    "\n",
    "    \n",
    "\n",
    "\n",
    "def find_target_in_rotated_array(nums_r, target):\n",
    "    \n",
    "    N = len(nums_r)\n",
    "    \n",
    "    if (N == 0): # if the array is empty\n",
    "        return -1\n",
    "    elif (N == 1): # if array contains only one element\n",
    "        if nums_r[0] == target:\n",
    "            return 0\n",
    "        else:\n",
    "            return -1\n",
    "    else:# if array contains more than one element\n",
    "        \n",
    "        # find the index of the minimum value of the array nums_r\n",
    "        i_min = find_index_of_min_value_in_rotated_array(nums_r, N)\n",
    "\n",
    "        # divide the array nums_r into two parts about the index i_min as: nums_r[:i_min], nums_r[i_min:]\n",
    "        # Now, both nums_r[:i_min], nums_r[i_min:] are in ascending sorting\n",
    "        # find target in these two arrays independently, using binary search\n",
    "\n",
    "        # binary search in first segment of the array\n",
    "        index1 = binary_search_for_ascending_array(nums_r[:i_min], target)\n",
    "        \n",
    "        #binary search in second segment of the array\n",
    "        index2 = binary_search_for_ascending_array(nums_r[i_min:], target)\n",
    "        \n",
    "        if (index1 >= 0 and index2 == -1):\n",
    "            return index1\n",
    "        elif (index1 == -1 and index2 >= 0):\n",
    "            return len(nums_r[:i_min]) + index2\n",
    "        elif (index1 == -1 and index2 == -1):\n",
    "            return -1\n",
    "        \n",
    "        "
   ]
  },
  {
   "cell_type": "markdown",
   "metadata": {},
   "source": [
    "### Leetcode submission reply\n",
    "\n",
    "Runtime: 41 ms, faster than 52.04% of Python online submissions for Search in Rotated Sorted Array.\n",
    "\n",
    "Memory Usage: 13.5 MB, less than 87.65% of Python online submissions for Search in Rotated Sorted Array."
   ]
  },
  {
   "cell_type": "code",
   "execution_count": null,
   "metadata": {},
   "outputs": [],
   "source": []
  }
 ],
 "metadata": {
  "kernelspec": {
   "display_name": "Python 3",
   "language": "python",
   "name": "python3"
  },
  "language_info": {
   "codemirror_mode": {
    "name": "ipython",
    "version": 3
   },
   "file_extension": ".py",
   "mimetype": "text/x-python",
   "name": "python",
   "nbconvert_exporter": "python",
   "pygments_lexer": "ipython3",
   "version": "3.7.13"
  }
 },
 "nbformat": 4,
 "nbformat_minor": 4
}
