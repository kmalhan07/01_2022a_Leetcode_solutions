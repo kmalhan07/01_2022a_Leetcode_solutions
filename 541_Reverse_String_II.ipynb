{
 "cells": [
  {
   "cell_type": "markdown",
   "metadata": {},
   "source": [
    "### 541. Reverse String II\n",
    "\n",
    "### https://leetcode.com/problems/reverse-string-ii/description/\n",
    "\n",
    "**Constraints:**\n",
    "    \n",
    "$\\bullet$  1 <= s.length <= $10^4$\n",
    "    \n",
    "$\\bullet$  s consists of only lowercase English letters.\n",
    "    \n",
    "$\\bullet$  1 <= k <= $10^4$\n"
   ]
  },
  {
   "cell_type": "code",
   "execution_count": 23,
   "metadata": {},
   "outputs": [],
   "source": [
    "def rs(s, k):\n",
    "    for i in range(0, len(s), 2*k):\n",
    "        s = s[0: i] + s[i: i + k][::-1] + s[i + k:]\n",
    "    return s"
   ]
  },
  {
   "cell_type": "code",
   "execution_count": 24,
   "metadata": {},
   "outputs": [
    {
     "name": "stdout",
     "output_type": "stream",
     "text": [
      "\n",
      "answer =  bacdfeg\n"
     ]
    }
   ],
   "source": [
    "s = \"abcdefg\"\n",
    "k = 2\n",
    "answer = rs(s, k)\n",
    "print(\"\\nanswer = \", answer)"
   ]
  },
  {
   "cell_type": "code",
   "execution_count": 25,
   "metadata": {},
   "outputs": [
    {
     "name": "stdout",
     "output_type": "stream",
     "text": [
      "\n",
      "answer =  bacd\n"
     ]
    }
   ],
   "source": [
    "s = \"abcd\"\n",
    "k = 2\n",
    "answer = rs(s, k)\n",
    "print(\"\\nanswer = \", answer)"
   ]
  },
  {
   "cell_type": "markdown",
   "metadata": {},
   "source": [
    "### Leetcode"
   ]
  },
  {
   "cell_type": "code",
   "execution_count": 26,
   "metadata": {},
   "outputs": [],
   "source": [
    "class Solution(object):\n",
    "    def reverseStr(self, s, k):\n",
    "        \"\"\"\n",
    "        :type s: str\n",
    "        :type k: int\n",
    "        :rtype: str\n",
    "        \"\"\"\n",
    "        return rs(s, k)\n",
    "    \n",
    "    \n",
    "def rs(s, k):\n",
    "    for i in range(0, len(s), 2*k):\n",
    "        s = s[0: i] + s[i: i + k][::-1] + s[i + k:]\n",
    "    return s"
   ]
  },
  {
   "cell_type": "markdown",
   "metadata": {},
   "source": [
    "**Runtime 34 ms, Beats 60.87%**\n",
    "\n",
    "**Memory13.8 MB, Beats 71.10%**"
   ]
  },
  {
   "cell_type": "code",
   "execution_count": null,
   "metadata": {},
   "outputs": [],
   "source": []
  }
 ],
 "metadata": {
  "kernelspec": {
   "display_name": "Python 3",
   "language": "python",
   "name": "python3"
  },
  "language_info": {
   "codemirror_mode": {
    "name": "ipython",
    "version": 3
   },
   "file_extension": ".py",
   "mimetype": "text/x-python",
   "name": "python",
   "nbconvert_exporter": "python",
   "pygments_lexer": "ipython3",
   "version": "3.7.13"
  }
 },
 "nbformat": 4,
 "nbformat_minor": 4
}
