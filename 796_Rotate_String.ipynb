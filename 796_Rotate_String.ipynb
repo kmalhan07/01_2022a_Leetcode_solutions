{
 "cells": [
  {
   "cell_type": "markdown",
   "metadata": {},
   "source": [
    "### 796. Rotate String\n",
    "\n",
    "### https://leetcode.com/problems/rotate-string/"
   ]
  },
  {
   "cell_type": "code",
   "execution_count": 5,
   "metadata": {},
   "outputs": [],
   "source": [
    "def rs(s, goal):\n",
    "    \n",
    "    for i in range(0, len(s)):\n",
    "        if s[i:] + s[:i] == goal:\n",
    "            return True\n",
    "        \n",
    "    return False"
   ]
  },
  {
   "cell_type": "code",
   "execution_count": 6,
   "metadata": {},
   "outputs": [
    {
     "name": "stdout",
     "output_type": "stream",
     "text": [
      "\n",
      "answer = True\n"
     ]
    }
   ],
   "source": [
    "s = \"abcde\"\n",
    "goal = \"cdeab\"\n",
    "answer = rs(s, goal)\n",
    "print(\"\\nanswer =\", answer)"
   ]
  },
  {
   "cell_type": "code",
   "execution_count": 7,
   "metadata": {},
   "outputs": [
    {
     "name": "stdout",
     "output_type": "stream",
     "text": [
      "\n",
      "answer = False\n"
     ]
    }
   ],
   "source": [
    "s = \"abcde\"\n",
    "goal = \"abced\"\n",
    "answer = rs(s, goal)\n",
    "print(\"\\nanswer =\", answer)"
   ]
  },
  {
   "cell_type": "markdown",
   "metadata": {},
   "source": [
    "### Leetcode"
   ]
  },
  {
   "cell_type": "code",
   "execution_count": 8,
   "metadata": {},
   "outputs": [],
   "source": [
    "class Solution(object):\n",
    "    def rotateString(self, s, goal):\n",
    "        \"\"\"\n",
    "        :type s: str\n",
    "        :type goal: str\n",
    "        :rtype: bool\n",
    "        \"\"\"\n",
    "        return rs(s, goal)\n",
    "    \n",
    "    \n",
    "def rs(s, goal):\n",
    "    \n",
    "    for i in range(0, len(s)):\n",
    "        if s[i:] + s[:i] == goal:\n",
    "            return True\n",
    "        \n",
    "    return False"
   ]
  },
  {
   "cell_type": "markdown",
   "metadata": {},
   "source": [
    "**Runtime33 ms, Beats 37.42%**\n",
    "\n",
    "**Memory 13.3 MB, Beats 93.99%**"
   ]
  },
  {
   "cell_type": "code",
   "execution_count": null,
   "metadata": {},
   "outputs": [],
   "source": []
  }
 ],
 "metadata": {
  "kernelspec": {
   "display_name": "Python 3",
   "language": "python",
   "name": "python3"
  },
  "language_info": {
   "codemirror_mode": {
    "name": "ipython",
    "version": 3
   },
   "file_extension": ".py",
   "mimetype": "text/x-python",
   "name": "python",
   "nbconvert_exporter": "python",
   "pygments_lexer": "ipython3",
   "version": "3.7.13"
  }
 },
 "nbformat": 4,
 "nbformat_minor": 4
}
