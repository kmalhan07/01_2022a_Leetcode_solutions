{
 "cells": [
  {
   "cell_type": "markdown",
   "metadata": {},
   "source": [
    "### https://leetcode.com/problems/palindrome-number/\n",
    "\n",
    "# 9. Palindrome Number\n",
    "\n",
    "\n",
    "**Constraints:**\n",
    "\n",
    "$-2^{31} <= x <= 2^{31} - 1$"
   ]
  },
  {
   "cell_type": "code",
   "execution_count": 21,
   "metadata": {},
   "outputs": [],
   "source": [
    "def IsItPalindrome(x):\n",
    "    \n",
    "    x_str = str(x)\n",
    "    n = len(x_str)\n",
    "    \n",
    "    if n%2 == 0:\n",
    "        if x_str[:n//2] == x_str[n//2:][::-1]:\n",
    "            return True\n",
    "    elif n%2 == 1:\n",
    "        if x_str[:n//2] == x_str[n//2 + 1:][::-1]:\n",
    "            return True\n",
    "    else:\n",
    "        return False\n"
   ]
  },
  {
   "cell_type": "code",
   "execution_count": 22,
   "metadata": {},
   "outputs": [
    {
     "name": "stdout",
     "output_type": "stream",
     "text": [
      "\n",
      "n = 3\n",
      "odd\n",
      "x_str[:n//2]= 1 \n",
      "x_str[n//2 + 1:][::-1]= 1\n",
      "answer = True\n"
     ]
    }
   ],
   "source": [
    "x = 121\n",
    "answer = IsItPalindrome(x)\n",
    "print(\"answer =\", answer)"
   ]
  },
  {
   "cell_type": "code",
   "execution_count": 23,
   "metadata": {},
   "outputs": [
    {
     "name": "stdout",
     "output_type": "stream",
     "text": [
      "\n",
      "n = 4\n",
      "even\n",
      "x_str[:n//2]= -1 \n",
      "x_str[n//2:][::-1]= 12\n",
      "answer = None\n"
     ]
    }
   ],
   "source": [
    "x = -121\n",
    "answer = IsItPalindrome(x)\n",
    "print(\"answer =\", answer)"
   ]
  },
  {
   "cell_type": "code",
   "execution_count": 24,
   "metadata": {},
   "outputs": [
    {
     "name": "stdout",
     "output_type": "stream",
     "text": [
      "x = 1313384\n",
      "\n",
      "n = 7\n",
      "odd\n",
      "x_str[:n//2]= 131 \n",
      "x_str[n//2 + 1:][::-1]= 483\n",
      "answer = None\n"
     ]
    }
   ],
   "source": [
    "import random\n",
    "x = random.randint(pow(2,20), pow(2,22))\n",
    "print(\"x =\", x)\n",
    "answer = IsItPalindrome(x)\n",
    "print(\"answer =\", answer)"
   ]
  },
  {
   "cell_type": "markdown",
   "metadata": {},
   "source": [
    "### Leetcode solution"
   ]
  },
  {
   "cell_type": "code",
   "execution_count": 25,
   "metadata": {},
   "outputs": [],
   "source": [
    "class Solution(object):\n",
    "    def isPalindrome(self, x):\n",
    "        \n",
    "        return IsItPalindrome(x)\n",
    "    \n",
    "    \n",
    "def IsItPalindrome(x):\n",
    "    \n",
    "    x_str = str(x)\n",
    "    n = len(x_str)\n",
    "    \n",
    "    if n%2 == 0:\n",
    "        if x_str[:n//2] == x_str[n//2:][::-1]:\n",
    "            return True\n",
    "    elif n%2 == 1:\n",
    "        if x_str[:n//2] == x_str[n//2 + 1:][::-1]:\n",
    "            return True\n",
    "    else:\n",
    "        return False\n"
   ]
  },
  {
   "cell_type": "markdown",
   "metadata": {},
   "source": [
    "**Runtime: 52 ms, faster than 94.67% of Python online submissions for Palindrome Number.**\n",
    "    \n",
    "**Memory Usage: 13.4 MB, less than 63.86% of Python online submissions for Palindrome Number.**"
   ]
  },
  {
   "cell_type": "code",
   "execution_count": null,
   "metadata": {},
   "outputs": [],
   "source": []
  }
 ],
 "metadata": {
  "kernelspec": {
   "display_name": "Python 3",
   "language": "python",
   "name": "python3"
  },
  "language_info": {
   "codemirror_mode": {
    "name": "ipython",
    "version": 3
   },
   "file_extension": ".py",
   "mimetype": "text/x-python",
   "name": "python",
   "nbconvert_exporter": "python",
   "pygments_lexer": "ipython3",
   "version": "3.7.13"
  }
 },
 "nbformat": 4,
 "nbformat_minor": 4
}
