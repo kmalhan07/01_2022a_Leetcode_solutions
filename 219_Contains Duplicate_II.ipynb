{
 "cells": [
  {
   "cell_type": "markdown",
   "metadata": {},
   "source": [
    "### 219. Contains Duplicate II\n",
    "\n",
    "### https://leetcode.com/problems/contains-duplicate-ii/\n",
    "\n",
    "**Constraints:**\n",
    "\n",
    "$\\bullet$ 1 <= nums.length <= $10^5$\n",
    "\n",
    "$\\bullet$ $-10^9$ <= nums[i] <= $10^9$\n",
    "\n",
    "$\\bullet$ 0 <= k <= $10^5$"
   ]
  },
  {
   "cell_type": "code",
   "execution_count": 48,
   "metadata": {},
   "outputs": [],
   "source": [
    "def contains_duplicate_ii(nums, k):\n",
    "    \n",
    "    # List of elements that are repeated in nums\n",
    "    seen = set()\n",
    "    nums_rep = [x for x in nums if x in seen or seen.add(x)]\n",
    "    \n",
    "    # Find indices of each repeated element, and see the difference of the indices\n",
    "    for element in nums_rep:\n",
    "        indices_of_element = [x for x,value in enumerate(nums) if value == element]\n",
    "        diff = [abs(j-i) for i, j in zip(indices_of_element[:-1], indices_of_element[1:])]\n",
    "        if min(diff) <= k:\n",
    "            return True\n",
    "\n",
    "    return False"
   ]
  },
  {
   "cell_type": "code",
   "execution_count": 49,
   "metadata": {},
   "outputs": [
    {
     "name": "stdout",
     "output_type": "stream",
     "text": [
      "\n",
      "answer =  True\n"
     ]
    }
   ],
   "source": [
    "nums = [1,2,3,1]\n",
    "k = 3\n",
    "answer = contains_duplicate_ii(nums, k)\n",
    "print(\"\\nanswer = \",answer)"
   ]
  },
  {
   "cell_type": "code",
   "execution_count": 50,
   "metadata": {},
   "outputs": [
    {
     "name": "stdout",
     "output_type": "stream",
     "text": [
      "\n",
      "answer =  True\n"
     ]
    }
   ],
   "source": [
    "nums = [1, 3, 7, 8, 3, -3, 3, 0]\n",
    "k = 2\n",
    "answer = contains_duplicate_ii(nums, k)\n",
    "print(\"\\nanswer = \",answer)"
   ]
  },
  {
   "cell_type": "markdown",
   "metadata": {},
   "source": [
    "### leetcode "
   ]
  },
  {
   "cell_type": "code",
   "execution_count": 51,
   "metadata": {},
   "outputs": [],
   "source": [
    "class Solution(object):\n",
    "    def containsNearbyDuplicate(self, nums, k):\n",
    "        \"\"\"\n",
    "        :type nums: List[int]\n",
    "        :type k: int\n",
    "        :rtype: bool\n",
    "        \"\"\"\n",
    "        return contains_duplicate_ii(nums, k)\n",
    "    \n",
    "    \n",
    "def contains_duplicate_ii(nums, k):\n",
    "    \n",
    "    # List of elements that are repeated in nums\n",
    "    seen = set()\n",
    "    nums_rep = [x for x in nums if x in seen or seen.add(x)]\n",
    "    \n",
    "    # Find indices of each repeated element, and see the difference of the indices\n",
    "    for element in nums_rep:\n",
    "        indices_of_element = [x for x,value in enumerate(nums) if value == element]\n",
    "        diff = [abs(j-i) for i, j in zip(indices_of_element[:-1], indices_of_element[1:])]\n",
    "        if min(diff) <= k:\n",
    "            return True\n",
    "\n",
    "    return False"
   ]
  },
  {
   "cell_type": "markdown",
   "metadata": {},
   "source": [
    "**Runtime: 1392 ms, faster than 8.73% of Python online submissions for Contains Duplicate II.**\n",
    "    \n",
    "**Memory Usage: 24 MB, less than 84.01% of Python online submissions for Contains Duplicate II.**"
   ]
  },
  {
   "cell_type": "code",
   "execution_count": null,
   "metadata": {},
   "outputs": [],
   "source": []
  },
  {
   "cell_type": "code",
   "execution_count": null,
   "metadata": {},
   "outputs": [],
   "source": []
  }
 ],
 "metadata": {
  "kernelspec": {
   "display_name": "Python 3",
   "language": "python",
   "name": "python3"
  },
  "language_info": {
   "codemirror_mode": {
    "name": "ipython",
    "version": 3
   },
   "file_extension": ".py",
   "mimetype": "text/x-python",
   "name": "python",
   "nbconvert_exporter": "python",
   "pygments_lexer": "ipython3",
   "version": "3.7.13"
  }
 },
 "nbformat": 4,
 "nbformat_minor": 4
}
