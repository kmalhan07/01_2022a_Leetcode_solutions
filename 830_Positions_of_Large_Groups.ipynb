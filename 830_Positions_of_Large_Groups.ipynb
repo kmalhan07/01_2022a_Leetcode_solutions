{
 "cells": [
  {
   "cell_type": "markdown",
   "metadata": {},
   "source": [
    "### 830. Positions of Large Groups\n",
    "\n",
    "### https://leetcode.com/problems/positions-of-large-groups/"
   ]
  },
  {
   "cell_type": "code",
   "execution_count": 96,
   "metadata": {},
   "outputs": [],
   "source": [
    "def positions(s):\n",
    "    \n",
    "    n = len(s)\n",
    "    result = []\n",
    "    \n",
    "    start, end = 0, 0\n",
    "    for i in range(0, n):\n",
    "        if i == n - 1:\n",
    "            if (end - start) >= 2:\n",
    "                result.append([start, end])\n",
    "        elif s[i] == s[i + 1]:\n",
    "            end += 1\n",
    "        elif s[i] != s[i + 1]:\n",
    "            if (end - start) >= 2:\n",
    "                result.append([start, end])\n",
    "            start = i + 1\n",
    "            end = i + 1\n",
    "                    \n",
    "    return result"
   ]
  },
  {
   "cell_type": "code",
   "execution_count": 97,
   "metadata": {},
   "outputs": [
    {
     "name": "stdout",
     "output_type": "stream",
     "text": [
      "\n",
      "answer =  [[3, 6]]\n"
     ]
    }
   ],
   "source": [
    "s = \"abbxxxxzzy\"\n",
    "answer = positions(s)\n",
    "print(\"\\nanswer = \", answer)"
   ]
  },
  {
   "cell_type": "code",
   "execution_count": 98,
   "metadata": {},
   "outputs": [
    {
     "name": "stdout",
     "output_type": "stream",
     "text": [
      "\n",
      "answer =  []\n"
     ]
    }
   ],
   "source": [
    "s = \"abc\"\n",
    "answer = positions(s)\n",
    "print(\"\\nanswer = \", answer)"
   ]
  },
  {
   "cell_type": "code",
   "execution_count": 99,
   "metadata": {},
   "outputs": [
    {
     "name": "stdout",
     "output_type": "stream",
     "text": [
      "\n",
      "answer =  [[3, 5], [6, 9], [12, 14]]\n"
     ]
    }
   ],
   "source": [
    "s = \"abcdddeeeeaabbbcd\"\n",
    "answer = positions(s)\n",
    "print(\"\\nanswer = \", answer)"
   ]
  },
  {
   "cell_type": "code",
   "execution_count": 100,
   "metadata": {},
   "outputs": [
    {
     "name": "stdout",
     "output_type": "stream",
     "text": [
      "\n",
      "answer =  [[0, 2]]\n"
     ]
    }
   ],
   "source": [
    "s = \"aaa\"\n",
    "answer = positions(s)\n",
    "print(\"\\nanswer = \", answer)"
   ]
  },
  {
   "cell_type": "markdown",
   "metadata": {},
   "source": [
    "### Leetcode"
   ]
  },
  {
   "cell_type": "code",
   "execution_count": 35,
   "metadata": {},
   "outputs": [],
   "source": [
    "class Solution(object):\n",
    "    def largeGroupPositions(self, s):\n",
    "        \"\"\"\n",
    "        :type s: str\n",
    "        :rtype: List[List[int]]\n",
    "        \"\"\"\n",
    "        return positions(s)\n",
    "    \n",
    "    \n",
    "    \n",
    "def positions(s):\n",
    "    \n",
    "    n = len(s)\n",
    "    result = []\n",
    "    \n",
    "    start, end = 0, 0\n",
    "    for i in range(0, n):\n",
    "        if i == n - 1:\n",
    "            if (end - start) >= 2:\n",
    "                result.append([start, end])\n",
    "        elif s[i] == s[i + 1]:\n",
    "            end += 1\n",
    "        elif s[i] != s[i + 1]:\n",
    "            if (end - start) >= 2:\n",
    "                result.append([start, end])\n",
    "            start = i + 1\n",
    "            end = i + 1\n",
    "                    \n",
    "    return result"
   ]
  },
  {
   "cell_type": "markdown",
   "metadata": {},
   "source": [
    "**Runtime 25 ms, Beats 91.43%**\n",
    "\n",
    "**Memory 13.4 MB, Beats 65.71%**"
   ]
  },
  {
   "cell_type": "code",
   "execution_count": null,
   "metadata": {},
   "outputs": [],
   "source": []
  }
 ],
 "metadata": {
  "kernelspec": {
   "display_name": "Python 3",
   "language": "python",
   "name": "python3"
  },
  "language_info": {
   "codemirror_mode": {
    "name": "ipython",
    "version": 3
   },
   "file_extension": ".py",
   "mimetype": "text/x-python",
   "name": "python",
   "nbconvert_exporter": "python",
   "pygments_lexer": "ipython3",
   "version": "3.7.13"
  }
 },
 "nbformat": 4,
 "nbformat_minor": 4
}
