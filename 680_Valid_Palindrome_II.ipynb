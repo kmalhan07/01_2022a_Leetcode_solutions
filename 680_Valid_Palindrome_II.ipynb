{
 "cells": [
  {
   "cell_type": "markdown",
   "metadata": {},
   "source": [
    "### 680. Valid Palindrome II\n",
    "\n",
    "### https://leetcode.com/problems/valid-palindrome-ii/\n",
    "\n",
    "**Constraints:**\n",
    "    \n",
    "$\\bullet$ 1 <= s.length <= $10^5$\n",
    "\n",
    "$\\bullet$ s consists of lowercase English letters."
   ]
  },
  {
   "cell_type": "code",
   "execution_count": 93,
   "metadata": {},
   "outputs": [],
   "source": [
    "def vpII(s):\n",
    "    \n",
    "    if s == s[::-1]:\n",
    "        return True\n",
    "    else:\n",
    "        n = len(s)\n",
    "        \n",
    "        for i in range(0, n//2):\n",
    "\n",
    "            if s[i] != s[n - i - 1]:\n",
    "                \n",
    "                str1 = s[:i] + s[i + 1:]\n",
    "                if str1 == str1[::-1]:\n",
    "                    return True\n",
    "                \n",
    "                str1 = s[:n - i - 1] + s[n - i:]\n",
    "                if str1 == str1[::-1]:\n",
    "                    return True\n",
    "                \n",
    "                return False"
   ]
  },
  {
   "cell_type": "code",
   "execution_count": 94,
   "metadata": {},
   "outputs": [
    {
     "name": "stdout",
     "output_type": "stream",
     "text": [
      "\n",
      "answer =  True\n"
     ]
    }
   ],
   "source": [
    "s = \"aba\"\n",
    "answer = vpII(s)\n",
    "print(\"\\nanswer = \", answer)"
   ]
  },
  {
   "cell_type": "code",
   "execution_count": 95,
   "metadata": {},
   "outputs": [
    {
     "name": "stdout",
     "output_type": "stream",
     "text": [
      "\n",
      "answer =  True\n"
     ]
    }
   ],
   "source": [
    "s = \"abca\"\n",
    "answer = vpII(s)\n",
    "print(\"\\nanswer = \", answer)"
   ]
  },
  {
   "cell_type": "code",
   "execution_count": 96,
   "metadata": {},
   "outputs": [
    {
     "name": "stdout",
     "output_type": "stream",
     "text": [
      "\n",
      "answer =  False\n"
     ]
    }
   ],
   "source": [
    "s = \"abc\"\n",
    "answer = vpII(s)\n",
    "print(\"\\nanswer = \", answer)"
   ]
  },
  {
   "cell_type": "code",
   "execution_count": 97,
   "metadata": {},
   "outputs": [
    {
     "name": "stdout",
     "output_type": "stream",
     "text": [
      "\n",
      "answer =  True\n"
     ]
    }
   ],
   "source": [
    "s = \"eccer\"\n",
    "answer = vpII(s)\n",
    "print(\"\\nanswer = \", answer)"
   ]
  },
  {
   "cell_type": "code",
   "execution_count": 98,
   "metadata": {},
   "outputs": [
    {
     "name": "stdout",
     "output_type": "stream",
     "text": [
      "\n",
      "answer =  True\n"
     ]
    }
   ],
   "source": [
    "s = \"cdbeeeabddddbaeedebdc\"\n",
    "answer = vpII(s)\n",
    "print(\"\\nanswer = \", answer)"
   ]
  },
  {
   "cell_type": "code",
   "execution_count": 99,
   "metadata": {},
   "outputs": [],
   "source": [
    "class Solution(object):\n",
    "    def validPalindrome(self, s):\n",
    "        \"\"\"\n",
    "        :type s: str\n",
    "        :rtype: bool\n",
    "        \"\"\"\n",
    "        return vpII(s)\n",
    "    \n",
    "    \n",
    "def vpII(s):\n",
    "    \n",
    "    if s == s[::-1]:\n",
    "        return True\n",
    "    else:\n",
    "        n = len(s)\n",
    "        \n",
    "        for i in range(0, n//2):\n",
    "\n",
    "            if s[i] != s[n - i - 1]:\n",
    "                \n",
    "                str1 = s[:i] + s[i + 1:]\n",
    "                if str1 == str1[::-1]:\n",
    "                    return True\n",
    "                \n",
    "                str1 = s[:n - i - 1] + s[n - i:]\n",
    "                if str1 == str1[::-1]:\n",
    "                    return True\n",
    "                \n",
    "                return False"
   ]
  },
  {
   "cell_type": "markdown",
   "metadata": {},
   "source": [
    "**Runtime 36 ms, Beats 100%**\n",
    "\n",
    "**Memory 15.1 MB, Beats 9.55%**"
   ]
  },
  {
   "cell_type": "code",
   "execution_count": null,
   "metadata": {},
   "outputs": [],
   "source": []
  }
 ],
 "metadata": {
  "kernelspec": {
   "display_name": "Python 3",
   "language": "python",
   "name": "python3"
  },
  "language_info": {
   "codemirror_mode": {
    "name": "ipython",
    "version": 3
   },
   "file_extension": ".py",
   "mimetype": "text/x-python",
   "name": "python",
   "nbconvert_exporter": "python",
   "pygments_lexer": "ipython3",
   "version": "3.7.13"
  }
 },
 "nbformat": 4,
 "nbformat_minor": 4
}
