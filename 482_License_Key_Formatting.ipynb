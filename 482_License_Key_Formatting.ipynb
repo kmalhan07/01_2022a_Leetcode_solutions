{
 "cells": [
  {
   "cell_type": "markdown",
   "metadata": {},
   "source": [
    "### https://leetcode.com/problems/license-key-formatting/\n",
    "\n",
    "### 482. License Key Formatting\n",
    "\n",
    "**Constraints**\n",
    "\n",
    "$\\bullet$ 1 <= s.length <= $10^5$\n",
    "    \n",
    "$\\bullet$ s consists of English letters, digits, and dashes '-'.\n",
    "    \n",
    "$\\bullet$ 1 <= k <= $10^4$\n"
   ]
  },
  {
   "cell_type": "code",
   "execution_count": 104,
   "metadata": {},
   "outputs": [],
   "source": [
    "def lkf(s, k):\n",
    "    \n",
    "    # if no alphanumeric characters in string, return \"\"\n",
    "    if not(any(letter.isalnum() for letter in s)):\n",
    "        return \"\"\n",
    "    \n",
    "    s = s.upper()\n",
    "    s = s.replace(\"-\", \"\")\n",
    "\n",
    "    for ind in range(len(s) - k, 0, -k):\n",
    "        s = s[:ind] + \"-\" + s[ind:]\n",
    "        \n",
    "    return s"
   ]
  },
  {
   "cell_type": "code",
   "execution_count": 105,
   "metadata": {},
   "outputs": [
    {
     "name": "stdout",
     "output_type": "stream",
     "text": [
      "\n",
      "answer =  5F3Z-2E9W\n"
     ]
    }
   ],
   "source": [
    "s = \"5F3Z-2e-9-w\"\n",
    "k = 4\n",
    "answer = lkf(s, k)\n",
    "print(\"\\nanswer = \", answer)"
   ]
  },
  {
   "cell_type": "code",
   "execution_count": 106,
   "metadata": {},
   "outputs": [
    {
     "name": "stdout",
     "output_type": "stream",
     "text": [
      "\n",
      "answer =  2-5G-3J\n"
     ]
    }
   ],
   "source": [
    "s = \"2-5g-3-J\"\n",
    "k = 2\n",
    "answer = lkf(s, k)\n",
    "print(\"\\nanswer = \", answer)"
   ]
  },
  {
   "cell_type": "code",
   "execution_count": 107,
   "metadata": {},
   "outputs": [
    {
     "name": "stdout",
     "output_type": "stream",
     "text": [
      "\n",
      "answer =  AA-AA\n"
     ]
    }
   ],
   "source": [
    "s = \"--a-a-a-a--\"\n",
    "k = 2\n",
    "answer = lkf(s, k)\n",
    "print(\"\\nanswer = \", answer)"
   ]
  },
  {
   "cell_type": "code",
   "execution_count": 108,
   "metadata": {},
   "outputs": [
    {
     "name": "stdout",
     "output_type": "stream",
     "text": [
      "\n",
      "answer =  \n"
     ]
    }
   ],
   "source": [
    "s = \"---\"\n",
    "k = 3\n",
    "answer = lkf(s, k)\n",
    "print(\"\\nanswer = \", answer)"
   ]
  },
  {
   "cell_type": "markdown",
   "metadata": {},
   "source": [
    "### Leetcode"
   ]
  },
  {
   "cell_type": "code",
   "execution_count": 109,
   "metadata": {},
   "outputs": [],
   "source": [
    "class Solution(object):\n",
    "    def licenseKeyFormatting(self, s, k):\n",
    "        \"\"\"\n",
    "        :type s: str\n",
    "        :type k: int\n",
    "        :rtype: str\n",
    "        \"\"\"\n",
    "        return lkf(s, k)\n",
    "    \n",
    "\n",
    "def lkf(s, k):\n",
    "    \n",
    "    # if no alphanumeric characters in string, return \"\"\n",
    "    if not(any(letter.isalnum() for letter in s)):\n",
    "        return \"\"\n",
    "    \n",
    "    s = s.upper()\n",
    "    s = s.replace(\"-\", \"\")\n",
    "\n",
    "    for ind in range(len(s) - k, 0, -k):\n",
    "        s = s[:ind] + \"-\" + s[ind:]\n",
    "        \n",
    "    return s"
   ]
  },
  {
   "cell_type": "markdown",
   "metadata": {},
   "source": [
    "**Runtime 1030 ms, Beats 51.76%**\n",
    "\n",
    "**Memory 16.2 MB, Beats 17.79%**"
   ]
  },
  {
   "cell_type": "code",
   "execution_count": null,
   "metadata": {},
   "outputs": [],
   "source": []
  }
 ],
 "metadata": {
  "kernelspec": {
   "display_name": "Python 3",
   "language": "python",
   "name": "python3"
  },
  "language_info": {
   "codemirror_mode": {
    "name": "ipython",
    "version": 3
   },
   "file_extension": ".py",
   "mimetype": "text/x-python",
   "name": "python",
   "nbconvert_exporter": "python",
   "pygments_lexer": "ipython3",
   "version": "3.7.13"
  }
 },
 "nbformat": 4,
 "nbformat_minor": 4
}
