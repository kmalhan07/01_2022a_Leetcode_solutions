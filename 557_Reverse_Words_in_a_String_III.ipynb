{
 "cells": [
  {
   "cell_type": "markdown",
   "metadata": {},
   "source": [
    "### 557. Reverse Words in a String III\n",
    "\n",
    "### https://leetcode.com/problems/reverse-words-in-a-string-iii/\n",
    "\n",
    "**Constraints:**\n",
    "\n",
    "$\\bullet$ 1 <= s.length <= 5 * $10^4$\n",
    "    \n",
    "$\\bullet$ s contains printable ASCII characters.\n",
    "    \n",
    "$\\bullet$ s does not contain any leading or trailing spaces.\n",
    "    \n",
    "$\\bullet$ There is at least one word in s.\n",
    "    \n",
    "$\\bullet$ All the words in s are separated by a single space.\n"
   ]
  },
  {
   "cell_type": "code",
   "execution_count": 102,
   "metadata": {},
   "outputs": [],
   "source": [
    "def rws(s):\n",
    "    \n",
    "    ind_space = [i for i, c in enumerate(s) if c == \" \"]\n",
    "    \n",
    "    if len(ind_space) == 0:\n",
    "        return s[::-1]\n",
    "\n",
    "    for j in range(0, len(ind_space)):\n",
    "        if j == 0:\n",
    "            s = s[j: ind_space[j]][::-1] + s[ind_space[j]:]\n",
    "        else:\n",
    "            s =  s[: ind_space[j - 1]] + s[ind_space[j - 1] + 1: ind_space[j] + 1][::-1] + s[ind_space[j]:]\n",
    "        \n",
    "    return s[: ind_space[-1] + 1] + s[ind_space[-1] + 1:][::-1]"
   ]
  },
  {
   "cell_type": "code",
   "execution_count": 103,
   "metadata": {},
   "outputs": [
    {
     "name": "stdout",
     "output_type": "stream",
     "text": [
      "\n",
      "answer =  s'teL ekat edoCteeL tsetnoc\n"
     ]
    }
   ],
   "source": [
    "s = \"Let's take LeetCode contest\"\n",
    "answer = rws(s)\n",
    "print(\"\\nanswer = \", answer)"
   ]
  },
  {
   "cell_type": "code",
   "execution_count": 104,
   "metadata": {},
   "outputs": [
    {
     "name": "stdout",
     "output_type": "stream",
     "text": [
      "\n",
      "answer =  doG gniD\n"
     ]
    }
   ],
   "source": [
    "s = \"God Ding\"\n",
    "answer = rws(s)\n",
    "print(\"\\nanswer = \", answer)"
   ]
  },
  {
   "cell_type": "markdown",
   "metadata": {},
   "source": [
    "### Leetcode"
   ]
  },
  {
   "cell_type": "code",
   "execution_count": 98,
   "metadata": {},
   "outputs": [],
   "source": [
    "class Solution(object):\n",
    "    def reverseWords(self, s):\n",
    "        \"\"\"\n",
    "        :type s: str\n",
    "        :rtype: str\n",
    "        \"\"\"\n",
    "        return rws(s)\n",
    "    \n",
    "\n",
    "def rws(s):\n",
    "    \n",
    "    ind_space = [i for i, c in enumerate(s) if c == \" \"]\n",
    "    \n",
    "    if len(ind_space) == 0:\n",
    "        return s[::-1]\n",
    "\n",
    "    for j in range(0, len(ind_space)):\n",
    "        if j == 0:\n",
    "            s = s[j: ind_space[j]][::-1] + s[ind_space[j]:]\n",
    "        else:\n",
    "            s =  s[: ind_space[j - 1]] + s[ind_space[j - 1] + 1: ind_space[j] + 1][::-1] + s[ind_space[j]:]\n",
    "        \n",
    "    return s[: ind_space[-1] + 1] + s[ind_space[-1] + 1:][::-1]"
   ]
  },
  {
   "cell_type": "markdown",
   "metadata": {},
   "source": [
    "**Runtime 430 ms, Beats 8.44%**\n",
    "\n",
    "**Memory 14.4 MB, Beats 79.32%**"
   ]
  },
  {
   "cell_type": "code",
   "execution_count": null,
   "metadata": {},
   "outputs": [],
   "source": []
  }
 ],
 "metadata": {
  "kernelspec": {
   "display_name": "Python 3",
   "language": "python",
   "name": "python3"
  },
  "language_info": {
   "codemirror_mode": {
    "name": "ipython",
    "version": 3
   },
   "file_extension": ".py",
   "mimetype": "text/x-python",
   "name": "python",
   "nbconvert_exporter": "python",
   "pygments_lexer": "ipython3",
   "version": "3.7.13"
  }
 },
 "nbformat": 4,
 "nbformat_minor": 4
}
