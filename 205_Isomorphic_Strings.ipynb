{
 "cells": [
  {
   "cell_type": "markdown",
   "metadata": {},
   "source": [
    "### 205. Isomorphic Strings\n",
    "\n",
    "### https://leetcode.com/problems/isomorphic-strings/\n",
    "\n",
    "**Constraints:**\n",
    "\n",
    "$\\bullet$ 1 <= s.length <= 5 * 10^4\n",
    "\n",
    "$\\bullet$ t.length == s.length\n",
    "\n",
    "$\\bullet$  s and t consist of any valid ascii character."
   ]
  },
  {
   "cell_type": "code",
   "execution_count": 14,
   "metadata": {},
   "outputs": [],
   "source": [
    "def is_isomorphic_string(s, t):\n",
    "    \n",
    "    print(set(s), len(set(s)))\n",
    "    print(zip(s, t), set(zip(s, t)))\n",
    "    \n",
    "    return len(set(s)) == len(set(t)) == len(set(zip(s, t)))\n",
    "        "
   ]
  },
  {
   "cell_type": "code",
   "execution_count": 15,
   "metadata": {},
   "outputs": [
    {
     "name": "stdout",
     "output_type": "stream",
     "text": [
      "{'g', 'e'} 2\n",
      "<zip object at 0x7f3e083a8b90> {('e', 'a'), ('g', 'd')}\n",
      "\n",
      "\n",
      "answer =  True\n"
     ]
    }
   ],
   "source": [
    "s = \"egg\"\n",
    "t = \"add\"\n",
    "answer = is_isomorphic_string(s, t)\n",
    "print(\"\\n\\nanswer = \", answer)"
   ]
  },
  {
   "cell_type": "markdown",
   "metadata": {},
   "source": [
    "### Leetcode solution"
   ]
  },
  {
   "cell_type": "code",
   "execution_count": 16,
   "metadata": {},
   "outputs": [],
   "source": [
    "class Solution(object):\n",
    "    def isIsomorphic(self, s, t):\n",
    "        \"\"\"\n",
    "        :type s: str\n",
    "        :type t: str\n",
    "        :rtype: bool\n",
    "        \"\"\"\n",
    "        return is_isomorphic_string(s, t)\n",
    "    \n",
    "    \n",
    "def is_isomorphic_string(s, t):\n",
    "    \n",
    "    return len(set(s)) == len(set(t)) == len(set(zip(s, t)))\n",
    "        "
   ]
  },
  {
   "cell_type": "markdown",
   "metadata": {},
   "source": [
    "**Runtime: 54 ms, faster than 54.61% of Python online submissions for Isomorphic Strings.**\n",
    "    \n",
    "**Memory Usage: 16.3 MB, less than 18.40% of Python online submissions for Isomorphic Strings.**"
   ]
  },
  {
   "cell_type": "code",
   "execution_count": null,
   "metadata": {},
   "outputs": [],
   "source": []
  },
  {
   "cell_type": "code",
   "execution_count": null,
   "metadata": {},
   "outputs": [],
   "source": []
  }
 ],
 "metadata": {
  "kernelspec": {
   "display_name": "Python 3",
   "language": "python",
   "name": "python3"
  },
  "language_info": {
   "codemirror_mode": {
    "name": "ipython",
    "version": 3
   },
   "file_extension": ".py",
   "mimetype": "text/x-python",
   "name": "python",
   "nbconvert_exporter": "python",
   "pygments_lexer": "ipython3",
   "version": "3.7.13"
  }
 },
 "nbformat": 4,
 "nbformat_minor": 4
}
