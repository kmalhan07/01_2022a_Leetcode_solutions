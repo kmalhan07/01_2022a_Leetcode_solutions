{
 "cells": [
  {
   "cell_type": "markdown",
   "metadata": {},
   "source": [
    "####  https://leetcode.com/problems/single-number/\n",
    "\n",
    "# 136 Single Number\n",
    "\n",
    "**Constraints:**\n",
    "\n",
    "$\\bullet$ 1 <= nums.length <= 3 * 104\n",
    "\n",
    "$\\bullet$ -3 * 104 <= nums[i] <= 3 * 104\n",
    "    \n",
    "$\\bullet$ Each element in the array appears twice except for one element which appears only once.\n"
   ]
  },
  {
   "cell_type": "code",
   "execution_count": 52,
   "metadata": {},
   "outputs": [],
   "source": [
    "def single_number(nums):\n",
    "    \n",
    "    n = len(nums)\n",
    "    \n",
    "    if n == 1:\n",
    "        return nums[0]\n",
    "    \n",
    "    nums = sorted(nums)\n",
    "    i = 0\n",
    "    while i < n - 1:\n",
    "        if abs(nums[i] - nums[i + 1]) == 0:\n",
    "            if i == n - 3:\n",
    "                return nums[i + 2]\n",
    "            else:\n",
    "                i+=2\n",
    "        if abs(nums[i] - nums[i + 1]) > 0:        \n",
    "            return nums[i]\n"
   ]
  },
  {
   "cell_type": "code",
   "execution_count": 53,
   "metadata": {},
   "outputs": [
    {
     "name": "stdout",
     "output_type": "stream",
     "text": [
      "\n",
      "\n",
      "answer =  1\n"
     ]
    }
   ],
   "source": [
    "nums = [2,2,1]\n",
    "answer = single_number(nums)\n",
    "print(\"\\n\\nanswer = \", answer)"
   ]
  },
  {
   "cell_type": "code",
   "execution_count": 54,
   "metadata": {},
   "outputs": [
    {
     "name": "stdout",
     "output_type": "stream",
     "text": [
      "\n",
      "\n",
      "answer =  4\n"
     ]
    }
   ],
   "source": [
    "nums = [4,1,2,1, 5, 5,2]\n",
    "answer = single_number(nums)\n",
    "print(\"\\n\\nanswer = \", answer)"
   ]
  },
  {
   "cell_type": "code",
   "execution_count": 55,
   "metadata": {},
   "outputs": [
    {
     "name": "stdout",
     "output_type": "stream",
     "text": [
      "\n",
      "\n",
      "answer =  4\n"
     ]
    }
   ],
   "source": [
    "nums = [4,1,2,1,2]\n",
    "answer = single_number(nums)\n",
    "print(\"\\n\\nanswer = \", answer)"
   ]
  },
  {
   "cell_type": "markdown",
   "metadata": {},
   "source": [
    "### leetcode solution"
   ]
  },
  {
   "cell_type": "code",
   "execution_count": 56,
   "metadata": {},
   "outputs": [],
   "source": [
    "class Solution(object):\n",
    "    def singleNumber(self, nums):\n",
    "        \"\"\"\n",
    "        :type nums: List[int]\n",
    "        :rtype: int\n",
    "        \"\"\"\n",
    "        return single_number(nums)\n",
    "        \n",
    "        \n",
    "def single_number(nums):\n",
    "    \n",
    "    n = len(nums)\n",
    "    \n",
    "    if n == 1:\n",
    "        return nums[0]\n",
    "    \n",
    "    nums = sorted(nums)\n",
    "    i = 0\n",
    "    while i < n - 1:\n",
    "        if abs(nums[i] - nums[i + 1]) == 0:\n",
    "            if i == n - 3:\n",
    "                return nums[i + 2]\n",
    "            else:\n",
    "                i+=2\n",
    "        if abs(nums[i] - nums[i + 1]) > 0:        \n",
    "            return nums[i]\n"
   ]
  },
  {
   "cell_type": "markdown",
   "metadata": {},
   "source": [
    "**Runtime: 110 ms, faster than 91.69% of Python online submissions for Single Number.**\n",
    "    \n",
    "**Memory Usage: 15.7 MB, less than 51.92% of Python online submissions for Single Number.**"
   ]
  },
  {
   "cell_type": "code",
   "execution_count": null,
   "metadata": {},
   "outputs": [],
   "source": []
  }
 ],
 "metadata": {
  "kernelspec": {
   "display_name": "Python 3",
   "language": "python",
   "name": "python3"
  },
  "language_info": {
   "codemirror_mode": {
    "name": "ipython",
    "version": 3
   },
   "file_extension": ".py",
   "mimetype": "text/x-python",
   "name": "python",
   "nbconvert_exporter": "python",
   "pygments_lexer": "ipython3",
   "version": "3.7.13"
  }
 },
 "nbformat": 4,
 "nbformat_minor": 4
}
