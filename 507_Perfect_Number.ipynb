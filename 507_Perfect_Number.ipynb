{
 "cells": [
  {
   "cell_type": "markdown",
   "metadata": {},
   "source": [
    "### 507. Perfect Number\n",
    "\n",
    "### https://leetcode.com/problems/perfect-number/\n",
    "\n",
    "**Constraints:**\n",
    "    \n",
    "$\\bullet$ 1 <= num <= $10^8$"
   ]
  },
  {
   "cell_type": "code",
   "execution_count": 8,
   "metadata": {},
   "outputs": [],
   "source": [
    "def pn(num):\n",
    "    \n",
    "    i = 2\n",
    "    sum1 = 1\n",
    "    while i < num:\n",
    "        if num%i == 0:\n",
    "            sum1+=i\n",
    "        i+=1\n",
    "            \n",
    "    return sum1 == num"
   ]
  },
  {
   "cell_type": "code",
   "execution_count": 9,
   "metadata": {},
   "outputs": [
    {
     "name": "stdout",
     "output_type": "stream",
     "text": [
      "\n",
      "answer =  True\n"
     ]
    }
   ],
   "source": [
    "num = 28\n",
    "answer = pn(num)\n",
    "print(\"\\nanswer = \", answer)"
   ]
  },
  {
   "cell_type": "code",
   "execution_count": 10,
   "metadata": {},
   "outputs": [
    {
     "name": "stdout",
     "output_type": "stream",
     "text": [
      "\n",
      "answer =  False\n"
     ]
    }
   ],
   "source": [
    "num = 7\n",
    "answer = pn(num)\n",
    "print(\"\\nanswer = \", answer)"
   ]
  },
  {
   "cell_type": "markdown",
   "metadata": {},
   "source": [
    "### Leetcode"
   ]
  },
  {
   "cell_type": "code",
   "execution_count": null,
   "metadata": {},
   "outputs": [],
   "source": [
    "class Solution(object):\n",
    "    def checkPerfectNumber(self, num):\n",
    "        \"\"\"\n",
    "        :type num: int\n",
    "        :rtype: bool\n",
    "        \"\"\"\n",
    "        return pn(num)\n",
    "    \n",
    "    \n",
    "def pn(num):\n",
    "    \n",
    "    i = 2\n",
    "    sum1 = 1\n",
    "    while i < num:\n",
    "        if num%i == 0:\n",
    "            sum1+=i\n",
    "        i+=1\n",
    "            \n",
    "    return sum1 == num"
   ]
  }
 ],
 "metadata": {
  "kernelspec": {
   "display_name": "Python 3",
   "language": "python",
   "name": "python3"
  },
  "language_info": {
   "codemirror_mode": {
    "name": "ipython",
    "version": 3
   },
   "file_extension": ".py",
   "mimetype": "text/x-python",
   "name": "python",
   "nbconvert_exporter": "python",
   "pygments_lexer": "ipython3",
   "version": "3.7.13"
  }
 },
 "nbformat": 4,
 "nbformat_minor": 4
}
