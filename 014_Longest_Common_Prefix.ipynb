{
 "cells": [
  {
   "cell_type": "markdown",
   "metadata": {},
   "source": [
    "# Longest Common Prefix\n",
    "\n",
    "### https://leetcode.com/problems/longest-common-prefix/\n",
    "\n",
    "***Constraints:***\n",
    "\n",
    "$\\bullet$ 1 <= strs.length <= 200\n",
    "\n",
    "$\\bullet$ 0 <= strs[i].length <= 200\n",
    "    \n",
    "$\\bullet$ strs[i] consists of only lowercase English letters.\n"
   ]
  },
  {
   "cell_type": "code",
   "execution_count": 101,
   "metadata": {},
   "outputs": [],
   "source": [
    "def lcp(strs):\n",
    "    \n",
    "    # length of the array\n",
    "    n = len(strs)\n",
    "    \n",
    "    '''\n",
    "    when strs contains 0 or 1 element\n",
    "    '''\n",
    "    if n == 0 or n == 1:\n",
    "        return strs[0]\n",
    "    \n",
    "    '''\n",
    "    when strs contains >1 elements\n",
    "    '''\n",
    "    # length of the smallest string\n",
    "    n1 = len(min(strs, key=len))    \n",
    "    \n",
    "    for j in range(0, n1):\n",
    "        for i in range(0, n - 1):\n",
    "            if strs[i][:j + 1] == strs[i + 1][:j + 1]:\n",
    "                pass\n",
    "            else:\n",
    "                return strs[0][:j]\n",
    "            \n",
    "    return strs[0][:n1]"
   ]
  },
  {
   "cell_type": "code",
   "execution_count": 102,
   "metadata": {},
   "outputs": [
    {
     "name": "stdout",
     "output_type": "stream",
     "text": [
      "answer =  fl\n"
     ]
    }
   ],
   "source": [
    "strs = [\"flower\",\"flow\",\"flight\"]\n",
    "answer = lcp(strs)\n",
    "print(\"answer = \", answer)"
   ]
  },
  {
   "cell_type": "code",
   "execution_count": 103,
   "metadata": {},
   "outputs": [
    {
     "name": "stdout",
     "output_type": "stream",
     "text": [
      "answer =  a\n"
     ]
    }
   ],
   "source": [
    "strs = [\"ab\", \"a\"]\n",
    "answer = lcp(strs)\n",
    "print(\"answer = \", answer)"
   ]
  },
  {
   "cell_type": "code",
   "execution_count": 104,
   "metadata": {},
   "outputs": [
    {
     "name": "stdout",
     "output_type": "stream",
     "text": [
      "answer =  a\n"
     ]
    }
   ],
   "source": [
    "strs = [\"a\"]\n",
    "answer = lcp(strs)\n",
    "print(\"answer = \", answer)"
   ]
  },
  {
   "cell_type": "code",
   "execution_count": 105,
   "metadata": {},
   "outputs": [
    {
     "name": "stdout",
     "output_type": "stream",
     "text": [
      "answer =  \n"
     ]
    }
   ],
   "source": [
    "strs = [\"\"]\n",
    "answer = lcp(strs)\n",
    "print(\"answer = \", answer)"
   ]
  },
  {
   "cell_type": "code",
   "execution_count": 106,
   "metadata": {},
   "outputs": [
    {
     "name": "stdout",
     "output_type": "stream",
     "text": [
      "answer =  \n"
     ]
    }
   ],
   "source": [
    "strs = [\"dog\",\"racecar\",\"car\"]\n",
    "answer = lcp(strs)\n",
    "print(\"answer = \", answer)"
   ]
  },
  {
   "cell_type": "code",
   "execution_count": 107,
   "metadata": {},
   "outputs": [
    {
     "name": "stdout",
     "output_type": "stream",
     "text": [
      "answer =  flowerflowerflower\n"
     ]
    }
   ],
   "source": [
    "strs = [\"flowerflowerflowerABD\",\"flowerflowerflowerABD123flowerflowerflowerABD\",\"flowerflowerflower_123\"]\n",
    "answer = lcp(strs)\n",
    "print(\"answer = \", answer)"
   ]
  },
  {
   "cell_type": "code",
   "execution_count": null,
   "metadata": {},
   "outputs": [],
   "source": []
  },
  {
   "cell_type": "markdown",
   "metadata": {},
   "source": [
    "### leetcode solution"
   ]
  },
  {
   "cell_type": "code",
   "execution_count": 15,
   "metadata": {},
   "outputs": [],
   "source": [
    "class Solution(object):\n",
    "    def longestCommonPrefix(self, strs):\n",
    "        \"\"\"\n",
    "        :type strs: List[str]\n",
    "        :rtype: str\n",
    "        \"\"\"\n",
    "        return lcp(strs)\n",
    "    \n",
    "\n",
    "\n",
    "def lcp(strs):\n",
    "    \n",
    "    # length of the array\n",
    "    n = len(strs)\n",
    "    \n",
    "    '''\n",
    "    when strs contains 0 or 1 element\n",
    "    '''\n",
    "    if n == 0 or n == 1:\n",
    "        return strs[0]\n",
    "    \n",
    "    '''\n",
    "    when strs contains >1 elements\n",
    "    '''\n",
    "    # length of the smallest string\n",
    "    n1 = len(min(strs, key=len))    \n",
    "    \n",
    "    for j in range(0, n1):\n",
    "        for i in range(0, n - 1):\n",
    "            if strs[i][:j + 1] == strs[i + 1][:j + 1]:\n",
    "                pass\n",
    "            else:\n",
    "                return strs[0][:j]\n",
    "            \n",
    "    return strs[0][:n1]\n",
    "        "
   ]
  },
  {
   "cell_type": "markdown",
   "metadata": {},
   "source": [
    "**Runtime: 19 ms, faster than 93.75% of Python online submissions for Longest Common Prefix.**\n",
    "    \n",
    "**Memory Usage: 13.6 MB, less than 83.04% of Python online submissions for Longest Common Prefix.**"
   ]
  },
  {
   "cell_type": "code",
   "execution_count": null,
   "metadata": {},
   "outputs": [],
   "source": []
  }
 ],
 "metadata": {
  "kernelspec": {
   "display_name": "Python 3",
   "language": "python",
   "name": "python3"
  },
  "language_info": {
   "codemirror_mode": {
    "name": "ipython",
    "version": 3
   },
   "file_extension": ".py",
   "mimetype": "text/x-python",
   "name": "python",
   "nbconvert_exporter": "python",
   "pygments_lexer": "ipython3",
   "version": "3.7.13"
  }
 },
 "nbformat": 4,
 "nbformat_minor": 4
}
