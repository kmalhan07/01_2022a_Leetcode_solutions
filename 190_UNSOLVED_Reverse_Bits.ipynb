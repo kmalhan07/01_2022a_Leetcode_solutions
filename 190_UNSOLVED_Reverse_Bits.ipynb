{
 "cells": [
  {
   "cell_type": "markdown",
   "metadata": {},
   "source": [
    "### 190. Reverse Bits\n",
    "\n",
    "### https://leetcode.com/problems/reverse-bits/\n",
    "\n",
    "**Constraints:**\n",
    "\n",
    "$\\bullet$ The input must be a binary string of length 32\n"
   ]
  },
  {
   "cell_type": "code",
   "execution_count": 12,
   "metadata": {},
   "outputs": [],
   "source": [
    "def reverse_bit(n):\n",
    "    \n",
    "    # integer representation of the reverse of binary\n",
    "    int_tmp = int(n[::-1], 2)\n",
    "    return int_tmp, \"{:032b}\".format(int_tmp)"
   ]
  },
  {
   "cell_type": "code",
   "execution_count": 13,
   "metadata": {},
   "outputs": [
    {
     "name": "stdout",
     "output_type": "stream",
     "text": [
      "\n",
      "\n",
      "answer =  (964176192, '00111001011110000010100101000000')\n"
     ]
    }
   ],
   "source": [
    "n = \"00000010100101000001111010011100\"\n",
    "answer = reverse_bit(n)\n",
    "print(\"\\n\\nanswer = \",answer)"
   ]
  },
  {
   "cell_type": "code",
   "execution_count": 14,
   "metadata": {},
   "outputs": [
    {
     "name": "stdout",
     "output_type": "stream",
     "text": [
      "\n",
      "\n",
      "answer =  (3221225471, '10111111111111111111111111111111')\n"
     ]
    }
   ],
   "source": [
    "n = \"11111111111111111111111111111101\"\n",
    "answer = reverse_bit(n)\n",
    "print(\"\\n\\nanswer = \",answer)"
   ]
  },
  {
   "cell_type": "code",
   "execution_count": 15,
   "metadata": {},
   "outputs": [],
   "source": [
    "class Solution:\n",
    "    # @param n, an integer\n",
    "    # @return an integer\n",
    "    def reverseBits(self, n):\n",
    "        return reverse_bit(n)\n",
    "    \n",
    "    \n",
    "def reverse_bit(n):\n",
    "    \n",
    "    # integer representation of the reverse of binary\n",
    "    int_tmp = int(n[::-1], 2)\n",
    "    return int_tmp, \"{:032b}\".format(int_tmp)"
   ]
  },
  {
   "cell_type": "code",
   "execution_count": null,
   "metadata": {},
   "outputs": [],
   "source": []
  },
  {
   "cell_type": "code",
   "execution_count": null,
   "metadata": {},
   "outputs": [],
   "source": []
  }
 ],
 "metadata": {
  "kernelspec": {
   "display_name": "Python 3",
   "language": "python",
   "name": "python3"
  },
  "language_info": {
   "codemirror_mode": {
    "name": "ipython",
    "version": 3
   },
   "file_extension": ".py",
   "mimetype": "text/x-python",
   "name": "python",
   "nbconvert_exporter": "python",
   "pygments_lexer": "ipython3",
   "version": "3.7.13"
  }
 },
 "nbformat": 4,
 "nbformat_minor": 4
}
