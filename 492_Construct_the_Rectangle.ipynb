{
 "cells": [
  {
   "cell_type": "markdown",
   "metadata": {},
   "source": [
    "### 492. Construct the Rectangle\n",
    "\n",
    "### https://leetcode.com/problems/construct-the-rectangle/\n",
    "\n",
    "**Constraints:**\n",
    "    \n",
    "$\\bullet$ 1 <= area <= $10^7$\n"
   ]
  },
  {
   "cell_type": "code",
   "execution_count": 87,
   "metadata": {},
   "outputs": [],
   "source": [
    "class Solution(object):\n",
    "    def constructRectangle(self, area):\n",
    "        \"\"\"\n",
    "        :type area: int\n",
    "        :rtype: List[int]\n",
    "        \"\"\"\n",
    "        return rect(area)\n",
    "    \n",
    "\n",
    "def rect(area):\n",
    "    \n",
    "    L, W = 1, 1\n",
    "    \n",
    "    if area == 1:\n",
    "        #1st case, area is 1\n",
    "        return [L, W]\n",
    "    \n",
    "    if area**0.5 == int(area**0.5):\n",
    "        #2nd case, area is an even number\n",
    "        return [int(area**0.5)]*2\n",
    "    \n",
    "    # 3rd case\n",
    "    min_diff = 1.e7\n",
    "    for ww in range(area//2 + 1, 0, -1):\n",
    "        ll = area/ww\n",
    "        if int(ll)*ww == area and int(ll) > ww and abs(ll - ww) < min_diff :\n",
    "                min_diff = abs(ll - ww)\n",
    "                L =  int(ll)\n",
    "                W = ww\n",
    "                \n",
    "    return [L, W]"
   ]
  },
  {
   "cell_type": "code",
   "execution_count": 88,
   "metadata": {},
   "outputs": [
    {
     "name": "stdout",
     "output_type": "stream",
     "text": [
      "\n",
      "answer =  [1, 1]\n"
     ]
    }
   ],
   "source": [
    "area = 1\n",
    "answer = rect(area)\n",
    "print(\"\\nanswer = \", answer)"
   ]
  },
  {
   "cell_type": "code",
   "execution_count": 89,
   "metadata": {},
   "outputs": [
    {
     "name": "stdout",
     "output_type": "stream",
     "text": [
      "\n",
      "answer =  [2, 2]\n"
     ]
    }
   ],
   "source": [
    "area = 4\n",
    "answer = rect(area)\n",
    "print(\"\\nanswer = \", answer)"
   ]
  },
  {
   "cell_type": "code",
   "execution_count": 90,
   "metadata": {},
   "outputs": [
    {
     "name": "stdout",
     "output_type": "stream",
     "text": [
      "\n",
      "answer =  [37, 1]\n"
     ]
    }
   ],
   "source": [
    "area = 37\n",
    "answer = rect(area)\n",
    "print(\"\\nanswer = \", answer)"
   ]
  },
  {
   "cell_type": "code",
   "execution_count": 91,
   "metadata": {},
   "outputs": [
    {
     "name": "stdout",
     "output_type": "stream",
     "text": [
      "\n",
      "answer =  [427, 286]\n"
     ]
    }
   ],
   "source": [
    "area = 122122\n",
    "answer = rect(area)\n",
    "print(\"\\nanswer = \", answer)"
   ]
  },
  {
   "cell_type": "markdown",
   "metadata": {},
   "source": [
    "### Leetcode"
   ]
  },
  {
   "cell_type": "code",
   "execution_count": 92,
   "metadata": {},
   "outputs": [],
   "source": [
    "class Solution(object):\n",
    "    def constructRectangle(self, area):\n",
    "        \"\"\"\n",
    "        :type area: int\n",
    "        :rtype: List[int]\n",
    "        \"\"\"\n",
    "        return rect(area)\n",
    "    \n",
    "\n",
    "def rect(area):\n",
    "    \n",
    "    L, W = 1, 1\n",
    "    \n",
    "    if area == 1:\n",
    "        #1st case, area is 1\n",
    "        return [L, W]\n",
    "    \n",
    "    if area**0.5 == int(area**0.5):\n",
    "        #2nd case, area is an even number\n",
    "        return [int(area**0.5)]*2\n",
    "    \n",
    "    # 3rd case\n",
    "    min_diff = 1.e7\n",
    "    for ww in range(area//2 + 1, 0, -1):\n",
    "        ll = area/ww\n",
    "        if int(ll)*ww == area and int(ll) > ww and abs(ll - ww) < min_diff :\n",
    "                min_diff = abs(ll - ww)\n",
    "                L =  int(ll)\n",
    "                W = ww\n",
    "                \n",
    "    return [L, W]"
   ]
  },
  {
   "cell_type": "markdown",
   "metadata": {},
   "source": [
    "**Runtime 8600 ms, Beats 5.42%**\n",
    "\n",
    "**Memory 173.6 MB, Beats 7.23%**"
   ]
  },
  {
   "cell_type": "code",
   "execution_count": null,
   "metadata": {},
   "outputs": [],
   "source": []
  }
 ],
 "metadata": {
  "kernelspec": {
   "display_name": "Python 3",
   "language": "python",
   "name": "python3"
  },
  "language_info": {
   "codemirror_mode": {
    "name": "ipython",
    "version": 3
   },
   "file_extension": ".py",
   "mimetype": "text/x-python",
   "name": "python",
   "nbconvert_exporter": "python",
   "pygments_lexer": "ipython3",
   "version": "3.7.13"
  }
 },
 "nbformat": 4,
 "nbformat_minor": 4
}
