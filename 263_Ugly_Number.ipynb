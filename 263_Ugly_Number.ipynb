{
 "cells": [
  {
   "cell_type": "markdown",
   "metadata": {},
   "source": [
    "### 263. Ugly Number\n",
    "\n",
    "### https://leetcode.com/problems/ugly-number/\n",
    "\n",
    "**Constraints:**\n",
    "    \n",
    "$\\bullet$ $-2^{31}$ <= n <= $2^{31}$ - 1"
   ]
  },
  {
   "cell_type": "code",
   "execution_count": 98,
   "metadata": {},
   "outputs": [],
   "source": [
    "def quotient_for_division_by_PN(num_in,PN):\n",
    "#     print(\"\\t\\tnum_in=\",num_in)\n",
    "    if abs(num_in//PN - num_in/PN) > 0:\n",
    "        return num_in\n",
    "    else:\n",
    "        return quotient_for_division_by_PN(num_in//PN, PN)\n",
    "\n",
    "\n",
    "def ugly_number(n):\n",
    "    if n <= 0:\n",
    "        return False\n",
    "    elif n == 1:\n",
    "        return True\n",
    "    else:\n",
    "        '''\n",
    "        you need a lagorithm that divides n by 2, 3 and 5 for as many times, until the number becomes 1\n",
    "        '''\n",
    "        quo = quotient_for_division_by_PN(n, 2)\n",
    "#         print(\"\\nafter 2, quo=\",quo)\n",
    "        if abs(quo) == 1:\n",
    "            return True\n",
    "        quo = quotient_for_division_by_PN(quo, 3)\n",
    "#         print(\"\\nafter 3, quo=\",quo)\n",
    "        if abs(quo) == 1:\n",
    "            return True\n",
    "        quo = quotient_for_division_by_PN(quo, 5)\n",
    "#         print(\"\\nafter 3, quo=\",quo)\n",
    "        if abs(quo) == 1:\n",
    "            return True\n",
    "        \n",
    "        return False\n",
    "        "
   ]
  },
  {
   "cell_type": "code",
   "execution_count": 99,
   "metadata": {},
   "outputs": [
    {
     "name": "stdout",
     "output_type": "stream",
     "text": [
      "\n",
      "answer =  True\n"
     ]
    }
   ],
   "source": [
    "n = 8\n",
    "answer = ugly_number(n)\n",
    "print(\"\\nanswer = \",answer)"
   ]
  },
  {
   "cell_type": "code",
   "execution_count": 100,
   "metadata": {},
   "outputs": [
    {
     "name": "stdout",
     "output_type": "stream",
     "text": [
      "\n",
      "answer =  True\n"
     ]
    }
   ],
   "source": [
    "n = 6\n",
    "answer = ugly_number(n)\n",
    "print(\"\\nanswer = \",answer)"
   ]
  },
  {
   "cell_type": "code",
   "execution_count": 101,
   "metadata": {},
   "outputs": [
    {
     "name": "stdout",
     "output_type": "stream",
     "text": [
      "\n",
      "answer =  False\n"
     ]
    }
   ],
   "source": [
    "n = -15\n",
    "answer = ugly_number(n)\n",
    "print(\"\\nanswer = \",answer)"
   ]
  },
  {
   "cell_type": "code",
   "execution_count": 102,
   "metadata": {},
   "outputs": [
    {
     "name": "stdout",
     "output_type": "stream",
     "text": [
      "\n",
      "answer =  True\n"
     ]
    }
   ],
   "source": [
    "n = 1\n",
    "answer = ugly_number(n)\n",
    "print(\"\\nanswer = \",answer)"
   ]
  },
  {
   "cell_type": "code",
   "execution_count": 103,
   "metadata": {},
   "outputs": [
    {
     "name": "stdout",
     "output_type": "stream",
     "text": [
      "\n",
      "answer =  False\n"
     ]
    }
   ],
   "source": [
    "n = 14\n",
    "answer = ugly_number(n)\n",
    "print(\"\\nanswer = \",answer)"
   ]
  },
  {
   "cell_type": "code",
   "execution_count": 104,
   "metadata": {},
   "outputs": [
    {
     "name": "stdout",
     "output_type": "stream",
     "text": [
      "\n",
      "answer =  False\n"
     ]
    }
   ],
   "source": [
    "n = -2147483648\n",
    "answer = ugly_number(n)\n",
    "print(\"\\nanswer = \",answer)"
   ]
  },
  {
   "cell_type": "code",
   "execution_count": 105,
   "metadata": {},
   "outputs": [
    {
     "name": "stdout",
     "output_type": "stream",
     "text": [
      "\n",
      "answer =  False\n"
     ]
    }
   ],
   "source": [
    "n = -1000\n",
    "answer = ugly_number(n)\n",
    "print(\"\\nanswer = \",answer)"
   ]
  },
  {
   "cell_type": "markdown",
   "metadata": {},
   "source": [
    "### Leetcode"
   ]
  },
  {
   "cell_type": "code",
   "execution_count": 106,
   "metadata": {},
   "outputs": [],
   "source": [
    "class Solution(object):\n",
    "    def isUgly(self, n):\n",
    "        \"\"\"\n",
    "        :type n: int\n",
    "        :rtype: bool\n",
    "        \"\"\"\n",
    "        return ugly_number(n)\n",
    "    \n",
    "    \n",
    "    \n",
    "    \n",
    "def quotient_for_division_by_PN(num_in,PN):\n",
    "    \n",
    "    if abs(float(num_in)/float(PN) - num_in/PN) > 0:\n",
    "        return num_in\n",
    "    else:\n",
    "        return quotient_for_division_by_PN(num_in/PN, PN)\n",
    "\n",
    "\n",
    "def ugly_number(n):\n",
    "    if n <= 0:\n",
    "        return False\n",
    "    elif n == 1:\n",
    "        return True\n",
    "    else:\n",
    "        '''\n",
    "        you need a lagorithm that divides n by 2, 3 and 5 for as many times, until the number becomes 1\n",
    "        '''\n",
    "        quo = quotient_for_division_by_PN(n, 2)\n",
    "#         print(\"after 2, quo=\",quo)\n",
    "        if abs(quo) == 1:\n",
    "            return True\n",
    "        quo = quotient_for_division_by_PN(quo, 3)\n",
    "#         print(\"after 3, quo=\",quo)\n",
    "        if abs(quo) == 1:\n",
    "            return True\n",
    "        quo = quotient_for_division_by_PN(quo, 5)\n",
    "#         print(\"after 3, quo=\",quo)\n",
    "        if abs(quo) == 1:\n",
    "            return True\n",
    "        \n",
    "        return False\n",
    "        "
   ]
  },
  {
   "cell_type": "markdown",
   "metadata": {},
   "source": [
    "**Runtime: 34 ms, faster than 46.68% of Python online submissions for Ugly Number.**\n",
    "    \n",
    "**Memory Usage: 13.2 MB, less than 85.64% of Python online submissions for Ugly Number.**"
   ]
  },
  {
   "cell_type": "code",
   "execution_count": null,
   "metadata": {},
   "outputs": [],
   "source": []
  }
 ],
 "metadata": {
  "kernelspec": {
   "display_name": "Python 3",
   "language": "python",
   "name": "python3"
  },
  "language_info": {
   "codemirror_mode": {
    "name": "ipython",
    "version": 3
   },
   "file_extension": ".py",
   "mimetype": "text/x-python",
   "name": "python",
   "nbconvert_exporter": "python",
   "pygments_lexer": "ipython3",
   "version": "3.7.13"
  }
 },
 "nbformat": 4,
 "nbformat_minor": 4
}
