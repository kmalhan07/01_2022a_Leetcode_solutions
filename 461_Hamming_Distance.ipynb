{
 "cells": [
  {
   "cell_type": "markdown",
   "metadata": {},
   "source": [
    "### 461. Hamming Distance\n",
    "\n",
    "### https://leetcode.com/problems/hamming-distance/\n",
    "\n",
    "**Constraints:**\n",
    "    \n",
    "$\\bullet$ 0 <= x, y <= $2^{31}$ - 1\n"
   ]
  },
  {
   "cell_type": "code",
   "execution_count": 11,
   "metadata": {},
   "outputs": [],
   "source": [
    "def hd(x, y):\n",
    "    \n",
    "    xb = str(bin(x)[2:])\n",
    "    n_xb = len(xb)\n",
    "    \n",
    "    yb = str(bin(y)[2:])\n",
    "    n_yb = len(yb)\n",
    "    \n",
    "    if n_xb > n_yb:\n",
    "        yb = (n_xb - n_yb)*str(0) + yb\n",
    "    else:\n",
    "        xb = (n_yb - n_xb)*str(0) + xb\n",
    "        \n",
    "    return len([i for i in range(len(xb)) if xb[i] != yb[i]])\n",
    "    "
   ]
  },
  {
   "cell_type": "code",
   "execution_count": 12,
   "metadata": {},
   "outputs": [
    {
     "name": "stdout",
     "output_type": "stream",
     "text": [
      "\n",
      "answer =  2\n"
     ]
    }
   ],
   "source": [
    "x = 1\n",
    "y = 4\n",
    "answer = hd(x, y)\n",
    "print(\"\\nanswer = \", answer)"
   ]
  },
  {
   "cell_type": "code",
   "execution_count": 13,
   "metadata": {},
   "outputs": [
    {
     "name": "stdout",
     "output_type": "stream",
     "text": [
      "\n",
      "answer =  1\n"
     ]
    }
   ],
   "source": [
    "x = 3\n",
    "y = 1\n",
    "answer = hd(x, y)\n",
    "print(\"\\nanswer = \", answer)"
   ]
  },
  {
   "cell_type": "markdown",
   "metadata": {},
   "source": [
    "### Leetcode"
   ]
  },
  {
   "cell_type": "code",
   "execution_count": 14,
   "metadata": {},
   "outputs": [],
   "source": [
    "class Solution(object):\n",
    "    def hammingDistance(self, x, y):\n",
    "        \"\"\"\n",
    "        :type x: int\n",
    "        :type y: int\n",
    "        :rtype: int\n",
    "        \"\"\"\n",
    "        return hd(x, y)\n",
    "    \n",
    "\n",
    "def hd(x, y):\n",
    "    \n",
    "    xb = str(bin(x)[2:])\n",
    "    n_xb = len(xb)\n",
    "    \n",
    "    yb = str(bin(y)[2:])\n",
    "    n_yb = len(yb)\n",
    "    \n",
    "    if n_xb > n_yb:\n",
    "        yb = (n_xb - n_yb)*str(0) + yb\n",
    "    else:\n",
    "        xb = (n_yb - n_xb)*str(0) + xb\n",
    "        \n",
    "    return len([i for i in range(len(xb)) if xb[i] != yb[i]])\n",
    "    "
   ]
  },
  {
   "cell_type": "markdown",
   "metadata": {},
   "source": [
    "**Runtime 29 ms, Beats 51.78%**\n",
    "\n",
    "**Memory 13.2 MB, Beats 84.1%**"
   ]
  },
  {
   "cell_type": "code",
   "execution_count": null,
   "metadata": {},
   "outputs": [],
   "source": []
  }
 ],
 "metadata": {
  "kernelspec": {
   "display_name": "Python 3",
   "language": "python",
   "name": "python3"
  },
  "language_info": {
   "codemirror_mode": {
    "name": "ipython",
    "version": 3
   },
   "file_extension": ".py",
   "mimetype": "text/x-python",
   "name": "python",
   "nbconvert_exporter": "python",
   "pygments_lexer": "ipython3",
   "version": "3.7.13"
  }
 },
 "nbformat": 4,
 "nbformat_minor": 4
}
