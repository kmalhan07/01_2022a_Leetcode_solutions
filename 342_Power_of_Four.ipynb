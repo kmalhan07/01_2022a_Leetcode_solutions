{
 "cells": [
  {
   "cell_type": "markdown",
   "metadata": {},
   "source": [
    "### https://leetcode.com/problems/power-of-four/\n",
    "\n",
    "### 342. Power of Four\n",
    "\n",
    "**Constraints:**\n",
    "    \n",
    "$\\bullet$ $-2^{31}$ <= n <= $2^{31}$ - 1"
   ]
  },
  {
   "cell_type": "code",
   "execution_count": 1,
   "metadata": {},
   "outputs": [],
   "source": [
    "def is_power_of_four(n):\n",
    "    \n",
    "    if n <=0:\n",
    "        return False\n",
    "    \n",
    "    import math\n",
    "    if abs(math.log(n, 4) - int(round(math.log(n, 4)))) < 1.e-10:\n",
    "        return True\n",
    "    else:\n",
    "        return False        "
   ]
  },
  {
   "cell_type": "code",
   "execution_count": 2,
   "metadata": {},
   "outputs": [
    {
     "name": "stdout",
     "output_type": "stream",
     "text": [
      "\n",
      "answer =  True\n"
     ]
    }
   ],
   "source": [
    "n = 16\n",
    "answer = is_power_of_three(n)\n",
    "print(\"\\nanswer = \", answer)"
   ]
  },
  {
   "cell_type": "code",
   "execution_count": 3,
   "metadata": {},
   "outputs": [
    {
     "name": "stdout",
     "output_type": "stream",
     "text": [
      "\n",
      "answer =  False\n"
     ]
    }
   ],
   "source": [
    "n = 5\n",
    "answer = is_power_of_three(n)\n",
    "print(\"\\nanswer = \", answer)"
   ]
  },
  {
   "cell_type": "code",
   "execution_count": 4,
   "metadata": {},
   "outputs": [
    {
     "name": "stdout",
     "output_type": "stream",
     "text": [
      "\n",
      "answer =  True\n"
     ]
    }
   ],
   "source": [
    "n = 1\n",
    "answer = is_power_of_three(n)\n",
    "print(\"\\nanswer = \", answer)"
   ]
  },
  {
   "cell_type": "markdown",
   "metadata": {},
   "source": [
    "### Leetcode"
   ]
  },
  {
   "cell_type": "code",
   "execution_count": 5,
   "metadata": {},
   "outputs": [],
   "source": [
    "class Solution(object):\n",
    "    def isPowerOfFour(self, n):\n",
    "        \"\"\"\n",
    "        :type n: int\n",
    "        :rtype: bool\n",
    "        \"\"\"\n",
    "        return is_power_of_four(n)\n",
    "    \n",
    "    \n",
    "def is_power_of_four(n):\n",
    "    \n",
    "    if n <=0:\n",
    "        return False\n",
    "    \n",
    "    import math\n",
    "    if abs(math.log(n, 4) - int(round(math.log(n, 4)))) < 1.e-10:\n",
    "        return True\n",
    "    else:\n",
    "        return False             "
   ]
  },
  {
   "cell_type": "markdown",
   "metadata": {},
   "source": [
    "**Runtime 28 ms, Beats 60.24%**\n",
    "\n",
    "**Memory 13.4 MB, Beats 62.30%**"
   ]
  },
  {
   "cell_type": "code",
   "execution_count": null,
   "metadata": {},
   "outputs": [],
   "source": []
  }
 ],
 "metadata": {
  "kernelspec": {
   "display_name": "Python 3",
   "language": "python",
   "name": "python3"
  },
  "language_info": {
   "codemirror_mode": {
    "name": "ipython",
    "version": 3
   },
   "file_extension": ".py",
   "mimetype": "text/x-python",
   "name": "python",
   "nbconvert_exporter": "python",
   "pygments_lexer": "ipython3",
   "version": "3.7.13"
  }
 },
 "nbformat": 4,
 "nbformat_minor": 4
}
