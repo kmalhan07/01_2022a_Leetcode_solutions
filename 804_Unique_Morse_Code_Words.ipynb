{
 "cells": [
  {
   "cell_type": "markdown",
   "metadata": {},
   "source": [
    "### 804. Unique Morse Code Words\n",
    "\n",
    "### https://leetcode.com/problems/unique-morse-code-words/"
   ]
  },
  {
   "cell_type": "code",
   "execution_count": 12,
   "metadata": {},
   "outputs": [],
   "source": [
    "def unique_morse(words):\n",
    "    \n",
    "    morse = [\".-\",\"-...\",\"-.-.\",\"-..\",\".\",\"..-.\",\"--.\",\"....\",\"..\",\".---\",\"-.-\",\".-..\",\"--\",\"-.\",\"---\",\n",
    "             \".--.\",\"--.-\",\".-.\",\"...\",\"-\",\"..-\",\"...-\",\".--\",\"-..-\",\"-.--\",\"--..\"]\n",
    "    \n",
    "    unique_morse = []\n",
    "    for word in words:\n",
    "        word_morse = \"\"\n",
    "        for x in word:\n",
    "            word_morse+=morse[ord(x) - 97]\n",
    "        if word_morse not in unique_morse:\n",
    "            unique_morse.append(word_morse)\n",
    "\n",
    "    return len(unique_morse)"
   ]
  },
  {
   "cell_type": "code",
   "execution_count": 13,
   "metadata": {},
   "outputs": [
    {
     "name": "stdout",
     "output_type": "stream",
     "text": [
      "\n",
      "answer = 2\n"
     ]
    }
   ],
   "source": [
    "words = [\"gin\",\"zen\",\"gig\",\"msg\"]\n",
    "answer = unique_morse(words)\n",
    "print(\"\\nanswer =\", answer)"
   ]
  },
  {
   "cell_type": "code",
   "execution_count": 14,
   "metadata": {},
   "outputs": [
    {
     "name": "stdout",
     "output_type": "stream",
     "text": [
      "\n",
      "answer = 1\n"
     ]
    }
   ],
   "source": [
    "words = [\"a\"]\n",
    "answer = unique_morse(words)\n",
    "print(\"\\nanswer =\", answer)"
   ]
  },
  {
   "cell_type": "markdown",
   "metadata": {},
   "source": [
    "### Leetcode"
   ]
  },
  {
   "cell_type": "code",
   "execution_count": 15,
   "metadata": {},
   "outputs": [],
   "source": [
    "class Solution(object):\n",
    "    def uniqueMorseRepresentations(self, words):\n",
    "        \"\"\"\n",
    "        :type words: List[str]\n",
    "        :rtype: int\n",
    "        \"\"\"\n",
    "        return unique_morse(words)\n",
    "    \n",
    "\n",
    "def unique_morse(words):\n",
    "    \n",
    "    morse = [\".-\",\"-...\",\"-.-.\",\"-..\",\".\",\"..-.\",\"--.\",\"....\",\"..\",\".---\",\"-.-\",\".-..\",\"--\",\"-.\",\"---\",\n",
    "             \".--.\",\"--.-\",\".-.\",\"...\",\"-\",\"..-\",\"...-\",\".--\",\"-..-\",\"-.--\",\"--..\"]\n",
    "    \n",
    "    unique_morse = []\n",
    "    for word in words:\n",
    "        word_morse = \"\"\n",
    "        for x in word:\n",
    "            word_morse+=morse[ord(x) - 97]\n",
    "        if word_morse not in unique_morse:\n",
    "            unique_morse.append(word_morse)\n",
    "\n",
    "    return len(unique_morse)"
   ]
  },
  {
   "cell_type": "markdown",
   "metadata": {},
   "source": [
    "**Runtime 24 ms, Beats 92.3%**\n",
    "\n",
    "**Memory 13.4 MB, Beats 88.74%**"
   ]
  },
  {
   "cell_type": "code",
   "execution_count": null,
   "metadata": {},
   "outputs": [],
   "source": []
  }
 ],
 "metadata": {
  "kernelspec": {
   "display_name": "Python 3",
   "language": "python",
   "name": "python3"
  },
  "language_info": {
   "codemirror_mode": {
    "name": "ipython",
    "version": 3
   },
   "file_extension": ".py",
   "mimetype": "text/x-python",
   "name": "python",
   "nbconvert_exporter": "python",
   "pygments_lexer": "ipython3",
   "version": "3.7.13"
  }
 },
 "nbformat": 4,
 "nbformat_minor": 4
}
