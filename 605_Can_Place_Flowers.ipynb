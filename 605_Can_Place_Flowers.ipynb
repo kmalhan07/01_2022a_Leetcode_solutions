{
 "cells": [
  {
   "cell_type": "markdown",
   "metadata": {},
   "source": [
    "### 605. Can Place Flowers\n",
    "\n",
    "### https://leetcode.com/problems/can-place-flowers/"
   ]
  },
  {
   "cell_type": "code",
   "execution_count": 87,
   "metadata": {},
   "outputs": [],
   "source": [
    "def cpw(flowerbed, n):\n",
    "    \n",
    "    if flowerbed == [0] and n == 1:\n",
    "        return True\n",
    "    \n",
    "    flowerbed_s = ''.join([str(int) for int in flowerbed])\n",
    "    \n",
    "    while n > 0:\n",
    "        if \"00\" in flowerbed_s and flowerbed_s.index(\"00\") == 0:\n",
    "            index = flowerbed_s.index(\"00\")\n",
    "            flowerbed_s = flowerbed_s[:index] + \"10\" + flowerbed_s[index + 2:]\n",
    "            n-=1\n",
    "        elif \"00\" in flowerbed_s and flowerbed_s.index(\"00\") == len(flowerbed) - 2:\n",
    "            index = flowerbed_s.index(\"00\")\n",
    "            flowerbed_s = flowerbed_s[:index - 1] + \"1\" \n",
    "            n-=1\n",
    "        elif \"000\" in flowerbed_s:\n",
    "            index = flowerbed_s.index(\"000\")\n",
    "            flowerbed_s = flowerbed_s[:index] + \"010\" + flowerbed_s[index + 3:]\n",
    "            n-=1\n",
    "        else:\n",
    "            return False\n",
    "    \n",
    "    return True"
   ]
  },
  {
   "cell_type": "code",
   "execution_count": 88,
   "metadata": {},
   "outputs": [
    {
     "name": "stdout",
     "output_type": "stream",
     "text": [
      "\n",
      "answer =  True\n"
     ]
    }
   ],
   "source": [
    "flowerbed = [1,0,0,0,1]\n",
    "n = 1\n",
    "answer = cpw(flowerbed, n)\n",
    "print(\"\\nanswer = \", answer)"
   ]
  },
  {
   "cell_type": "code",
   "execution_count": 89,
   "metadata": {},
   "outputs": [
    {
     "name": "stdout",
     "output_type": "stream",
     "text": [
      "\n",
      "answer =  False\n"
     ]
    }
   ],
   "source": [
    "flowerbed = [1,0,0,0,1]\n",
    "n = 2\n",
    "answer = cpw(flowerbed, n)\n",
    "print(\"\\nanswer = \", answer)"
   ]
  },
  {
   "cell_type": "code",
   "execution_count": 90,
   "metadata": {},
   "outputs": [
    {
     "name": "stdout",
     "output_type": "stream",
     "text": [
      "\n",
      "answer =  True\n"
     ]
    }
   ],
   "source": [
    "flowerbed = [0,0,1,0,1]\n",
    "n = 1\n",
    "answer = cpw(flowerbed, n)\n",
    "print(\"\\nanswer = \", answer)"
   ]
  },
  {
   "cell_type": "code",
   "execution_count": 91,
   "metadata": {},
   "outputs": [
    {
     "name": "stdout",
     "output_type": "stream",
     "text": [
      "\n",
      "answer =  True\n"
     ]
    }
   ],
   "source": [
    "flowerbed = [1,0,0,0,1,0,0]\n",
    "n = 2\n",
    "answer = cpw(flowerbed, n)\n",
    "print(\"\\nanswer = \", answer)"
   ]
  },
  {
   "cell_type": "markdown",
   "metadata": {},
   "source": [
    "### Leetcode"
   ]
  },
  {
   "cell_type": "code",
   "execution_count": 92,
   "metadata": {},
   "outputs": [],
   "source": [
    "class Solution(object):\n",
    "    def canPlaceFlowers(self, flowerbed, n):\n",
    "        \"\"\"\n",
    "        :type flowerbed: List[int]\n",
    "        :type n: int\n",
    "        :rtype: bool\n",
    "        \"\"\"\n",
    "        return cpw(flowerbed, n)\n",
    "    \n",
    "\n",
    "def cpw(flowerbed, n):\n",
    "    \n",
    "    if flowerbed == [0] and n == 1:\n",
    "        return True\n",
    "    \n",
    "    flowerbed_s = ''.join([str(int) for int in flowerbed])\n",
    "    \n",
    "    while n > 0:\n",
    "        if \"00\" in flowerbed_s and flowerbed_s.index(\"00\") == 0:\n",
    "            index = flowerbed_s.index(\"00\")\n",
    "            flowerbed_s = flowerbed_s[:index] + \"10\" + flowerbed_s[index + 2:]\n",
    "            n-=1\n",
    "        elif \"00\" in flowerbed_s and flowerbed_s.index(\"00\") == len(flowerbed) - 2:\n",
    "            index = flowerbed_s.index(\"00\")\n",
    "            flowerbed_s = flowerbed_s[:index - 1] + \"1\" \n",
    "            n-=1\n",
    "        elif \"000\" in flowerbed_s:\n",
    "            index = flowerbed_s.index(\"000\")\n",
    "            flowerbed_s = flowerbed_s[:index] + \"010\" + flowerbed_s[index + 3:]\n",
    "            n-=1\n",
    "        else:\n",
    "            return False\n",
    "    \n",
    "    return True"
   ]
  },
  {
   "cell_type": "markdown",
   "metadata": {},
   "source": [
    "**Runtime 397 ms, Beats 7.20%**\n",
    "\n",
    "**Memory 13.8 MB, Beats 83.38%**"
   ]
  },
  {
   "cell_type": "code",
   "execution_count": null,
   "metadata": {},
   "outputs": [],
   "source": []
  }
 ],
 "metadata": {
  "kernelspec": {
   "display_name": "Python 3",
   "language": "python",
   "name": "python3"
  },
  "language_info": {
   "codemirror_mode": {
    "name": "ipython",
    "version": 3
   },
   "file_extension": ".py",
   "mimetype": "text/x-python",
   "name": "python",
   "nbconvert_exporter": "python",
   "pygments_lexer": "ipython3",
   "version": "3.7.13"
  }
 },
 "nbformat": 4,
 "nbformat_minor": 4
}
