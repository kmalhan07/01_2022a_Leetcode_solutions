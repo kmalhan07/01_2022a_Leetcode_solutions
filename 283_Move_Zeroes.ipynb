{
 "cells": [
  {
   "cell_type": "markdown",
   "metadata": {},
   "source": [
    "### 283. Move Zeroes\n",
    "\n",
    "### https://leetcode.com/problems/move-zeroes/\n",
    "\n",
    "**Constraints:**\n",
    "\n",
    "$\\bullet$ 1 <= nums.length <= 10^4\n",
    "\n",
    "$\\bullet$ $-2^{31}$ <= nums[i] <= $2^{31}$ - 1\n"
   ]
  },
  {
   "cell_type": "code",
   "execution_count": 39,
   "metadata": {},
   "outputs": [],
   "source": [
    "def move_zeroes(nums):\n",
    "    \n",
    "    ind_zeroes = [i for i, x in enumerate(nums) if x == 0]\n",
    "    ind_non_zeroes = [i for i, x in enumerate(nums) if x != 0]    \n",
    "    return [nums[i] for i in ind_non_zeroes] + [nums[i] for i in ind_zeroes]\n",
    "        "
   ]
  },
  {
   "cell_type": "code",
   "execution_count": 40,
   "metadata": {},
   "outputs": [
    {
     "name": "stdout",
     "output_type": "stream",
     "text": [
      "\n",
      "answer =  [1, 3, 12, 0, 0]\n"
     ]
    }
   ],
   "source": [
    "nums = [0,1,0,3,12]\n",
    "answer = move_zeroes(nums)\n",
    "print(\"\\nanswer = \", answer)"
   ]
  },
  {
   "cell_type": "code",
   "execution_count": 41,
   "metadata": {},
   "outputs": [
    {
     "name": "stdout",
     "output_type": "stream",
     "text": [
      "\n",
      "answer =  [0]\n"
     ]
    }
   ],
   "source": [
    "nums = [0]\n",
    "answer = move_zeroes(nums)\n",
    "print(\"\\nanswer = \", answer)"
   ]
  },
  {
   "cell_type": "markdown",
   "metadata": {},
   "source": [
    "### Leetcode solution"
   ]
  },
  {
   "cell_type": "code",
   "execution_count": 2,
   "metadata": {},
   "outputs": [],
   "source": [
    "class Solution(object):\n",
    "    def moveZeroes(self, nums):\n",
    "        \"\"\"\n",
    "        :type nums: List[int]\n",
    "        :rtype: None Do not return anything, modify nums in-place instead.\n",
    "        \"\"\"\n",
    "        return move_zeroes(nums)\n",
    "    \n",
    "def move_zeroes(nums):\n",
    "    \n",
    "    ind_zeroes = [i for i, x in enumerate(nums) if x == 0]\n",
    "    ind_non_zeroes = [i for i, x in enumerate(nums) if x != 0]    \n",
    "    return [nums[i] for i in ind_non_zeroes] + [nums[i] for i in ind_zeroes]\n",
    "        "
   ]
  },
  {
   "cell_type": "code",
   "execution_count": 7,
   "metadata": {},
   "outputs": [
    {
     "data": {
      "text/plain": [
       "[1, 3, 12, 0, 0]"
      ]
     },
     "execution_count": 7,
     "metadata": {},
     "output_type": "execute_result"
    }
   ],
   "source": [
    "nums = [0,1,0,3,12]\n",
    "answer = Solution()#.moveZeroes(nums)\n",
    "answer.moveZeroes(nums)\n",
    "# print(\"\\nanswer = \", answer)"
   ]
  },
  {
   "cell_type": "code",
   "execution_count": null,
   "metadata": {},
   "outputs": [],
   "source": []
  }
 ],
 "metadata": {
  "kernelspec": {
   "display_name": "Python 3",
   "language": "python",
   "name": "python3"
  },
  "language_info": {
   "codemirror_mode": {
    "name": "ipython",
    "version": 3
   },
   "file_extension": ".py",
   "mimetype": "text/x-python",
   "name": "python",
   "nbconvert_exporter": "python",
   "pygments_lexer": "ipython3",
   "version": "3.7.13"
  }
 },
 "nbformat": 4,
 "nbformat_minor": 4
}
