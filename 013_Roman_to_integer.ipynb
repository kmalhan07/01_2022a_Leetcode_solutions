{
 "cells": [
  {
   "cell_type": "markdown",
   "metadata": {},
   "source": [
    "# 13. Roman to Integer\n",
    "\n",
    "### https://leetcode.com/problems/roman-to-integer/\n",
    "\n",
    "\n",
    "***Constraints:***\n",
    "\n",
    "$\\bullet$    1 <= s.length <= 15\n",
    "\n",
    "$\\bullet$    s contains only the characters ('I', 'V', 'X', 'L', 'C', 'D', 'M').\n",
    "\n",
    "$\\bullet$        It is guaranteed that s is a valid roman numeral in the range [1, 3999].\n"
   ]
  },
  {
   "cell_type": "code",
   "execution_count": 49,
   "metadata": {},
   "outputs": [],
   "source": [
    "def roman_to_integer(s):\n",
    "    \n",
    "    dict_tmp = {\"I\" : 1, \"V\" : 5, \"X\" : 10, \"L\" : 50, \"C\" : 100, \"D\" : 500, \"M\" : 1000}\n",
    "    \n",
    "    n = len(s)\n",
    "    \n",
    "    num = 0\n",
    "    \n",
    "    for i in range(0, n):\n",
    "        num+=dict_tmp[s[i]]\n",
    "        \n",
    "        if i > 0:\n",
    "            \n",
    "            if (s[i - 1] == \"I\") and (s[i] == \"V\" or s[i] == \"X\"):\n",
    "                num-=2\n",
    "            if (s[i - 1] == \"X\") and (s[i] == \"L\" or s[i] == \"C\"):\n",
    "                num-=20\n",
    "            if (s[i - 1] == \"C\") and (s[i] == \"D\" or s[i] == \"M\"):\n",
    "                num-=200\n",
    "    \n",
    "    return num"
   ]
  },
  {
   "cell_type": "code",
   "execution_count": 50,
   "metadata": {},
   "outputs": [
    {
     "name": "stdout",
     "output_type": "stream",
     "text": [
      "answer = 3\n"
     ]
    }
   ],
   "source": [
    "s = \"III\"\n",
    "answer = roman_to_integer(s)\n",
    "print(\"answer =\", answer)"
   ]
  },
  {
   "cell_type": "code",
   "execution_count": 51,
   "metadata": {},
   "outputs": [
    {
     "name": "stdout",
     "output_type": "stream",
     "text": [
      "answer = 4\n"
     ]
    }
   ],
   "source": [
    "s = \"IV\"\n",
    "answer = roman_to_integer(s)\n",
    "print(\"answer =\", answer)"
   ]
  },
  {
   "cell_type": "code",
   "execution_count": 52,
   "metadata": {},
   "outputs": [
    {
     "name": "stdout",
     "output_type": "stream",
     "text": [
      "answer = 5\n"
     ]
    }
   ],
   "source": [
    "s = \"V\"\n",
    "answer = roman_to_integer(s)\n",
    "print(\"answer =\", answer)"
   ]
  },
  {
   "cell_type": "code",
   "execution_count": 53,
   "metadata": {},
   "outputs": [
    {
     "name": "stdout",
     "output_type": "stream",
     "text": [
      "answer = 9\n"
     ]
    }
   ],
   "source": [
    "s = \"IX\"\n",
    "answer = roman_to_integer(s)\n",
    "print(\"answer =\", answer)"
   ]
  },
  {
   "cell_type": "code",
   "execution_count": 54,
   "metadata": {},
   "outputs": [
    {
     "name": "stdout",
     "output_type": "stream",
     "text": [
      "answer = 30\n"
     ]
    }
   ],
   "source": [
    "s = \"XXX\"\n",
    "answer = roman_to_integer(s)\n",
    "print(\"answer =\", answer)"
   ]
  },
  {
   "cell_type": "code",
   "execution_count": 55,
   "metadata": {},
   "outputs": [
    {
     "name": "stdout",
     "output_type": "stream",
     "text": [
      "answer = 19\n"
     ]
    }
   ],
   "source": [
    "s = \"XIX\"\n",
    "answer = roman_to_integer(s)\n",
    "print(\"answer =\", answer)"
   ]
  },
  {
   "cell_type": "code",
   "execution_count": 56,
   "metadata": {},
   "outputs": [
    {
     "name": "stdout",
     "output_type": "stream",
     "text": [
      "answer = 14\n"
     ]
    }
   ],
   "source": [
    "s = \"XIV\"\n",
    "answer = roman_to_integer(s)\n",
    "print(\"answer =\", answer)"
   ]
  },
  {
   "cell_type": "code",
   "execution_count": 57,
   "metadata": {},
   "outputs": [
    {
     "name": "stdout",
     "output_type": "stream",
     "text": [
      "answer = 58\n"
     ]
    }
   ],
   "source": [
    "s = \"LVIII\"\n",
    "answer = roman_to_integer(s)\n",
    "print(\"answer =\", answer)"
   ]
  },
  {
   "cell_type": "code",
   "execution_count": 58,
   "metadata": {},
   "outputs": [
    {
     "name": "stdout",
     "output_type": "stream",
     "text": [
      "answer = 40\n"
     ]
    }
   ],
   "source": [
    "s = \"XL\"\n",
    "answer = roman_to_integer(s)\n",
    "print(\"answer =\", answer)"
   ]
  },
  {
   "cell_type": "code",
   "execution_count": 59,
   "metadata": {},
   "outputs": [
    {
     "name": "stdout",
     "output_type": "stream",
     "text": [
      "answer = 1994\n"
     ]
    }
   ],
   "source": [
    "s = \"MCMXCIV\"\n",
    "answer = roman_to_integer(s)\n",
    "print(\"answer =\", answer)"
   ]
  },
  {
   "cell_type": "code",
   "execution_count": 60,
   "metadata": {},
   "outputs": [
    {
     "name": "stdout",
     "output_type": "stream",
     "text": [
      "answer = 3724\n"
     ]
    }
   ],
   "source": [
    "s = \"MMMDCCXXIV\"\n",
    "answer = roman_to_integer(s)\n",
    "print(\"answer =\", answer)"
   ]
  },
  {
   "cell_type": "markdown",
   "metadata": {},
   "source": [
    "### leetcode solution"
   ]
  },
  {
   "cell_type": "code",
   "execution_count": 61,
   "metadata": {},
   "outputs": [],
   "source": [
    "class Solution(object):\n",
    "    def romanToInt(self, s):\n",
    "        \"\"\"\n",
    "        :type s: str\n",
    "        :rtype: int\n",
    "        \"\"\"\n",
    "        return roman_to_integer(s)\n",
    "        \n",
    "        \n",
    "def roman_to_integer(s):\n",
    "    \n",
    "    dict_tmp = {\"I\" : 1, \"V\" : 5, \"X\" : 10, \"L\" : 50, \"C\" : 100, \"D\" : 500, \"M\" : 1000}\n",
    "    \n",
    "    n = len(s)\n",
    "    \n",
    "    num = 0\n",
    "    \n",
    "    for i in range(0, n):\n",
    "        num+=dict_tmp[s[i]]\n",
    "        \n",
    "        if i > 0:\n",
    "            \n",
    "            if (s[i - 1] == \"I\") and (s[i] == \"V\" or s[i] == \"X\"):\n",
    "                num-=2\n",
    "            if (s[i - 1] == \"X\") and (s[i] == \"L\" or s[i] == \"C\"):\n",
    "                num-=20\n",
    "            if (s[i - 1] == \"C\") and (s[i] == \"D\" or s[i] == \"M\"):\n",
    "                num-=200\n",
    "    \n",
    "    return num"
   ]
  },
  {
   "cell_type": "markdown",
   "metadata": {},
   "source": [
    "**Runtime: 55 ms, faster than 66.37% of Python online submissions for Roman to Integer.**\n",
    "    \n",
    "**Memory Usage: 13.3 MB, less than 95.97% of Python online submissions for Roman to Integer.**"
   ]
  },
  {
   "cell_type": "code",
   "execution_count": null,
   "metadata": {},
   "outputs": [],
   "source": []
  }
 ],
 "metadata": {
  "kernelspec": {
   "display_name": "Python 3",
   "language": "python",
   "name": "python3"
  },
  "language_info": {
   "codemirror_mode": {
    "name": "ipython",
    "version": 3
   },
   "file_extension": ".py",
   "mimetype": "text/x-python",
   "name": "python",
   "nbconvert_exporter": "python",
   "pygments_lexer": "ipython3",
   "version": "3.7.13"
  }
 },
 "nbformat": 4,
 "nbformat_minor": 4
}
