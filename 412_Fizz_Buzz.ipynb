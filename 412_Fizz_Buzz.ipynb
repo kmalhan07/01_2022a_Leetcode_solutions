{
 "cells": [
  {
   "cell_type": "markdown",
   "metadata": {},
   "source": [
    "### 412. Fizz Buzz\n",
    "\n",
    "### https://leetcode.com/problems/fizz-buzz/\n",
    "\n",
    "**Constraints:**\n",
    "\n",
    "$\\bullet$  1 <= n <= $10^4$"
   ]
  },
  {
   "cell_type": "code",
   "execution_count": 5,
   "metadata": {},
   "outputs": [],
   "source": [
    "def fizz_buzz(n):\n",
    "    \n",
    "    arr_ans = []\n",
    "    for i in range(1, n + 1):\n",
    "        if i % 3 == 0 and i % 5 == 0:\n",
    "            s = \"FizzBuzz\"\n",
    "        elif i % 3 == 0:\n",
    "            s = \"Fizz\"\n",
    "        elif i % 5 == 0:\n",
    "            s = \"Buzz\"\n",
    "        else:\n",
    "            s = str(i)\n",
    "        arr_ans.append(s)\n",
    "        \n",
    "    return arr_ans"
   ]
  },
  {
   "cell_type": "code",
   "execution_count": 6,
   "metadata": {},
   "outputs": [
    {
     "name": "stdout",
     "output_type": "stream",
     "text": [
      "\n",
      "answer =  ['1', '2', 'Fizz']\n"
     ]
    }
   ],
   "source": [
    "n = 3\n",
    "answer = fizz_buzz(n)\n",
    "print(\"\\nanswer = \", answer)"
   ]
  },
  {
   "cell_type": "code",
   "execution_count": 7,
   "metadata": {},
   "outputs": [
    {
     "name": "stdout",
     "output_type": "stream",
     "text": [
      "\n",
      "answer =  ['1', '2', 'Fizz', '4', 'Buzz']\n"
     ]
    }
   ],
   "source": [
    "n = 5\n",
    "answer = fizz_buzz(n)\n",
    "print(\"\\nanswer = \", answer)"
   ]
  },
  {
   "cell_type": "code",
   "execution_count": 8,
   "metadata": {},
   "outputs": [
    {
     "name": "stdout",
     "output_type": "stream",
     "text": [
      "\n",
      "answer =  ['1', '2', 'Fizz', '4', 'Buzz', 'Fizz', '7', '8', 'Fizz', 'Buzz', '11', 'Fizz', '13', '14', 'FizzBuzz']\n"
     ]
    }
   ],
   "source": [
    "n = 15\n",
    "answer = fizz_buzz(n)\n",
    "print(\"\\nanswer = \", answer)"
   ]
  },
  {
   "cell_type": "markdown",
   "metadata": {},
   "source": [
    "### Leetcode"
   ]
  },
  {
   "cell_type": "code",
   "execution_count": 9,
   "metadata": {},
   "outputs": [],
   "source": [
    "class Solution(object):\n",
    "    def fizzBuzz(self, n):\n",
    "        \"\"\"\n",
    "        :type n: int\n",
    "        :rtype: List[str]\n",
    "        \"\"\"\n",
    "        return fizz_buzz(n)\n",
    "    \n",
    "    \n",
    "def fizz_buzz(n):\n",
    "    \n",
    "    arr_ans = []\n",
    "    for i in range(1, n + 1):\n",
    "        if i % 3 == 0 and i % 5 == 0:\n",
    "            s = \"FizzBuzz\"\n",
    "        elif i % 3 == 0:\n",
    "            s = \"Fizz\"\n",
    "        elif i % 5 == 0:\n",
    "            s = \"Buzz\"\n",
    "        else:\n",
    "            s = str(i)\n",
    "        arr_ans.append(s)\n",
    "        \n",
    "    return arr_ans"
   ]
  },
  {
   "cell_type": "markdown",
   "metadata": {},
   "source": [
    "**Runtime 46 ms, Beats 55.57%**\n",
    "\n",
    "**Memory 14 MB, Beats 95.49%**"
   ]
  },
  {
   "cell_type": "code",
   "execution_count": null,
   "metadata": {},
   "outputs": [],
   "source": []
  }
 ],
 "metadata": {
  "kernelspec": {
   "display_name": "Python 3",
   "language": "python",
   "name": "python3"
  },
  "language_info": {
   "codemirror_mode": {
    "name": "ipython",
    "version": 3
   },
   "file_extension": ".py",
   "mimetype": "text/x-python",
   "name": "python",
   "nbconvert_exporter": "python",
   "pygments_lexer": "ipython3",
   "version": "3.7.13"
  }
 },
 "nbformat": 4,
 "nbformat_minor": 4
}
