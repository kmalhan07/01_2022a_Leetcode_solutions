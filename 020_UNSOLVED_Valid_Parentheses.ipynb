{
 "cells": [
  {
   "cell_type": "markdown",
   "metadata": {},
   "source": [
    "# 20. Valid Parentheses\n",
    "\n",
    "### https://leetcode.com/problems/valid-parentheses/\n",
    "\n",
    "**Constraints:**\n",
    "\n",
    "$\\bullet$ 1 <= s.length <= 10^4\n",
    "\n",
    "$\\bullet$ s consists of parentheses only '()[]{}'.\n"
   ]
  },
  {
   "cell_type": "code",
   "execution_count": 86,
   "metadata": {},
   "outputs": [],
   "source": [
    "# def is_valid(s):\n",
    "    \n",
    "#     print(\"\\t\\t\\t\\ts =\", s)\n",
    "    \n",
    "#     if s ==\"\":\n",
    "#         print(\"\\t\\t1\")\n",
    "#         return True\n",
    "    \n",
    "#     # condition: no need to check entire string if the following is true\n",
    "#     if (s[0] == \")\" or s[0] == \"}\" or s[0] == \"]\") or (s[-1] == \"(\" or s[-1] == \"{\" or s[-1] == \"[\"):\n",
    "#         print(\"\\t\\t2\")\n",
    "#         return False\n",
    "    \n",
    "    \n",
    "#     dict_tmp = {\"(\":\")\", \"{\":\"}\", \"[\":\"]\"}\n",
    "\n",
    "#     # length of string\n",
    "#     n = len(s)\n",
    "\n",
    "#     # if the length is odd, return false\n",
    "#     if n%2 == 1: \n",
    "#         print(\"\\t\\t3\")\n",
    "#         return False\n",
    "#     else:\n",
    "#         print(\"\\t\\t4\")\n",
    "#     #if the length is even, check further\n",
    "#         index_start = 0\n",
    "#         index_end = s.find(dict_tmp[s[index_start]])\n",
    "#         print(\"\\nindex_start, index_end, abs(index_end - index_start) = \", index_start, index_end, abs(index_end - index_start))\n",
    "#         print(\"s[index_start], s[index_end] =\", s[index_start], s[index_end])\n",
    "\n",
    "#         if index_end == -1:\n",
    "#             print(\"\\t\\t4a\")\n",
    "#             return False\n",
    "#         else:\n",
    "#             if abs(index_end - index_start) == 1:\n",
    "#                 print(\"\\t\\t4b\")\n",
    "#                 index_start = index_end + 1\n",
    "#                 return is_valid(s[index_start:])\n",
    "#             elif (abs(index_end - index_start)%2 == 1):\n",
    "#                 print(\"\\n\\t\\t4c\")\n",
    "#                 print(\"recursive....\")\n",
    "#                 print(\"s[index_start: index_end] =\", s[index_start + 1: index_end])\n",
    "#                 return is_valid(s[index_start + 1: index_end])\n",
    "#             else:\n",
    "#                 print(\"\\t\\t4d\")\n",
    "\n",
    "#         return False\n",
    "\n"
   ]
  },
  {
   "cell_type": "code",
   "execution_count": 137,
   "metadata": {},
   "outputs": [],
   "source": [
    "def is_valid(s):\n",
    "    \n",
    "    print(\"\\t\\ts =\", s)\n",
    "    \n",
    "    if s ==\"\":\n",
    "        return True\n",
    "    \n",
    "    # condition: no need to check entire string if the following is true\n",
    "    if (s[0] == \")\" or s[0] == \"}\" or s[0] == \"]\") or (s[-1] == \"(\" or s[-1] == \"{\" or s[-1] == \"[\"):\n",
    "        return False\n",
    "    \n",
    "    \n",
    "    dict_tmp = {\"(\":\")\", \"{\":\"}\", \"[\":\"]\"}\n",
    "\n",
    "    # length of string\n",
    "    n = len(s)\n",
    "\n",
    "    # if the length is odd, return false\n",
    "    if n%2 == 1: \n",
    "        print(\"\\t\\t3\")\n",
    "        return False\n",
    "    else:\n",
    "        \n",
    "        print(\"\\t\\t4\")\n",
    "        index_start = 0\n",
    "        index_end = s.find(dict_tmp[s[index_start]])\n",
    "\n",
    "        print(\"\\nindex_start, index_end, abs(index_end - index_start) = \", index_start, index_end, abs(index_end - index_start))\n",
    "        print(\"s[index_start], s[index_end] =\", s[index_start], s[index_end])\n",
    "\n",
    "        if index_end == -1: # no corresponding bracket found\n",
    "            print(\"\\t\\t\\t\\t4a\")\n",
    "            return False\n",
    "        else:\n",
    "            if abs(index_end - index_start) == 1: # e.g., ()\n",
    "                print(\"\\t\\t\\t\\t4b....e.g., ()\")\n",
    "                print(\"\\t\\t\\t\\trecursive....\")\n",
    "                return is_valid(s[index_end + 1:])\n",
    "            elif (abs(index_end - index_start)%2 == 1): # ( x x)\n",
    "                print(\"\\t\\t\\t\\t4c....e.g,. ( x x)\")\n",
    "                print(\"\\t\\t\\t\\trecursive....\")\n",
    "                print(\"\\t\\t\\t\\ts[index_start + 1: index_end] =\", s[index_start + 1: index_end])\n",
    "                return is_valid(s[index_start + 1: index_end])\n",
    "            elif abs(index_end - index_start) % 2 ==0: # e.g., ( x )\n",
    "                print(\"\\t\\t\\t\\t4d...e.g., ( x )\")\n",
    "                return is_valid(s[index_end + 1:])\n",
    "                \n",
    "\n"
   ]
  },
  {
   "cell_type": "code",
   "execution_count": 117,
   "metadata": {},
   "outputs": [
    {
     "name": "stdout",
     "output_type": "stream",
     "text": [
      "\t\ts = \n",
      "answer =  True\n"
     ]
    }
   ],
   "source": [
    "s = \"\"\n",
    "answer = is_valid(s)\n",
    "print(\"answer = \", answer)"
   ]
  },
  {
   "cell_type": "code",
   "execution_count": 118,
   "metadata": {},
   "outputs": [
    {
     "name": "stdout",
     "output_type": "stream",
     "text": [
      "\t\ts = (\n",
      "answer =  False\n"
     ]
    }
   ],
   "source": [
    "s = \"(\"\n",
    "answer = is_valid(s)\n",
    "print(\"answer = \", answer)"
   ]
  },
  {
   "cell_type": "code",
   "execution_count": 119,
   "metadata": {},
   "outputs": [
    {
     "name": "stdout",
     "output_type": "stream",
     "text": [
      "\t\ts = )\n",
      "answer =  False\n"
     ]
    }
   ],
   "source": [
    "s = \")\"\n",
    "answer = is_valid(s)\n",
    "print(\"answer = \", answer)"
   ]
  },
  {
   "cell_type": "code",
   "execution_count": 120,
   "metadata": {},
   "outputs": [
    {
     "name": "stdout",
     "output_type": "stream",
     "text": [
      "\t\ts = ()\n",
      "\t\t4\n",
      "\n",
      "index_start, index_end, abs(index_end - index_start) =  0 1 1\n",
      "s[index_start], s[index_end] = ( )\n",
      "\t\t\t\t4b\n",
      "\t\t\t\trecursive....\n",
      "\t\ts = \n",
      "answer =  True\n"
     ]
    }
   ],
   "source": [
    "s = \"()\"\n",
    "answer = is_valid(s)\n",
    "print(\"answer = \", answer)"
   ]
  },
  {
   "cell_type": "code",
   "execution_count": 121,
   "metadata": {},
   "outputs": [
    {
     "name": "stdout",
     "output_type": "stream",
     "text": [
      "\t\ts = (]\n",
      "\t\t4\n",
      "\n",
      "index_start, index_end, abs(index_end - index_start) =  0 -1 1\n",
      "s[index_start], s[index_end] = ( ]\n",
      "\t\t\t\t4a\n",
      "answer =  False\n"
     ]
    }
   ],
   "source": [
    "s = \"(]\"\n",
    "answer = is_valid(s)\n",
    "print(\"answer = \", answer)"
   ]
  },
  {
   "cell_type": "code",
   "execution_count": 122,
   "metadata": {},
   "outputs": [
    {
     "name": "stdout",
     "output_type": "stream",
     "text": [
      "\t\ts = ()[\n",
      "answer =  False\n"
     ]
    }
   ],
   "source": [
    "s = \"()[\"\n",
    "answer = is_valid(s)\n",
    "print(\"answer = \", answer)"
   ]
  },
  {
   "cell_type": "code",
   "execution_count": 126,
   "metadata": {},
   "outputs": [
    {
     "name": "stdout",
     "output_type": "stream",
     "text": [
      "\t\ts = ()[]{}\n",
      "\t\t4\n",
      "\n",
      "index_start, index_end, abs(index_end - index_start) =  0 1 1\n",
      "s[index_start], s[index_end] = ( )\n",
      "\t\t\t\t4b....e.g., ()\n",
      "\t\t\t\trecursive....\n",
      "\t\ts = []{}\n",
      "\t\t4\n",
      "\n",
      "index_start, index_end, abs(index_end - index_start) =  0 1 1\n",
      "s[index_start], s[index_end] = [ ]\n",
      "\t\t\t\t4b....e.g., ()\n",
      "\t\t\t\trecursive....\n",
      "\t\ts = {}\n",
      "\t\t4\n",
      "\n",
      "index_start, index_end, abs(index_end - index_start) =  0 1 1\n",
      "s[index_start], s[index_end] = { }\n",
      "\t\t\t\t4b....e.g., ()\n",
      "\t\t\t\trecursive....\n",
      "\t\ts = \n",
      "answer =  True\n"
     ]
    }
   ],
   "source": [
    "s = \"()[]{}\"\n",
    "answer = is_valid(s)\n",
    "print(\"answer = \", answer)"
   ]
  },
  {
   "cell_type": "code",
   "execution_count": 127,
   "metadata": {},
   "outputs": [
    {
     "name": "stdout",
     "output_type": "stream",
     "text": [
      "\t\ts = {[]}\n",
      "\t\t4\n",
      "\n",
      "index_start, index_end, abs(index_end - index_start) =  0 3 3\n",
      "s[index_start], s[index_end] = { }\n",
      "\t\t\t\t4c....e.g,. ( x x)\n",
      "\t\t\t\trecursive....\n",
      "\t\t\t\ts[index_start + 1: index_end] = []\n",
      "\t\ts = []\n",
      "\t\t4\n",
      "\n",
      "index_start, index_end, abs(index_end - index_start) =  0 1 1\n",
      "s[index_start], s[index_end] = [ ]\n",
      "\t\t\t\t4b....e.g., ()\n",
      "\t\t\t\trecursive....\n",
      "\t\ts = \n",
      "answer =  True\n"
     ]
    }
   ],
   "source": [
    "s = \"{[]}\"\n",
    "answer = is_valid(s)\n",
    "print(\"answer = \", answer)"
   ]
  },
  {
   "cell_type": "code",
   "execution_count": 128,
   "metadata": {},
   "outputs": [
    {
     "name": "stdout",
     "output_type": "stream",
     "text": [
      "\t\ts = (){}}{\n",
      "answer =  False\n"
     ]
    }
   ],
   "source": [
    "s = \"(){}}{\"\n",
    "answer = is_valid(s)\n",
    "print(\"answer = \", answer)"
   ]
  },
  {
   "cell_type": "code",
   "execution_count": 134,
   "metadata": {},
   "outputs": [
    {
     "name": "stdout",
     "output_type": "stream",
     "text": [
      "\t\ts = ({[)\n",
      "\t\t4\n",
      "\n",
      "index_start, index_end, abs(index_end - index_start) =  0 3 3\n",
      "s[index_start], s[index_end] = ( )\n",
      "\t\t\t\t4c....e.g,. ( x x)\n",
      "\t\t\t\trecursive....\n",
      "\t\t\t\ts[index_start + 1: index_end] = {[\n",
      "\t\ts = {[\n",
      "answer =  False\n"
     ]
    }
   ],
   "source": [
    "s = \"({[)\"\n",
    "answer = is_valid(s)\n",
    "print(\"answer = \", answer)"
   ]
  },
  {
   "cell_type": "code",
   "execution_count": 138,
   "metadata": {},
   "outputs": [
    {
     "name": "stdout",
     "output_type": "stream",
     "text": [
      "\t\ts = ([)]\n",
      "\t\t4\n",
      "\n",
      "index_start, index_end, abs(index_end - index_start) =  0 2 2\n",
      "s[index_start], s[index_end] = ( )\n",
      "\t\t\t\t4d...e.g., ( x )\n",
      "\t\ts = ]\n",
      "answer =  False\n"
     ]
    }
   ],
   "source": [
    "s = \"([)]\" # false\n",
    "answer = is_valid(s)\n",
    "print(\"answer = \", answer)"
   ]
  },
  {
   "cell_type": "code",
   "execution_count": 139,
   "metadata": {},
   "outputs": [
    {
     "name": "stdout",
     "output_type": "stream",
     "text": [
      "\t\ts = (([]){})\n",
      "\t\t4\n",
      "\n",
      "index_start, index_end, abs(index_end - index_start) =  0 4 4\n",
      "s[index_start], s[index_end] = ( )\n",
      "\t\t\t\t4d...e.g., ( x )\n",
      "\t\ts = {})\n",
      "\t\t3\n",
      "answer =  False\n"
     ]
    }
   ],
   "source": [
    "s= \"(([]){})\" #true\n",
    "answer = is_valid(s)\n",
    "print(\"answer = \", answer)"
   ]
  },
  {
   "cell_type": "markdown",
   "metadata": {},
   "source": [
    "### Leetcode solution"
   ]
  },
  {
   "cell_type": "code",
   "execution_count": 19,
   "metadata": {},
   "outputs": [],
   "source": [
    "# class Solution(object):\n",
    "#     def isValid(self, s):\n",
    "#         \"\"\"\n",
    "#         :type s: str\n",
    "#         :rtype: bool\n",
    "#         \"\"\"\n",
    "#         return is_valid(s)\n",
    "    \n",
    "    \n",
    "    \n",
    "# def is_valid(s):\n",
    "    \n",
    "#     n = len(s)\n",
    "    \n",
    "#     if n%2 == 1: \n",
    "#         return False\n",
    "#     else:\n",
    "        \n",
    "#         for i in range(0, n - 1, 2):\n",
    "#             if s[i] == \"(\" and s[i + 1] == \")\":\n",
    "#                 pass\n",
    "#             elif s[i] == \"[\" and s[i + 1] == \"]\":\n",
    "#                 pass\n",
    "#             elif s[i] == \"{\" and s[i + 1] == \"}\":\n",
    "#                 pass\n",
    "#             else:\n",
    "#                 return False\n",
    "            \n",
    "#     return True"
   ]
  },
  {
   "cell_type": "code",
   "execution_count": null,
   "metadata": {},
   "outputs": [],
   "source": [
    "class Solution(object):\n",
    "    def isValid(self, s):\n",
    "        \"\"\"\n",
    "        :type s: str\n",
    "        :rtype: bool\n",
    "        \"\"\"\n",
    "        return is_valid(s)\n",
    "    \n",
    "    \n",
    "    \n",
    "def is_valid(s):\n",
    "    \n",
    "    print(\"\\t\\t\\t\\ts =\", s)\n",
    "    \n",
    "    if s ==\"\":\n",
    "        print(\"\\t\\t1\")\n",
    "        return True\n",
    "    \n",
    "    # condition: no need to check entire string if the following is true\n",
    "    elif (s[0] == \")\" or s[0] == \"}\" or s[0] == \"]\") or (s[-1] == \"(\" or s[-1] == \"{\" or s[-1] == \"[\"):\n",
    "        print(\"\\t\\t2\")\n",
    "        return False\n",
    "    \n",
    "    else:\n",
    "\n",
    "\n",
    "        dict_tmp = {\"(\":\")\", \"{\":\"}\", \"[\":\"]\"}\n",
    "\n",
    "        # length of string\n",
    "        n = len(s)\n",
    "\n",
    "        # if the length is odd, return false\n",
    "        if n%2 == 1: \n",
    "            print(\"\\t\\t3\")\n",
    "            return False\n",
    "        else:\n",
    "            print(\"\\t\\t4\")\n",
    "        #if the length is even, check further\n",
    "            index_start = 0\n",
    "            index_end = s.find(dict_tmp[s[index_start]])\n",
    "            print(\"\\nindex_start, index_end, abs(index_end - index_start) = \", index_start, index_end, abs(index_end - index_start))\n",
    "            print(\"s[index_start], s[index_end] =\", s[index_start], s[index_end])\n",
    "\n",
    "            if index_end == -1:\n",
    "                print(\"\\t\\t4a\")\n",
    "                return False\n",
    "            else:\n",
    "                if abs(index_end - index_start) == 1:\n",
    "                    print(\"\\t\\t4b\")\n",
    "                    index_start = index_end + 1\n",
    "                    is_valid(s[index_start:])\n",
    "                elif (abs(index_end - index_start)%2 == 1):\n",
    "                    print(\"\\n\\t\\t4c\")\n",
    "                    print(\"recursive....\")\n",
    "                    print(\"s[index_start: index_end] =\", s[index_start + 1: index_end])\n",
    "                    is_valid(s[index_start + 1: index_end])\n",
    "                else:\n",
    "                    print(\"\\t\\t4d\")\n",
    "                    return False\n",
    "\n",
    "        return True"
   ]
  },
  {
   "cell_type": "code",
   "execution_count": null,
   "metadata": {},
   "outputs": [],
   "source": [
    "class Solution(object):\n",
    "    def isValid(self, s):\n",
    "        \"\"\"\n",
    "        :type s: str\n",
    "        :rtype: bool\n",
    "        \"\"\"\n",
    "        return is_valid(s)\n",
    "    \n",
    "    \n",
    "    \n",
    "def is_valid(s):\n",
    "    \n",
    "    # condition: no need to check entire string if the following is true\n",
    "    if (s[0] == \")\" or s[0] == \"}\" or s[0] == \"]\"):\n",
    "        return False\n",
    "\n",
    "    \n",
    "    \n",
    "    dict_tmp = {\"(\":\")\", \"{\":\"}\", \"[\":\"]\"}\n",
    "    \n",
    "    # length of string\n",
    "    n = len(s)\n",
    "    \n",
    "    # if the length is odd, return false\n",
    "    if n%2 == 1: \n",
    "        return False\n",
    "    else:\n",
    "    #if the length is even, check further\n",
    "        index_start = 0\n",
    "        index_end = s.find(dict_tmp[s[index_start]])\n",
    "        \n",
    "        if index_end == -1:\n",
    "            return False\n",
    "        else:\n",
    "            if abs(index_end - index_start) == 1:\n",
    "                index_start = index_end + 1\n",
    "            elif (abs(index_end - index_start)%2 == 1):\n",
    "                is_valid(s[index_start: index_end])\n",
    "            else:\n",
    "                return False\n",
    "\n",
    "    return True"
   ]
  },
  {
   "cell_type": "code",
   "execution_count": null,
   "metadata": {},
   "outputs": [],
   "source": []
  }
 ],
 "metadata": {
  "kernelspec": {
   "display_name": "Python 3",
   "language": "python",
   "name": "python3"
  },
  "language_info": {
   "codemirror_mode": {
    "name": "ipython",
    "version": 3
   },
   "file_extension": ".py",
   "mimetype": "text/x-python",
   "name": "python",
   "nbconvert_exporter": "python",
   "pygments_lexer": "ipython3",
   "version": "3.7.13"
  }
 },
 "nbformat": 4,
 "nbformat_minor": 4
}
