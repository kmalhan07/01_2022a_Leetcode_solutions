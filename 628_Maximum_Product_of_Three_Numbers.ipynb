{
 "cells": [
  {
   "cell_type": "markdown",
   "metadata": {},
   "source": [
    "### 628. Maximum Product of Three Numbers\n",
    "\n",
    "### https://leetcode.com/problems/maximum-product-of-three-numbers/"
   ]
  },
  {
   "cell_type": "code",
   "execution_count": 1,
   "metadata": {},
   "outputs": [],
   "source": [
    "def max_prod(nums):\n",
    "    \n",
    "    if len(nums) == 3:\n",
    "        return nums[0]*nums[1]*nums[2]\n",
    "    elif all(element >= 0 for element in nums) or all(element <= 0 for element in nums):\n",
    "        nums = sorted(nums)\n",
    "        return nums[-1]*nums[-2]*nums[-3]\n",
    "    else:\n",
    "        nums = sorted(nums)\n",
    "        nums_sel = sorted(list(set(nums[:3] + nums[-3:])))\n",
    "        \n",
    "        prod = min(nums)**3 \n",
    "        for e1 in nums_sel:\n",
    "            for e2 in nums_sel:\n",
    "                for e3 in nums_sel:\n",
    "                    if e1 != e2 and e1 != e3 and e2 != e3 and e1 * e2 * e3 > prod:\n",
    "                        prod = e1 * e2 * e3\n",
    "        return prod"
   ]
  },
  {
   "cell_type": "code",
   "execution_count": 303,
   "metadata": {},
   "outputs": [
    {
     "name": "stdout",
     "output_type": "stream",
     "text": [
      "\n",
      "answer =  6\n"
     ]
    }
   ],
   "source": [
    "nums = [1,2,3]\n",
    "answer = max_prod(nums)\n",
    "print(\"\\nanswer = \", answer)"
   ]
  },
  {
   "cell_type": "code",
   "execution_count": 304,
   "metadata": {},
   "outputs": [
    {
     "name": "stdout",
     "output_type": "stream",
     "text": [
      "\n",
      "answer =  24\n"
     ]
    }
   ],
   "source": [
    "nums = [1,2,3,4]\n",
    "answer = max_prod(nums)\n",
    "print(\"\\nanswer = \", answer)"
   ]
  },
  {
   "cell_type": "code",
   "execution_count": 305,
   "metadata": {},
   "outputs": [
    {
     "name": "stdout",
     "output_type": "stream",
     "text": [
      "\n",
      "answer =  -6\n"
     ]
    }
   ],
   "source": [
    "nums = [-1,-2,-3]\n",
    "answer = max_prod(nums)\n",
    "print(\"\\nanswer = \", answer)"
   ]
  },
  {
   "cell_type": "code",
   "execution_count": 306,
   "metadata": {},
   "outputs": [
    {
     "name": "stdout",
     "output_type": "stream",
     "text": [
      "\n",
      "answer =  -6\n"
     ]
    }
   ],
   "source": [
    "nums = [-1,-2,-3, -4]\n",
    "answer = max_prod(nums)\n",
    "print(\"\\nanswer = \", answer)"
   ]
  },
  {
   "cell_type": "code",
   "execution_count": 307,
   "metadata": {},
   "outputs": [
    {
     "name": "stdout",
     "output_type": "stream",
     "text": [
      "-100 -98 -1\n",
      "-100 -98 2\n",
      "-100 -98 3\n",
      "-100 -98 4\n",
      "\n",
      "answer =  39200\n"
     ]
    }
   ],
   "source": [
    "nums = [-100,-98,-1,2,3,4]\n",
    "answer = max_prod(nums)\n",
    "print(\"\\nanswer = \", answer)"
   ]
  },
  {
   "cell_type": "code",
   "execution_count": 308,
   "metadata": {},
   "outputs": [
    {
     "name": "stdout",
     "output_type": "stream",
     "text": [
      "-976 -948 -939\n",
      "-976 -948 989\n",
      "-976 -948 990\n",
      "-976 -948 993\n",
      "989 990 993\n",
      "\n",
      "answer =  972256230\n"
     ]
    }
   ],
   "source": [
    "nums = [-710,-107,-851,657,-14,-859,278,-182,-749,718,-640,127,-930,-462,694,969,143,309,904,-651,160,451,-159,-316,844,-60,611,-169,-73,721,-902,338,-20,-890,-819,-644,107,404,150,-219,459,-324,-385,-118,-307,993,202,-147,62,-94,-976,-329,689,870,532,-686,371,-850,-186,87,878,989,-822,-350,-948,-412,161,-88,-509,836,-207,-60,771,516,-287,-366,-512,509,904,-459,683,-563,-766,-837,-333,93,893,303,908,532,-206,990,280,826,-13,115,-732,525,-939,-787]\n",
    "answer = max_prod(nums)\n",
    "print(\"\\nanswer = \", answer)"
   ]
  },
  {
   "cell_type": "code",
   "execution_count": 309,
   "metadata": {},
   "outputs": [
    {
     "name": "stdout",
     "output_type": "stream",
     "text": [
      "-4 -3 -2\n",
      "-4 -3 -1\n",
      "-4 -3 60\n",
      "\n",
      "answer =  720\n"
     ]
    }
   ],
   "source": [
    "nums = [-4,-3,-2,-1,60]\n",
    "answer = max_prod(nums)\n",
    "print(\"\\nanswer = \", answer)"
   ]
  },
  {
   "cell_type": "code",
   "execution_count": 310,
   "metadata": {},
   "outputs": [
    {
     "name": "stdout",
     "output_type": "stream",
     "text": [
      "-100 -3 -2\n",
      "-100 -3 1\n",
      "\n",
      "answer =  300\n"
     ]
    }
   ],
   "source": [
    "nums = [-100,-2,-3,1]\n",
    "answer = max_prod(nums)\n",
    "print(\"\\nanswer = \", answer)"
   ]
  },
  {
   "cell_type": "code",
   "execution_count": 311,
   "metadata": {},
   "outputs": [
    {
     "name": "stdout",
     "output_type": "stream",
     "text": [
      "-8 -7 -2\n",
      "-8 -7 10\n",
      "-8 -7 20\n",
      "\n",
      "answer =  1120\n"
     ]
    }
   ],
   "source": [
    "nums = [-8,-7,-2,10,20]\n",
    "answer = max_prod(nums)\n",
    "print(\"\\nanswer = \", answer)"
   ]
  },
  {
   "cell_type": "code",
   "execution_count": 312,
   "metadata": {},
   "outputs": [
    {
     "name": "stdout",
     "output_type": "stream",
     "text": [
      "-1 0 2\n",
      "\n",
      "answer =  0\n"
     ]
    }
   ],
   "source": [
    "nums = [0,-1,2,3]\n",
    "answer = max_prod(nums)\n",
    "print(\"\\nanswer = \", answer)"
   ]
  },
  {
   "cell_type": "markdown",
   "metadata": {},
   "source": [
    "### Leetcode"
   ]
  },
  {
   "cell_type": "code",
   "execution_count": null,
   "metadata": {},
   "outputs": [],
   "source": [
    "class Solution(object):\n",
    "    def maximumProduct(self, nums):\n",
    "        \"\"\"\n",
    "        :type nums: List[int]\n",
    "        :rtype: int\n",
    "        \"\"\"\n",
    "        return max_prod(nums)\n",
    "    \n",
    "def max_prod(nums):\n",
    "    \n",
    "    if len(nums) == 3:\n",
    "        return nums[0]*nums[1]*nums[2]\n",
    "    elif all(element >= 0 for element in nums) or all(element <= 0 for element in nums):\n",
    "        nums = sorted(nums)\n",
    "        return nums[-1]*nums[-2]*nums[-3]\n",
    "    else:\n",
    "        nums = sorted(nums)\n",
    "        nums_sel = sorted(list(set(nums[:3] + nums[-3:])))\n",
    "        \n",
    "        prod = min(nums)**3 \n",
    "        for e1 in nums_sel:\n",
    "            for e2 in nums_sel:\n",
    "                for e3 in nums_sel:\n",
    "                    if e1 != e2 and e1 != e3 and e2 != e3 and e1 * e2 * e3 > prod:\n",
    "                        prod = e1 * e2 * e3\n",
    "        return prod"
   ]
  }
 ],
 "metadata": {
  "kernelspec": {
   "display_name": "Python 3",
   "language": "python",
   "name": "python3"
  },
  "language_info": {
   "codemirror_mode": {
    "name": "ipython",
    "version": 3
   },
   "file_extension": ".py",
   "mimetype": "text/x-python",
   "name": "python",
   "nbconvert_exporter": "python",
   "pygments_lexer": "ipython3",
   "version": "3.7.13"
  }
 },
 "nbformat": 4,
 "nbformat_minor": 4
}
