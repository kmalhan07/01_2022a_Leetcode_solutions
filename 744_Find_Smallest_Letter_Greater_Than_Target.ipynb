{
 "cells": [
  {
   "cell_type": "markdown",
   "metadata": {},
   "source": [
    "### 744. Find Smallest Letter Greater Than Target\n",
    "\n",
    "### https://leetcode.com/problems/find-smallest-letter-greater-than-target/\n"
   ]
  },
  {
   "cell_type": "code",
   "execution_count": 72,
   "metadata": {},
   "outputs": [],
   "source": [
    "def function(letters, target):\n",
    "    return letters[next((i for i, x in enumerate(letters) if x > target), 0)]"
   ]
  },
  {
   "cell_type": "code",
   "execution_count": 73,
   "metadata": {},
   "outputs": [
    {
     "name": "stdout",
     "output_type": "stream",
     "text": [
      "\n",
      "answer = c\n"
     ]
    }
   ],
   "source": [
    "letters = [\"c\",\"f\",\"j\"]\n",
    "target = \"a\"\n",
    "answer = function(letters, target)\n",
    "print(\"\\nanswer =\", answer)"
   ]
  },
  {
   "cell_type": "code",
   "execution_count": 74,
   "metadata": {},
   "outputs": [
    {
     "name": "stdout",
     "output_type": "stream",
     "text": [
      "\n",
      "answer = f\n"
     ]
    }
   ],
   "source": [
    "letters = [\"c\",\"f\",\"j\"]\n",
    "target = \"c\"\n",
    "answer = function(letters, target)\n",
    "print(\"\\nanswer =\", answer)"
   ]
  },
  {
   "cell_type": "code",
   "execution_count": 75,
   "metadata": {},
   "outputs": [
    {
     "name": "stdout",
     "output_type": "stream",
     "text": [
      "\n",
      "answer = x\n"
     ]
    }
   ],
   "source": [
    "letters = [\"x\",\"x\",\"y\",\"y\"]\n",
    "target = \"z\"\n",
    "answer = function(letters, target)\n",
    "print(\"\\nanswer =\", answer)"
   ]
  },
  {
   "cell_type": "code",
   "execution_count": 76,
   "metadata": {},
   "outputs": [
    {
     "name": "stdout",
     "output_type": "stream",
     "text": [
      "\n",
      "answer = f\n"
     ]
    }
   ],
   "source": [
    "letters = [\"c\",\"f\",\"j\"]\n",
    "target = \"d\"\n",
    "answer = function(letters, target)\n",
    "print(\"\\nanswer =\", answer)"
   ]
  },
  {
   "cell_type": "markdown",
   "metadata": {},
   "source": [
    "### Leetcode"
   ]
  },
  {
   "cell_type": "code",
   "execution_count": 36,
   "metadata": {},
   "outputs": [],
   "source": [
    "class Solution(object):\n",
    "    def nextGreatestLetter(self, letters, target):\n",
    "        \"\"\"\n",
    "        :type letters: List[str]\n",
    "        :type target: str\n",
    "        :rtype: str\n",
    "        \"\"\"\n",
    "        return letters[next((i for i, x in enumerate(letters) if x > target), 0)]"
   ]
  },
  {
   "cell_type": "markdown",
   "metadata": {},
   "source": [
    "**Runtime 193 ms, Beats 26.39%**\n",
    "\n",
    "**Memory 15.6 MB, Beats 6.56%**"
   ]
  },
  {
   "cell_type": "code",
   "execution_count": null,
   "metadata": {},
   "outputs": [],
   "source": []
  }
 ],
 "metadata": {
  "kernelspec": {
   "display_name": "Python 3",
   "language": "python",
   "name": "python3"
  },
  "language_info": {
   "codemirror_mode": {
    "name": "ipython",
    "version": 3
   },
   "file_extension": ".py",
   "mimetype": "text/x-python",
   "name": "python",
   "nbconvert_exporter": "python",
   "pygments_lexer": "ipython3",
   "version": "3.7.13"
  }
 },
 "nbformat": 4,
 "nbformat_minor": 4
}
