{
 "cells": [
  {
   "cell_type": "markdown",
   "metadata": {},
   "source": [
    "### 746. Min Cost Climbing Stairs\n",
    "\n",
    "### https://leetcode.com/problems/min-cost-climbing-stairs/"
   ]
  },
  {
   "cell_type": "code",
   "execution_count": 162,
   "metadata": {},
   "outputs": [],
   "source": [
    "def min_cost(cost):\n",
    "    \n",
    "    min_cost0, i_start0 = cost[0], 0\n",
    "    min_cost1, i_start1 = cost[1], 1\n",
    "    \n",
    "    for i in range(0, len(cost) - 1):\n",
    "        \n",
    "        if i - i_start0 > 0:\n",
    "            if cost[i] < cost[i + 1]:\n",
    "                min_cost0+= cost[i]\n",
    "                i_start0+= 1\n",
    "            elif cost[i + 1] <= cost[i]:\n",
    "                min_cost0+= cost[i + 1]\n",
    "                i_start0+= 2\n",
    "                \n",
    "        \n",
    "        if i - i_start1 > 0:\n",
    "            if cost[i] < cost[i + 1]:\n",
    "                min_cost1+= cost[i]\n",
    "                i_start1+= 1\n",
    "            elif cost[i + 1] <= cost[i]:\n",
    "                min_cost1+= cost[i + 1]\n",
    "                i_start1+= 2\n",
    "                        \n",
    "                        \n",
    "    return min([min_cost0, min_cost1])"
   ]
  },
  {
   "cell_type": "code",
   "execution_count": 163,
   "metadata": {},
   "outputs": [
    {
     "name": "stdout",
     "output_type": "stream",
     "text": [
      "\n",
      "answer = 10\n"
     ]
    }
   ],
   "source": [
    "cost = [10,15]\n",
    "answer = min_cost(cost)\n",
    "print(\"\\nanswer =\", answer)"
   ]
  },
  {
   "cell_type": "code",
   "execution_count": 164,
   "metadata": {},
   "outputs": [
    {
     "name": "stdout",
     "output_type": "stream",
     "text": [
      "\n",
      "answer = 10\n"
     ]
    }
   ],
   "source": [
    "cost = [15,10]\n",
    "answer = min_cost(cost)\n",
    "print(\"\\nanswer =\", answer)"
   ]
  },
  {
   "cell_type": "code",
   "execution_count": 165,
   "metadata": {},
   "outputs": [
    {
     "name": "stdout",
     "output_type": "stream",
     "text": [
      "\n",
      "answer = 15\n"
     ]
    }
   ],
   "source": [
    "cost = [10,15,20]\n",
    "answer = min_cost(cost)\n",
    "print(\"\\nanswer =\", answer)"
   ]
  },
  {
   "cell_type": "code",
   "execution_count": 166,
   "metadata": {},
   "outputs": [
    {
     "name": "stdout",
     "output_type": "stream",
     "text": [
      "\n",
      "answer = 6\n"
     ]
    }
   ],
   "source": [
    "cost = [1,100,1,1,1,100,1,1,100,1]\n",
    "answer = min_cost(cost)\n",
    "print(\"\\nanswer =\", answer)"
   ]
  },
  {
   "cell_type": "code",
   "execution_count": 167,
   "metadata": {},
   "outputs": [
    {
     "name": "stdout",
     "output_type": "stream",
     "text": [
      "\n",
      "answer = 3\n"
     ]
    }
   ],
   "source": [
    "cost = [0,1,2,2]\n",
    "answer = min_cost(cost)\n",
    "print(\"\\nanswer =\", answer)"
   ]
  },
  {
   "cell_type": "code",
   "execution_count": 168,
   "metadata": {},
   "outputs": [
    {
     "name": "stdout",
     "output_type": "stream",
     "text": [
      "\n",
      "answer = 3\n"
     ]
    }
   ],
   "source": [
    "cost = [0,1,2,3]\n",
    "answer = min_cost(cost)\n",
    "print(\"\\nanswer =\", answer)"
   ]
  },
  {
   "cell_type": "markdown",
   "metadata": {},
   "source": [
    "### Leetcode"
   ]
  },
  {
   "cell_type": "code",
   "execution_count": 169,
   "metadata": {},
   "outputs": [],
   "source": [
    "class Solution(object):\n",
    "    def minCostClimbingStairs(self, cost):\n",
    "        \"\"\"\n",
    "        :type cost: List[int]\n",
    "        :rtype: int\n",
    "        \"\"\"\n",
    "        return min_cost(cost)\n",
    "    \n",
    "    \n",
    "def min_cost(cost):\n",
    "    \n",
    "    min_cost0, i_start0 = cost[0], 0\n",
    "    min_cost1, i_start1 = cost[1], 1\n",
    "    \n",
    "    for i in range(0, len(cost) - 1):\n",
    "        \n",
    "        if i - i_start0 > 0:\n",
    "            if cost[i] < cost[i + 1]:\n",
    "                min_cost0+= cost[i]\n",
    "                i_start0+= 1\n",
    "            elif cost[i + 1] <= cost[i]:\n",
    "                min_cost0+= cost[i + 1]\n",
    "                i_start0+= 2\n",
    "                \n",
    "        \n",
    "        if i - i_start1 > 0:\n",
    "            if cost[i] < cost[i + 1]:\n",
    "                min_cost1+= cost[i]\n",
    "                i_start1+= 1\n",
    "            elif cost[i + 1] <= cost[i]:\n",
    "                min_cost1+= cost[i + 1]\n",
    "                i_start1+= 2\n",
    "                        \n",
    "                        \n",
    "    return min([min_cost0, min_cost1])"
   ]
  },
  {
   "cell_type": "code",
   "execution_count": null,
   "metadata": {},
   "outputs": [],
   "source": []
  }
 ],
 "metadata": {
  "kernelspec": {
   "display_name": "Python 3",
   "language": "python",
   "name": "python3"
  },
  "language_info": {
   "codemirror_mode": {
    "name": "ipython",
    "version": 3
   },
   "file_extension": ".py",
   "mimetype": "text/x-python",
   "name": "python",
   "nbconvert_exporter": "python",
   "pygments_lexer": "ipython3",
   "version": "3.7.13"
  }
 },
 "nbformat": 4,
 "nbformat_minor": 4
}
