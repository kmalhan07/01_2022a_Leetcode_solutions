{
 "cells": [
  {
   "cell_type": "markdown",
   "metadata": {},
   "source": [
    "### https://leetcode.com/problems/relative-ranks/\n",
    "\n",
    "### 506. Relative Ranks\n",
    "\n",
    "**Constraints:**\n",
    "    \n",
    "$\\bullet$ n == score.length\n",
    "\n",
    "$\\bullet$ 1 <= n <= $10^4$\n",
    "\n",
    "$\\bullet$ 0 <= score[i] <= $10^6$\n",
    "\n",
    "$\\bullet$ All the values in score are unique.\n",
    "  "
   ]
  },
  {
   "cell_type": "code",
   "execution_count": 41,
   "metadata": {},
   "outputs": [],
   "source": [
    "def rr(score):\n",
    "    \n",
    "    n  = len(score)\n",
    "    score_sorted = sorted(score)\n",
    "    \n",
    "    result = []\n",
    "    for s in score:\n",
    "        if s == score_sorted[-1]:\n",
    "            result.append(\"Gold Medal\")\n",
    "        elif s == score_sorted[-2]:\n",
    "            result.append(\"Silver Medal\")\n",
    "        elif s == score_sorted[-3]:\n",
    "            result.append(\"Bronze Medal\")\n",
    "        else:\n",
    "            result.append(str(n - score_sorted.index(s)))\n",
    "    \n",
    "    return result"
   ]
  },
  {
   "cell_type": "code",
   "execution_count": 42,
   "metadata": {},
   "outputs": [
    {
     "name": "stdout",
     "output_type": "stream",
     "text": [
      "\n",
      "answer =  ['Gold Medal', 'Silver Medal', 'Bronze Medal', '4', '5']\n"
     ]
    }
   ],
   "source": [
    "score = [5,4,3,2,1]\n",
    "answer = rr(score)\n",
    "print(\"\\nanswer = \", answer)"
   ]
  },
  {
   "cell_type": "code",
   "execution_count": 43,
   "metadata": {},
   "outputs": [
    {
     "name": "stdout",
     "output_type": "stream",
     "text": [
      "\n",
      "answer =  ['Gold Medal', '5', 'Bronze Medal', 'Silver Medal', '4']\n"
     ]
    }
   ],
   "source": [
    "score = [10,3,8,9,4]\n",
    "answer = rr(score)\n",
    "print(\"\\nanswer = \", answer)"
   ]
  },
  {
   "cell_type": "markdown",
   "metadata": {},
   "source": [
    "### Leetcode"
   ]
  },
  {
   "cell_type": "code",
   "execution_count": 44,
   "metadata": {},
   "outputs": [],
   "source": [
    "class Solution(object):\n",
    "    def findRelativeRanks(self, score):\n",
    "        \"\"\"\n",
    "        :type score: List[int]\n",
    "        :rtype: List[str]\n",
    "        \"\"\"\n",
    "        return rr(score)\n",
    "\n",
    "\n",
    "def rr(score):\n",
    "    \n",
    "    n  = len(score)\n",
    "    score_sorted = sorted(score)\n",
    "    \n",
    "    result = []\n",
    "    for s in score:\n",
    "        if s == score_sorted[-1]:\n",
    "            result.append(\"Gold Medal\")\n",
    "        elif s == score_sorted[-2]:\n",
    "            result.append(\"Silver Medal\")\n",
    "        elif s == score_sorted[-3]:\n",
    "            result.append(\"Bronze Medal\")\n",
    "        else:\n",
    "            result.append(str(n - score_sorted.index(s)))\n",
    "    \n",
    "    return result"
   ]
  },
  {
   "cell_type": "markdown",
   "metadata": {},
   "source": [
    "**Runtime 338 ms, Beats 29.64%**\n",
    "\n",
    "**Memory 14 MB, Beats 98.67%**"
   ]
  },
  {
   "cell_type": "code",
   "execution_count": null,
   "metadata": {},
   "outputs": [],
   "source": []
  }
 ],
 "metadata": {
  "kernelspec": {
   "display_name": "Python 3",
   "language": "python",
   "name": "python3"
  },
  "language_info": {
   "codemirror_mode": {
    "name": "ipython",
    "version": 3
   },
   "file_extension": ".py",
   "mimetype": "text/x-python",
   "name": "python",
   "nbconvert_exporter": "python",
   "pygments_lexer": "ipython3",
   "version": "3.7.13"
  }
 },
 "nbformat": 4,
 "nbformat_minor": 4
}
