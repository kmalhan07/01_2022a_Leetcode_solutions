{
 "cells": [
  {
   "cell_type": "markdown",
   "metadata": {},
   "source": [
    "### 392. Is Subsequence\n",
    "\n",
    "### https://leetcode.com/problems/is-subsequence/\n",
    "\n",
    "**Constraints**:\n",
    "\n",
    "$\\bullet$ 0 <= s.length <= 100\n",
    "\n",
    "$\\bullet$ 0 <= t.length <= $10^4$\n",
    "\n",
    "$\\bullet$ s and t consist only of lowercase English letters."
   ]
  },
  {
   "cell_type": "code",
   "execution_count": 13,
   "metadata": {},
   "outputs": [],
   "source": [
    "def is_subsequence(s, t):\n",
    "    \n",
    "    n_s, n_t = len(s), len(t)\n",
    "    \n",
    "    if n_s == 0:\n",
    "        return True\n",
    "    elif n_s >= n_t:\n",
    "        return False\n",
    "    else:\n",
    "        s_index = 0\n",
    "        for i in range(0, n_t):\n",
    "            if s_index < n_s and s[s_index] == t[i]:\n",
    "                s_index+=1\n",
    "        \n",
    "        if s_index == n_s:\n",
    "            return True\n",
    "        else:\n",
    "            return False"
   ]
  },
  {
   "cell_type": "code",
   "execution_count": 14,
   "metadata": {},
   "outputs": [
    {
     "name": "stdout",
     "output_type": "stream",
     "text": [
      "\n",
      "answer =  True\n"
     ]
    }
   ],
   "source": [
    "s = \"b\"\n",
    "t = \"abc\"\n",
    "answer = is_subsequence(s, t)\n",
    "print(\"\\nanswer = \", answer)"
   ]
  },
  {
   "cell_type": "code",
   "execution_count": 8,
   "metadata": {},
   "outputs": [
    {
     "name": "stdout",
     "output_type": "stream",
     "text": [
      "\n",
      "answer =  True\n"
     ]
    }
   ],
   "source": [
    "s = \"abc\"\n",
    "t = \"ahbgdc\"\n",
    "answer = is_subsequence(s, t)\n",
    "print(\"\\nanswer = \", answer)"
   ]
  },
  {
   "cell_type": "code",
   "execution_count": 9,
   "metadata": {},
   "outputs": [
    {
     "name": "stdout",
     "output_type": "stream",
     "text": [
      "\n",
      "answer =  False\n"
     ]
    }
   ],
   "source": [
    "s = \"axc\"\n",
    "t = \"ahbgdc\"\n",
    "answer = is_subsequence(s, t)\n",
    "print(\"\\nanswer = \", answer)"
   ]
  },
  {
   "cell_type": "markdown",
   "metadata": {},
   "source": [
    "### Leetcode"
   ]
  },
  {
   "cell_type": "code",
   "execution_count": 11,
   "metadata": {},
   "outputs": [],
   "source": [
    "class Solution(object):\n",
    "    def isSubsequence(self, s, t):\n",
    "        \"\"\"\n",
    "        :type s: str\n",
    "        :type t: str\n",
    "        :rtype: bool\n",
    "        \"\"\"\n",
    "        return is_subsequence(s, t)\n",
    "    \n",
    "def is_subsequence(s, t):\n",
    "    \n",
    "    n_s, n_t = len(s), len(t)\n",
    "    \n",
    "    if n_s == 0:\n",
    "        return True\n",
    "    elif n_s >= n_t:\n",
    "        return False\n",
    "    else:\n",
    "        s_index = 0\n",
    "        for i in range(0, n_t):\n",
    "            if s_index < n_s and s[s_index] == t[i]:\n",
    "                s_index+=1\n",
    "        \n",
    "        if s_index == n_s:\n",
    "            return True\n",
    "        else:\n",
    "            return False"
   ]
  },
  {
   "cell_type": "markdown",
   "metadata": {},
   "source": [
    "**Runtime 36 ms, Beats 35.65%**\n",
    "\n",
    "**Memory 13.5 MB, Beats 84.51%**"
   ]
  },
  {
   "cell_type": "code",
   "execution_count": null,
   "metadata": {},
   "outputs": [],
   "source": []
  }
 ],
 "metadata": {
  "kernelspec": {
   "display_name": "Python 3",
   "language": "python",
   "name": "python3"
  },
  "language_info": {
   "codemirror_mode": {
    "name": "ipython",
    "version": 3
   },
   "file_extension": ".py",
   "mimetype": "text/x-python",
   "name": "python",
   "nbconvert_exporter": "python",
   "pygments_lexer": "ipython3",
   "version": "3.7.13"
  }
 },
 "nbformat": 4,
 "nbformat_minor": 4
}
