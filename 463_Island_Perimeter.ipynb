{
 "cells": [
  {
   "cell_type": "markdown",
   "metadata": {},
   "source": [
    "### https://leetcode.com/problems/island-perimeter/\n",
    "\n",
    "### 463. Island Perimeter\n",
    "\n",
    "**Constraints:**\n",
    "    \n",
    "$\\bullet$   row == grid.length\n",
    "    \n",
    "$\\bullet$ col == grid[i].length\n",
    "\n",
    "$\\bullet$ 1 <= row, col <= 100\n",
    "    \n",
    "$\\bullet$ grid[i][j] is 0 or 1.\n",
    "    \n",
    "$\\bullet$ There is exactly one island in grid.\n"
   ]
  },
  {
   "cell_type": "code",
   "execution_count": 79,
   "metadata": {},
   "outputs": [],
   "source": [
    "def island_perimeter(grid):\n",
    "    \n",
    "    # count total numbe of 1's in the 2D array grid\n",
    "    n_total_1s = sum(row.count(1) for row in grid)\n",
    "    print(\"n_total_1s = \", n_total_1s)\n",
    "    \n",
    "    # maximum perimeter\n",
    "    perimeter_max = 4*n_total_1s\n",
    "    print(\"perimeter_max = \", perimeter_max)\n",
    "    \n",
    "    # count number of rows and columns\n",
    "    n_cols, n_rows = len(grid[0]), len([i[0] for i in grid])\n",
    "    print(\"n_rows, n_cols = \", n_rows, n_cols)\n",
    "    \n",
    "    # iterate over rows and cols of grid, and subtract edges\n",
    "    for row in range(0, n_rows):\n",
    "        for col in range(0, n_cols):\n",
    "            \n",
    "            if col > 0 and col < n_cols:\n",
    "                if grid[row][col] == 1 and grid[row][col - 1] == 1:\n",
    "                    perimeter_max-=2\n",
    "            if row > 0 and row < n_rows:\n",
    "                if grid[row][col] == 1 and grid[row - 1][col] == 1:\n",
    "                    perimeter_max-=2\n",
    "                    \n",
    "                \n",
    "    return perimeter_max"
   ]
  },
  {
   "cell_type": "code",
   "execution_count": 80,
   "metadata": {},
   "outputs": [
    {
     "name": "stdout",
     "output_type": "stream",
     "text": [
      "n_total_1s =  1\n",
      "perimeter_max =  4\n",
      "n_rows, n_cols =  1 1\n",
      "\n",
      "answer =  4\n"
     ]
    }
   ],
   "source": [
    "grid = [[1]]\n",
    "answer = island_perimeter(grid)\n",
    "print(\"\\nanswer = \", answer)"
   ]
  },
  {
   "cell_type": "code",
   "execution_count": 81,
   "metadata": {},
   "outputs": [
    {
     "name": "stdout",
     "output_type": "stream",
     "text": [
      "n_total_1s =  1\n",
      "perimeter_max =  4\n",
      "n_rows, n_cols =  1 2\n",
      "\n",
      "answer =  4\n"
     ]
    }
   ],
   "source": [
    "grid = [[0, 1]]\n",
    "answer = island_perimeter(grid)\n",
    "print(\"\\nanswer = \", answer)"
   ]
  },
  {
   "cell_type": "code",
   "execution_count": 82,
   "metadata": {},
   "outputs": [
    {
     "name": "stdout",
     "output_type": "stream",
     "text": [
      "n_total_1s =  2\n",
      "perimeter_max =  8\n",
      "n_rows, n_cols =  1 2\n",
      "\n",
      "answer =  6\n"
     ]
    }
   ],
   "source": [
    "grid = [[1, 1]]\n",
    "answer = island_perimeter(grid)\n",
    "print(\"\\nanswer = \", answer)"
   ]
  },
  {
   "cell_type": "code",
   "execution_count": 83,
   "metadata": {},
   "outputs": [
    {
     "name": "stdout",
     "output_type": "stream",
     "text": [
      "n_total_1s =  3\n",
      "perimeter_max =  12\n",
      "n_rows, n_cols =  1 3\n",
      "\n",
      "answer =  8\n"
     ]
    }
   ],
   "source": [
    "grid = [[1, 1, 1]]\n",
    "answer = island_perimeter(grid)\n",
    "print(\"\\nanswer = \", answer)"
   ]
  },
  {
   "cell_type": "code",
   "execution_count": 84,
   "metadata": {},
   "outputs": [
    {
     "name": "stdout",
     "output_type": "stream",
     "text": [
      "n_total_1s =  2\n",
      "perimeter_max =  8\n",
      "n_rows, n_cols =  1 3\n",
      "\n",
      "answer =  8\n"
     ]
    }
   ],
   "source": [
    "grid = [[1, 0, 1]]\n",
    "answer = island_perimeter(grid)\n",
    "print(\"\\nanswer = \", answer)"
   ]
  },
  {
   "cell_type": "code",
   "execution_count": 85,
   "metadata": {},
   "outputs": [
    {
     "name": "stdout",
     "output_type": "stream",
     "text": [
      "n_total_1s =  2\n",
      "perimeter_max =  8\n",
      "n_rows, n_cols =  1 3\n",
      "\n",
      "answer =  6\n"
     ]
    }
   ],
   "source": [
    "grid = [[1, 1, 0]]\n",
    "answer = island_perimeter(grid)\n",
    "print(\"\\nanswer = \", answer)"
   ]
  },
  {
   "cell_type": "code",
   "execution_count": 86,
   "metadata": {},
   "outputs": [
    {
     "name": "stdout",
     "output_type": "stream",
     "text": [
      "n_total_1s =  1\n",
      "perimeter_max =  4\n",
      "n_rows, n_cols =  2 2\n",
      "\n",
      "answer =  4\n"
     ]
    }
   ],
   "source": [
    "grid = [[0,1],[0,0]]\n",
    "answer = island_perimeter(grid)\n",
    "print(\"\\nanswer = \", answer)"
   ]
  },
  {
   "cell_type": "code",
   "execution_count": 87,
   "metadata": {},
   "outputs": [
    {
     "name": "stdout",
     "output_type": "stream",
     "text": [
      "n_total_1s =  2\n",
      "perimeter_max =  8\n",
      "n_rows, n_cols =  2 2\n",
      "\n",
      "answer =  6\n"
     ]
    }
   ],
   "source": [
    "grid = [[0,1],[0,1]]\n",
    "answer = island_perimeter(grid)\n",
    "print(\"\\nanswer = \", answer)"
   ]
  },
  {
   "cell_type": "code",
   "execution_count": 88,
   "metadata": {},
   "outputs": [
    {
     "name": "stdout",
     "output_type": "stream",
     "text": [
      "n_total_1s =  3\n",
      "perimeter_max =  12\n",
      "n_rows, n_cols =  2 2\n",
      "\n",
      "answer =  8\n"
     ]
    }
   ],
   "source": [
    "grid = [[1,1],[0,1]]\n",
    "answer = island_perimeter(grid)\n",
    "print(\"\\nanswer = \", answer)"
   ]
  },
  {
   "cell_type": "code",
   "execution_count": 89,
   "metadata": {},
   "outputs": [
    {
     "name": "stdout",
     "output_type": "stream",
     "text": [
      "n_total_1s =  7\n",
      "perimeter_max =  28\n",
      "n_rows, n_cols =  4 4\n",
      "\n",
      "answer =  16\n"
     ]
    }
   ],
   "source": [
    "grid = [[0,1,0,0],[1,1,1,0],[0,1,0,0],[1,1,0,0]]\n",
    "answer = island_perimeter(grid)\n",
    "print(\"\\nanswer = \", answer)"
   ]
  },
  {
   "cell_type": "markdown",
   "metadata": {},
   "source": [
    "### Leetcode"
   ]
  },
  {
   "cell_type": "code",
   "execution_count": 91,
   "metadata": {},
   "outputs": [],
   "source": [
    "class Solution(object):\n",
    "    def islandPerimeter(self, grid):\n",
    "        \"\"\"\n",
    "        :type grid: List[List[int]]\n",
    "        :rtype: int\n",
    "        \"\"\"\n",
    "        return island_perimeter(grid)\n",
    "        \n",
    "        \n",
    "def island_perimeter(grid):\n",
    "    \n",
    "    # count total numbe of 1's in the 2D array grid\n",
    "    n_total_1s = sum(row.count(1) for row in grid)\n",
    "    \n",
    "    # maximum perimeter\n",
    "    perimeter_max = 4*n_total_1s\n",
    "    \n",
    "    # count number of rows and columns\n",
    "    n_cols, n_rows = len(grid[0]), len([i[0] for i in grid])\n",
    "    \n",
    "    # iterate over rows and cols of grid, and subtract edges\n",
    "    for row in range(0, n_rows):\n",
    "        for col in range(0, n_cols):\n",
    "            \n",
    "            if col > 0 and col < n_cols:\n",
    "                if grid[row][col] == 1 and grid[row][col - 1] == 1:\n",
    "                    perimeter_max-=2\n",
    "            if row > 0 and row < n_rows:\n",
    "                if grid[row][col] == 1 and grid[row - 1][col] == 1:\n",
    "                    perimeter_max-=2\n",
    "                    \n",
    "                \n",
    "    return perimeter_max"
   ]
  },
  {
   "cell_type": "markdown",
   "metadata": {},
   "source": [
    "**Runtime 547 ms Beats 79.93%**\n",
    "\n",
    "**Memory 13.6 MB, Beats 89.60%**"
   ]
  },
  {
   "cell_type": "code",
   "execution_count": null,
   "metadata": {},
   "outputs": [],
   "source": []
  }
 ],
 "metadata": {
  "kernelspec": {
   "display_name": "Python 3",
   "language": "python",
   "name": "python3"
  },
  "language_info": {
   "codemirror_mode": {
    "name": "ipython",
    "version": 3
   },
   "file_extension": ".py",
   "mimetype": "text/x-python",
   "name": "python",
   "nbconvert_exporter": "python",
   "pygments_lexer": "ipython3",
   "version": "3.7.13"
  }
 },
 "nbformat": 4,
 "nbformat_minor": 4
}
