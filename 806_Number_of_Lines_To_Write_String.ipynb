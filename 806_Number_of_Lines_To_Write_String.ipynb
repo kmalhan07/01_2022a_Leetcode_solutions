{
 "cells": [
  {
   "cell_type": "markdown",
   "metadata": {},
   "source": [
    "### 806. Number of Lines To Write String\n",
    "\n",
    "### https://leetcode.com/problems/number-of-lines-to-write-string/"
   ]
  },
  {
   "cell_type": "code",
   "execution_count": 35,
   "metadata": {},
   "outputs": [],
   "source": [
    "def nol(widths, s):\n",
    "    \n",
    "    result = [1, 0]\n",
    "    count = 0\n",
    "    i = 0\n",
    "    while i < len(s):\n",
    "        w = widths[ord(s[i]) - 97]\n",
    "        if count + w <= 100:\n",
    "            count+=w\n",
    "            result[1]+=w\n",
    "            i+=1\n",
    "        elif count + w > 100:\n",
    "            result[0]+=1\n",
    "            count = 0\n",
    "            result[1] = 0\n",
    "\n",
    "    return result"
   ]
  },
  {
   "cell_type": "code",
   "execution_count": 36,
   "metadata": {},
   "outputs": [
    {
     "name": "stdout",
     "output_type": "stream",
     "text": [
      "\n",
      "answer = [2, 4]\n"
     ]
    }
   ],
   "source": [
    "widths = [4,10,10,10,10,10,10,10,10,10,10,10,10,10,10,10,10,10,10,10,10,10,10,10,10,10]\n",
    "s = \"bbbcccdddaaa\"\n",
    "answer = nol(widths, s)\n",
    "print(\"\\nanswer =\", answer)"
   ]
  },
  {
   "cell_type": "code",
   "execution_count": 37,
   "metadata": {},
   "outputs": [
    {
     "name": "stdout",
     "output_type": "stream",
     "text": [
      "\n",
      "answer = [3, 60]\n"
     ]
    }
   ],
   "source": [
    "widths = [10,10,10,10,10,10,10,10,10,10,10,10,10,10,10,10,10,10,10,10,10,10,10,10,10,10]\n",
    "s = \"abcdefghijklmnopqrstuvwxyz\"\n",
    "answer = nol(widths, s)\n",
    "print(\"\\nanswer =\", answer)"
   ]
  },
  {
   "cell_type": "markdown",
   "metadata": {},
   "source": [
    "### Leetcode"
   ]
  },
  {
   "cell_type": "code",
   "execution_count": 38,
   "metadata": {},
   "outputs": [],
   "source": [
    "class Solution(object):\n",
    "    def numberOfLines(self, widths, s):\n",
    "        \"\"\"\n",
    "        :type widths: List[int]\n",
    "        :type s: str\n",
    "        :rtype: List[int]\n",
    "        \"\"\"\n",
    "        return nol(widths, s)\n",
    "    \n",
    "def nol(widths, s):\n",
    "    \n",
    "    result = [1, 0]\n",
    "    count = 0\n",
    "    i = 0\n",
    "    while i < len(s):\n",
    "        w = widths[ord(s[i]) - 97]\n",
    "        if count + w <= 100:\n",
    "            count+=w\n",
    "            result[1]+=w\n",
    "            i+=1\n",
    "        elif count + w > 100:\n",
    "            result[0]+=1\n",
    "            count = 0\n",
    "            result[1] = 0\n",
    "\n",
    "    return result"
   ]
  },
  {
   "cell_type": "markdown",
   "metadata": {},
   "source": [
    "**Runtime 18 ms, Beats 96.34%**\n",
    "\n",
    "**Memory 13.5 MB, Beats 34.15%**"
   ]
  },
  {
   "cell_type": "code",
   "execution_count": null,
   "metadata": {},
   "outputs": [],
   "source": []
  }
 ],
 "metadata": {
  "kernelspec": {
   "display_name": "Python 3",
   "language": "python",
   "name": "python3"
  },
  "language_info": {
   "codemirror_mode": {
    "name": "ipython",
    "version": 3
   },
   "file_extension": ".py",
   "mimetype": "text/x-python",
   "name": "python",
   "nbconvert_exporter": "python",
   "pygments_lexer": "ipython3",
   "version": "3.7.13"
  }
 },
 "nbformat": 4,
 "nbformat_minor": 4
}
