{
 "cells": [
  {
   "cell_type": "markdown",
   "metadata": {},
   "source": [
    "### 747. Largest Number At Least Twice of Others\n",
    "\n",
    "### https://leetcode.com/problems/largest-number-at-least-twice-of-others/"
   ]
  },
  {
   "cell_type": "code",
   "execution_count": 11,
   "metadata": {},
   "outputs": [],
   "source": [
    "def find_index_of_num(nums):\n",
    "    \n",
    "    nums_s = sorted(nums)\n",
    "    \n",
    "    if nums_s[-1] >= 2*nums_s[-2]:\n",
    "        return nums.index(nums_s[-1])\n",
    "    else:\n",
    "        return -1"
   ]
  },
  {
   "cell_type": "code",
   "execution_count": 44,
   "metadata": {},
   "outputs": [],
   "source": [
    "# def find_index_of_num(nums):\n",
    "    \n",
    "#     nums_max = max(nums)\n",
    "# #     \n",
    "#     if len([i for i in nums if nums_max >= 2*i]) == len(nums) - 1:\n",
    "#         return nums.index(nums_max)\n",
    "#     else:\n",
    "#         return -1"
   ]
  },
  {
   "cell_type": "code",
   "execution_count": 45,
   "metadata": {},
   "outputs": [
    {
     "name": "stdout",
     "output_type": "stream",
     "text": [
      "\n",
      "answer = 1\n"
     ]
    }
   ],
   "source": [
    "nums = [3,6,1,0]\n",
    "answer = find_index_of_num(nums)\n",
    "print(\"\\nanswer =\", answer)"
   ]
  },
  {
   "cell_type": "code",
   "execution_count": 46,
   "metadata": {},
   "outputs": [
    {
     "name": "stdout",
     "output_type": "stream",
     "text": [
      "\n",
      "answer = -1\n"
     ]
    }
   ],
   "source": [
    "nums = [1,2,3,4]\n",
    "answer = find_index_of_num(nums)\n",
    "print(\"\\nanswer =\", answer)"
   ]
  },
  {
   "cell_type": "markdown",
   "metadata": {},
   "source": [
    "### Leetcode"
   ]
  },
  {
   "cell_type": "code",
   "execution_count": 14,
   "metadata": {},
   "outputs": [],
   "source": [
    "class Solution(object):\n",
    "    def dominantIndex(self, nums):\n",
    "        \"\"\"\n",
    "        :type nums: List[int]\n",
    "        :rtype: int\n",
    "        \"\"\"\n",
    "        return find_index_of_num(nums)\n",
    "    \n",
    "    \n",
    "def find_index_of_num(nums):\n",
    "    \n",
    "    nums_s = sorted(nums)\n",
    "    \n",
    "    if nums_s[-1] >= 2*nums_s[-2]:\n",
    "        return nums.index(nums_s[-1])\n",
    "    else:\n",
    "        return -1"
   ]
  },
  {
   "cell_type": "markdown",
   "metadata": {},
   "source": [
    "**Runtime 18 ms, Beats 96.51%**\n",
    "\n",
    "**Memory 13.8 MB, Beats 15.12%**"
   ]
  },
  {
   "cell_type": "code",
   "execution_count": null,
   "metadata": {},
   "outputs": [],
   "source": []
  },
  {
   "cell_type": "code",
   "execution_count": null,
   "metadata": {},
   "outputs": [],
   "source": []
  }
 ],
 "metadata": {
  "kernelspec": {
   "display_name": "Python 3",
   "language": "python",
   "name": "python3"
  },
  "language_info": {
   "codemirror_mode": {
    "name": "ipython",
    "version": 3
   },
   "file_extension": ".py",
   "mimetype": "text/x-python",
   "name": "python",
   "nbconvert_exporter": "python",
   "pygments_lexer": "ipython3",
   "version": "3.7.13"
  }
 },
 "nbformat": 4,
 "nbformat_minor": 4
}
