{
 "cells": [
  {
   "cell_type": "markdown",
   "metadata": {},
   "source": [
    "### https://leetcode.com/problems/valid-palindrome/\n",
    "\n",
    "### 125. Valid Palindrome\n",
    "\n",
    "***Constraints***:\n",
    "\n",
    "$\\bullet$ 1 <= s.length <= 2 * 10^5\n",
    "\n",
    "$\\bullet$ s consists only of printable ASCII characters."
   ]
  },
  {
   "cell_type": "code",
   "execution_count": 38,
   "metadata": {},
   "outputs": [],
   "source": [
    "def vp(s):\n",
    "    \n",
    "    # convert to lowercase\n",
    "    s = s.lower()\n",
    "    \n",
    "    #remove non-alphanumeric characters\n",
    "    s = ''.join(ch for ch in s if ch.isalnum())\n",
    "    \n",
    "    if s == \"\": #emty string\n",
    "        return True\n",
    "    else:\n",
    "        # length of string\n",
    "        n = len(s)\n",
    "    \n",
    "        if n%2 == 1 and s[:n//2] == s[n//2 + 1:][::-1]:\n",
    "            return True\n",
    "        elif n%2 == 0 and s[:n//2] == s[n//2:][::-1]:\n",
    "            return True\n",
    "        else:\n",
    "            return False"
   ]
  },
  {
   "cell_type": "code",
   "execution_count": 39,
   "metadata": {},
   "outputs": [
    {
     "name": "stdout",
     "output_type": "stream",
     "text": [
      "\n",
      "answer =  True\n"
     ]
    }
   ],
   "source": [
    "s = \"A man, a plan, a canal: Panama\"\n",
    "answer = vp(s)\n",
    "print(\"\\nanswer = \", answer)"
   ]
  },
  {
   "cell_type": "code",
   "execution_count": 40,
   "metadata": {},
   "outputs": [
    {
     "name": "stdout",
     "output_type": "stream",
     "text": [
      "\n",
      "answer =  True\n"
     ]
    }
   ],
   "source": [
    "s = \"race e car\"\n",
    "answer = vp(s)\n",
    "print(\"\\nanswer = \", answer)"
   ]
  },
  {
   "cell_type": "code",
   "execution_count": 41,
   "metadata": {},
   "outputs": [
    {
     "name": "stdout",
     "output_type": "stream",
     "text": [
      "\n",
      "answer =  False\n"
     ]
    }
   ],
   "source": [
    "s = \"race a car\"\n",
    "answer = vp(s)\n",
    "print(\"\\nanswer = \", answer)"
   ]
  },
  {
   "cell_type": "code",
   "execution_count": 42,
   "metadata": {},
   "outputs": [
    {
     "name": "stdout",
     "output_type": "stream",
     "text": [
      "\n",
      "answer =  True\n"
     ]
    }
   ],
   "source": [
    "s = \" \"\n",
    "answer = vp(s)\n",
    "print(\"\\nanswer = \", answer)"
   ]
  },
  {
   "cell_type": "markdown",
   "metadata": {},
   "source": [
    "### Leetcode solution"
   ]
  },
  {
   "cell_type": "code",
   "execution_count": 37,
   "metadata": {},
   "outputs": [],
   "source": [
    "class Solution(object):\n",
    "    def isPalindrome(self, s):\n",
    "        \"\"\"\n",
    "        :type s: str\n",
    "        :rtype: bool\n",
    "        \"\"\"\n",
    "        return vp(s)\n",
    "        \n",
    "def vp(s):\n",
    "    \n",
    "    # convert to lowercase\n",
    "    s = s.lower()\n",
    "    \n",
    "    #remove non-alphanumeric characters\n",
    "    s = ''.join(ch for ch in s if ch.isalnum())\n",
    "    \n",
    "    if s == \"\": #emty string\n",
    "        return True\n",
    "    else:\n",
    "        # length of string\n",
    "        n = len(s)\n",
    "    \n",
    "        if n%2 == 1 and s[:n//2] == s[n//2 + 1:][::-1]:\n",
    "            return True\n",
    "        elif n%2 == 0 and s[:n//2] == s[n//2:][::-1]:\n",
    "            return True\n",
    "        else:\n",
    "            return False"
   ]
  },
  {
   "cell_type": "markdown",
   "metadata": {},
   "source": [
    "Runtime: 57 ms, faster than 67.28% of Python online submissions for Valid Palindrome.\n",
    "    \n",
    "Memory Usage: 15.2 MB, less than 34.09% of Python online submissions for Valid Palindrome."
   ]
  },
  {
   "cell_type": "code",
   "execution_count": null,
   "metadata": {},
   "outputs": [],
   "source": []
  }
 ],
 "metadata": {
  "kernelspec": {
   "display_name": "Python 3",
   "language": "python",
   "name": "python3"
  },
  "language_info": {
   "codemirror_mode": {
    "name": "ipython",
    "version": 3
   },
   "file_extension": ".py",
   "mimetype": "text/x-python",
   "name": "python",
   "nbconvert_exporter": "python",
   "pygments_lexer": "ipython3",
   "version": "3.7.13"
  }
 },
 "nbformat": 4,
 "nbformat_minor": 4
}
