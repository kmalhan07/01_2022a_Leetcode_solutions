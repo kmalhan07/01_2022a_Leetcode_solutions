{
 "cells": [
  {
   "cell_type": "markdown",
   "metadata": {},
   "source": [
    "### 728. Self Dividing Numbers\n",
    "\n",
    "### https://leetcode.com/problems/self-dividing-numbers/"
   ]
  },
  {
   "cell_type": "code",
   "execution_count": 13,
   "metadata": {},
   "outputs": [],
   "source": [
    "def sdn(left, right):\n",
    "    \n",
    "    result = []\n",
    "    for x in range(left, right + 1):\n",
    "        \n",
    "        x_digits = list(str(x))\n",
    "        if '0' not in x_digits:\n",
    "            if all(map(lambda y: x%int(y) == 0, x_digits)):\n",
    "                result.append(x)\n",
    "        \n",
    "    return result    "
   ]
  },
  {
   "cell_type": "code",
   "execution_count": 14,
   "metadata": {},
   "outputs": [
    {
     "name": "stdout",
     "output_type": "stream",
     "text": [
      "\n",
      "answer = [1, 2, 3, 4, 5, 6, 7, 8, 9, 11, 12, 15, 22]\n"
     ]
    }
   ],
   "source": [
    "left = 1\n",
    "right = 22\n",
    "answer = sdn(left, right)\n",
    "print(\"\\nanswer =\", answer)"
   ]
  },
  {
   "cell_type": "code",
   "execution_count": 15,
   "metadata": {},
   "outputs": [
    {
     "name": "stdout",
     "output_type": "stream",
     "text": [
      "\n",
      "answer = [48, 55, 66, 77]\n"
     ]
    }
   ],
   "source": [
    "left = 47\n",
    "right = 85\n",
    "answer = sdn(left, right)\n",
    "print(\"\\nanswer =\", answer)"
   ]
  },
  {
   "cell_type": "markdown",
   "metadata": {},
   "source": [
    "### Leetcode"
   ]
  },
  {
   "cell_type": "code",
   "execution_count": 16,
   "metadata": {},
   "outputs": [],
   "source": [
    "class Solution(object):\n",
    "    def selfDividingNumbers(self, left, right):\n",
    "        \"\"\"\n",
    "        :type left: int\n",
    "        :type right: int\n",
    "        :rtype: List[int]\n",
    "        \"\"\"\n",
    "        return sdn(left, right)\n",
    "    \n",
    "def sdn(left, right):\n",
    "    \n",
    "    result = []\n",
    "    for x in range(left, right + 1):\n",
    "        \n",
    "        x_digits = list(str(x))\n",
    "        if '0' not in x_digits:\n",
    "            if all(map(lambda y: x%int(y) == 0, x_digits)):\n",
    "                result.append(x)\n",
    "        \n",
    "    return result    "
   ]
  },
  {
   "cell_type": "markdown",
   "metadata": {},
   "source": [
    "**Runtime 125 ms, Beats 32.14%**\n",
    "\n",
    "**Memory 13.7 MB, Beats 36.11%**"
   ]
  },
  {
   "cell_type": "code",
   "execution_count": null,
   "metadata": {},
   "outputs": [],
   "source": []
  }
 ],
 "metadata": {
  "kernelspec": {
   "display_name": "Python 3",
   "language": "python",
   "name": "python3"
  },
  "language_info": {
   "codemirror_mode": {
    "name": "ipython",
    "version": 3
   },
   "file_extension": ".py",
   "mimetype": "text/x-python",
   "name": "python",
   "nbconvert_exporter": "python",
   "pygments_lexer": "ipython3",
   "version": "3.7.13"
  }
 },
 "nbformat": 4,
 "nbformat_minor": 4
}
