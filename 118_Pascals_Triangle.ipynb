{
 "cells": [
  {
   "cell_type": "markdown",
   "metadata": {},
   "source": [
    "# Pascal's Triangle\n",
    "### https://leetcode.com/problems/pascals-triangle/\n",
    "\n",
    "**Constraints:**\n",
    "\n",
    "$\\bullet$  1 <= numRows <= 30"
   ]
  },
  {
   "cell_type": "code",
   "execution_count": 54,
   "metadata": {},
   "outputs": [],
   "source": [
    "def pt(numRows):\n",
    "    \n",
    "    pt_list = [[1]]\n",
    "    \n",
    "    if numRows == 1:\n",
    "        return pt_list\n",
    "   \n",
    "    for i in range(1, numRows):\n",
    "        list_tmp = [None]*(i + 1)\n",
    "        list_tmp[0], list_tmp[i] = 1, 1\n",
    "        if (i>=2):\n",
    "            for j in range(1, i):\n",
    "                list_tmp[j] = pt_list[i - 1][j - 1] + pt_list[i - 1][j]\n",
    "                \n",
    "        pt_list.append(list_tmp)\n",
    "        \n",
    "    return pt_list"
   ]
  },
  {
   "cell_type": "code",
   "execution_count": 55,
   "metadata": {},
   "outputs": [
    {
     "name": "stdout",
     "output_type": "stream",
     "text": [
      "\n",
      "answer =  [[1]]\n"
     ]
    }
   ],
   "source": [
    "numRows = 1\n",
    "answer = pt(numRows)\n",
    "print(\"\\nanswer = \",answer)"
   ]
  },
  {
   "cell_type": "code",
   "execution_count": 56,
   "metadata": {},
   "outputs": [
    {
     "name": "stdout",
     "output_type": "stream",
     "text": [
      "\n",
      "answer =  [[1], [1, 1]]\n"
     ]
    }
   ],
   "source": [
    "numRows = 2\n",
    "answer = pt(numRows)\n",
    "print(\"\\nanswer = \",answer)"
   ]
  },
  {
   "cell_type": "code",
   "execution_count": 57,
   "metadata": {},
   "outputs": [
    {
     "name": "stdout",
     "output_type": "stream",
     "text": [
      "\n",
      "answer =  [[1], [1, 1], [1, 2, 1]]\n"
     ]
    }
   ],
   "source": [
    "numRows = 3\n",
    "answer = pt(numRows)\n",
    "print(\"\\nanswer = \",answer)"
   ]
  },
  {
   "cell_type": "code",
   "execution_count": 58,
   "metadata": {},
   "outputs": [
    {
     "name": "stdout",
     "output_type": "stream",
     "text": [
      "\n",
      "answer =  [[1], [1, 1], [1, 2, 1], [1, 3, 3, 1]]\n"
     ]
    }
   ],
   "source": [
    "numRows = 4\n",
    "answer = pt(numRows)\n",
    "print(\"\\nanswer = \",answer)"
   ]
  },
  {
   "cell_type": "code",
   "execution_count": 59,
   "metadata": {},
   "outputs": [
    {
     "name": "stdout",
     "output_type": "stream",
     "text": [
      "\n",
      "answer =  [[1], [1, 1], [1, 2, 1], [1, 3, 3, 1], [1, 4, 6, 4, 1]]\n"
     ]
    }
   ],
   "source": [
    "numRows = 5\n",
    "answer = pt(numRows)\n",
    "print(\"\\nanswer = \",answer)"
   ]
  },
  {
   "cell_type": "markdown",
   "metadata": {},
   "source": [
    "### Leetcode"
   ]
  },
  {
   "cell_type": "code",
   "execution_count": null,
   "metadata": {},
   "outputs": [],
   "source": [
    "class Solution(object):\n",
    "    def generate(self, numRows):\n",
    "        \"\"\"\n",
    "        :type numRows: int\n",
    "        :rtype: List[List[int]]\n",
    "        \"\"\"\n",
    "        return pt(numRows)\n",
    "    \n",
    "    \n",
    "\n",
    "def pt(numRows):\n",
    "    \n",
    "    pt_list = [[1]]\n",
    "    \n",
    "    if numRows == 1:\n",
    "        return pt_list\n",
    "   \n",
    "    for i in range(1, numRows):\n",
    "        list_tmp = [None]*(i + 1)\n",
    "        list_tmp[0], list_tmp[i] = 1, 1\n",
    "        if (i>=2):\n",
    "            for j in range(1, i):\n",
    "                list_tmp[j] = pt_list[i - 1][j - 1] + pt_list[i - 1][j]\n",
    "                \n",
    "        pt_list.append(list_tmp)\n",
    "        \n",
    "    return pt_list"
   ]
  },
  {
   "cell_type": "markdown",
   "metadata": {},
   "source": [
    "**Runtime: 19 ms, faster than 84.58% of Python online submissions for Pascal's Triangle.**\n",
    "\n",
    "**Memory Usage: 13.5 MB, less than 12.86% of Python online submissions for Pascal's Triangle.**"
   ]
  },
  {
   "cell_type": "code",
   "execution_count": null,
   "metadata": {},
   "outputs": [],
   "source": []
  }
 ],
 "metadata": {
  "kernelspec": {
   "display_name": "Python 3",
   "language": "python",
   "name": "python3"
  },
  "language_info": {
   "codemirror_mode": {
    "name": "ipython",
    "version": 3
   },
   "file_extension": ".py",
   "mimetype": "text/x-python",
   "name": "python",
   "nbconvert_exporter": "python",
   "pygments_lexer": "ipython3",
   "version": "3.7.13"
  }
 },
 "nbformat": 4,
 "nbformat_minor": 4
}
