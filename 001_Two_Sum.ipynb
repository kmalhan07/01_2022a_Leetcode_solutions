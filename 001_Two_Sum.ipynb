{
 "cells": [
  {
   "cell_type": "markdown",
   "metadata": {},
   "source": [
    "### https://leetcode.com/problems/two-sum/\n",
    "\n",
    "# 1. Two Sum\n",
    "\n",
    "\n",
    "***Constraints:***\n",
    "\n",
    "$\\bullet$ 2 <= nums.length <= 10^4\n",
    "\n",
    "$\\bullet$ -10^9 <= nums[i] <= 10^9\n",
    "\n",
    "$\\bullet$ -10^9 <= target <= 10^9\n",
    "\n",
    "$\\bullet$ Only one valid answer exists.\n"
   ]
  },
  {
   "cell_type": "code",
   "execution_count": 17,
   "metadata": {},
   "outputs": [],
   "source": [
    "def TwoSums(nums, target):\n",
    "    \n",
    "    n = len(nums)\n",
    "    \n",
    "    for i in range(0, n - 1):\n",
    "        for j in range(i + 1, n):\n",
    "            if (nums[i] + nums[j] == target):\n",
    "                return [i, j]\n",
    "            \n",
    "    return None"
   ]
  },
  {
   "cell_type": "code",
   "execution_count": 18,
   "metadata": {},
   "outputs": [
    {
     "name": "stdout",
     "output_type": "stream",
     "text": [
      "answer = [0, 1]\n"
     ]
    }
   ],
   "source": [
    "nums = [2,7,11,15]\n",
    "target = 9\n",
    "answer = TwoSums(nums, target)\n",
    "print(\"answer =\", answer)"
   ]
  },
  {
   "cell_type": "code",
   "execution_count": 19,
   "metadata": {},
   "outputs": [
    {
     "name": "stdout",
     "output_type": "stream",
     "text": [
      "answer = [451, 9999]\n"
     ]
    }
   ],
   "source": [
    "import numpy as np\n",
    "nums = np.arange(-1.e4, 1.e4, 2)\n",
    "target = 900\n",
    "answer = TwoSums(nums, target)\n",
    "print(\"answer =\", answer)"
   ]
  },
  {
   "cell_type": "code",
   "execution_count": 22,
   "metadata": {},
   "outputs": [
    {
     "name": "stdout",
     "output_type": "stream",
     "text": [
      "answer = None\n",
      "CPU times: user 19.7 s, sys: 2.25 ms, total: 19.7 s\n",
      "Wall time: 19.7 s\n"
     ]
    }
   ],
   "source": [
    "%%time\n",
    "\n",
    "nums = np.arange(1, 1.e4, 1)\n",
    "target = 19999\n",
    "answer = TwoSums(nums, target)\n",
    "print(\"answer =\", answer)"
   ]
  },
  {
   "cell_type": "markdown",
   "metadata": {},
   "source": [
    "### Leetcode solution"
   ]
  },
  {
   "cell_type": "code",
   "execution_count": null,
   "metadata": {},
   "outputs": [],
   "source": [
    "class Solution(object):\n",
    "    def twoSum(self, nums, target):\n",
    "        \"\"\"\n",
    "        :type nums: List[int]\n",
    "        :type target: int\n",
    "        :rtype: List[int]\n",
    "        \"\"\"\n",
    "        return TwoSums(nums, target)\n",
    "    \n",
    "    \n",
    "def TwoSums(nums, target):\n",
    "    \n",
    "    n = len(nums)\n",
    "    \n",
    "    for i in range(0, n - 1):\n",
    "        for j in range(i + 1, n):\n",
    "            if (nums[i] + nums[j] == target):\n",
    "                return [i, j]\n",
    "            \n",
    "    return None"
   ]
  },
  {
   "cell_type": "markdown",
   "metadata": {},
   "source": [
    "**Runtime: 5843 ms, faster than 10.98% of Python online submissions for Two Sum.**\n",
    "    \n",
    "**Memory Usage: 14.3 MB, less than 44.46% of Python online submissions for Two Sum.**"
   ]
  },
  {
   "cell_type": "code",
   "execution_count": null,
   "metadata": {},
   "outputs": [],
   "source": []
  }
 ],
 "metadata": {
  "kernelspec": {
   "display_name": "Python 3",
   "language": "python",
   "name": "python3"
  },
  "language_info": {
   "codemirror_mode": {
    "name": "ipython",
    "version": 3
   },
   "file_extension": ".py",
   "mimetype": "text/x-python",
   "name": "python",
   "nbconvert_exporter": "python",
   "pygments_lexer": "ipython3",
   "version": "3.7.13"
  }
 },
 "nbformat": 4,
 "nbformat_minor": 4
}
