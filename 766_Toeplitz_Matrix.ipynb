{
 "cells": [
  {
   "cell_type": "markdown",
   "metadata": {},
   "source": [
    "### 766. Toeplitz Matrix\n",
    "\n",
    "### https://leetcode.com/problems/toeplitz-matrix/"
   ]
  },
  {
   "cell_type": "code",
   "execution_count": 107,
   "metadata": {},
   "outputs": [],
   "source": [
    "def check_toeplitz(matrix):\n",
    "    \n",
    "    n_rows = len(matrix)   \n",
    "    n_cols = len(matrix[0])\n",
    "    \n",
    "    if n_rows == 1 or n_cols == 1:\n",
    "        return True\n",
    "    \n",
    "    for row in range(n_rows - 1, -1, -1):\n",
    "        \n",
    "        col_i = 0\n",
    "        for row_i in range(row, n_rows):\n",
    "            if col_i < n_cols:\n",
    "                if matrix[row_i][col_i] != matrix[row][0]:\n",
    "                    return False\n",
    "                col_i+=1\n",
    "\n",
    "            \n",
    "    \n",
    "    for col in range(1, n_cols):\n",
    "        row_i = 0\n",
    "        for col_i in range(col, n_cols):\n",
    "            if row_i < n_rows:\n",
    "                if matrix[row_i][col_i] != matrix[0][col]:\n",
    "                    return False\n",
    "                row_i+=1\n",
    "\n",
    "            \n",
    "            \n",
    "    return True"
   ]
  },
  {
   "cell_type": "code",
   "execution_count": 108,
   "metadata": {},
   "outputs": [
    {
     "name": "stdout",
     "output_type": "stream",
     "text": [
      "\n",
      "answer = True\n"
     ]
    }
   ],
   "source": [
    "matrix = [[1,2,3,4],[5,1,2,3],[9,5,1,2]]\n",
    "answer = check_toeplitz(matrix)\n",
    "print(\"\\nanswer =\", answer)"
   ]
  },
  {
   "cell_type": "code",
   "execution_count": 109,
   "metadata": {},
   "outputs": [
    {
     "name": "stdout",
     "output_type": "stream",
     "text": [
      "\n",
      "answer = False\n"
     ]
    }
   ],
   "source": [
    "matrix = [[1,2],[2,2]]\n",
    "answer = check_toeplitz(matrix)\n",
    "print(\"\\nanswer =\", answer)"
   ]
  },
  {
   "cell_type": "code",
   "execution_count": 110,
   "metadata": {},
   "outputs": [
    {
     "name": "stdout",
     "output_type": "stream",
     "text": [
      "\n",
      "answer = True\n"
     ]
    }
   ],
   "source": [
    "matrix = [[18],[66]]\n",
    "answer = check_toeplitz(matrix)\n",
    "print(\"\\nanswer =\", answer)"
   ]
  },
  {
   "cell_type": "code",
   "execution_count": 111,
   "metadata": {},
   "outputs": [
    {
     "name": "stdout",
     "output_type": "stream",
     "text": [
      "\n",
      "answer = True\n"
     ]
    }
   ],
   "source": [
    "matrix = [[11,74,7,93],\n",
    "          [40,11,74,7]]\n",
    "answer = check_toeplitz(matrix)\n",
    "print(\"\\nanswer =\", answer)"
   ]
  },
  {
   "cell_type": "markdown",
   "metadata": {},
   "source": [
    "### Leetcode"
   ]
  },
  {
   "cell_type": "code",
   "execution_count": 112,
   "metadata": {},
   "outputs": [],
   "source": [
    "class Solution(object):\n",
    "    def isToeplitzMatrix(self, matrix):\n",
    "        \"\"\"\n",
    "        :type matrix: List[List[int]]\n",
    "        :rtype: bool\n",
    "        \"\"\"\n",
    "        return check_toeplitz(matrix)\n",
    "    \n",
    "    \n",
    "def check_toeplitz(matrix):\n",
    "    \n",
    "    n_rows = len(matrix)   \n",
    "    n_cols = len(matrix[0])\n",
    "    \n",
    "    if n_rows == 1 or n_cols == 1:\n",
    "        return True\n",
    "    \n",
    "    for row in range(n_rows - 1, -1, -1):\n",
    "        \n",
    "        col_i = 0\n",
    "        for row_i in range(row, n_rows):\n",
    "            if col_i < n_cols:\n",
    "                if matrix[row_i][col_i] != matrix[row][0]:\n",
    "                    return False\n",
    "                col_i+=1\n",
    "\n",
    "            \n",
    "    \n",
    "    for col in range(1, n_cols):\n",
    "        row_i = 0\n",
    "        for col_i in range(col, n_cols):\n",
    "            if row_i < n_rows:\n",
    "                if matrix[row_i][col_i] != matrix[0][col]:\n",
    "                    return False\n",
    "                row_i+=1\n",
    "\n",
    "            \n",
    "            \n",
    "    return True"
   ]
  },
  {
   "cell_type": "markdown",
   "metadata": {},
   "source": [
    "**Runtime 69 ms, Beats 86.51%**\n",
    "\n",
    "**Memory 13.7 MB, Beats 9.9%**"
   ]
  },
  {
   "cell_type": "code",
   "execution_count": null,
   "metadata": {},
   "outputs": [],
   "source": []
  }
 ],
 "metadata": {
  "kernelspec": {
   "display_name": "Python 3",
   "language": "python",
   "name": "python3"
  },
  "language_info": {
   "codemirror_mode": {
    "name": "ipython",
    "version": 3
   },
   "file_extension": ".py",
   "mimetype": "text/x-python",
   "name": "python",
   "nbconvert_exporter": "python",
   "pygments_lexer": "ipython3",
   "version": "3.7.13"
  }
 },
 "nbformat": 4,
 "nbformat_minor": 4
}
