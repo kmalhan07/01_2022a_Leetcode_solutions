{
 "cells": [
  {
   "cell_type": "markdown",
   "metadata": {},
   "source": [
    "### 202. Happy Number\n",
    "\n",
    "### https://leetcode.com/problems/happy-number/\n",
    "\n",
    "**Constraints:**\n",
    "\n",
    "$\\bullet$ 1 <= n <= 2^31 - 1\n"
   ]
  },
  {
   "cell_type": "code",
   "execution_count": 28,
   "metadata": {},
   "outputs": [],
   "source": [
    "def happy_number(n):\n",
    "\n",
    "    if n == 1:\n",
    "        return True\n",
    "    elif (n >= 2 and n<=6) or (n >= 8 and  n<= 9):\n",
    "        return False\n",
    "    else:\n",
    "        n_str = str(n)\n",
    "        sum_tmp = 0\n",
    "        for digit in n_str:\n",
    "            sum_tmp+=int(digit)**2\n",
    "        return happy_number(sum_tmp)"
   ]
  },
  {
   "cell_type": "code",
   "execution_count": 24,
   "metadata": {},
   "outputs": [
    {
     "name": "stdout",
     "output_type": "stream",
     "text": [
      "\n",
      "\n",
      "answer =  True\n"
     ]
    }
   ],
   "source": [
    "n = 19\n",
    "answer = happy_number(n)\n",
    "print(\"\\n\\nanswer = \", answer)"
   ]
  },
  {
   "cell_type": "code",
   "execution_count": 25,
   "metadata": {},
   "outputs": [
    {
     "name": "stdout",
     "output_type": "stream",
     "text": [
      "\n",
      "\n",
      "answer =  False\n"
     ]
    }
   ],
   "source": [
    "n = 2\n",
    "answer = happy_number(n)\n",
    "print(\"\\n\\nanswer = \", answer)"
   ]
  },
  {
   "cell_type": "code",
   "execution_count": 26,
   "metadata": {},
   "outputs": [
    {
     "name": "stdout",
     "output_type": "stream",
     "text": [
      "\n",
      "\n",
      "answer =  True\n"
     ]
    }
   ],
   "source": [
    "n = 7\n",
    "answer = happy_number(n)\n",
    "print(\"\\n\\nanswer = \", answer)"
   ]
  },
  {
   "cell_type": "markdown",
   "metadata": {},
   "source": [
    "### Leetcode solution"
   ]
  },
  {
   "cell_type": "code",
   "execution_count": 18,
   "metadata": {},
   "outputs": [],
   "source": [
    "class Solution(object):\n",
    "    def isHappy(self, n):\n",
    "        \"\"\"\n",
    "        :type n: int\n",
    "        :rtype: bool\n",
    "        \"\"\"\n",
    "        return happy_number(n)\n",
    "    \n",
    "        \n",
    "def happy_number(n):\n",
    "\n",
    "    if n == 1:\n",
    "        return True\n",
    "    elif (n >= 2 and n<=6) or (n >= 8 and  n<= 9):\n",
    "        return False\n",
    "    else:\n",
    "        n_str = str(n)\n",
    "        sum_tmp = 0\n",
    "        for digit in n_str:\n",
    "            sum_tmp+=int(digit)**2\n",
    "        return happy_number(sum_tmp)"
   ]
  },
  {
   "cell_type": "markdown",
   "metadata": {},
   "source": [
    "**Runtime: 33 ms, faster than 59.52% of Python online submissions for Happy Number.**\n",
    "\n",
    "**Memory Usage: 13.3 MB, less than 61.84% of Python online submissions for Happy Number.**"
   ]
  },
  {
   "cell_type": "code",
   "execution_count": null,
   "metadata": {},
   "outputs": [],
   "source": []
  }
 ],
 "metadata": {
  "kernelspec": {
   "display_name": "Python 3",
   "language": "python",
   "name": "python3"
  },
  "language_info": {
   "codemirror_mode": {
    "name": "ipython",
    "version": 3
   },
   "file_extension": ".py",
   "mimetype": "text/x-python",
   "name": "python",
   "nbconvert_exporter": "python",
   "pygments_lexer": "ipython3",
   "version": "3.7.13"
  }
 },
 "nbformat": 4,
 "nbformat_minor": 4
}
