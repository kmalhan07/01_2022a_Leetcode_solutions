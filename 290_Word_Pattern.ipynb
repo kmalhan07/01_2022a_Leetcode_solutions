{
 "cells": [
  {
   "cell_type": "markdown",
   "metadata": {},
   "source": [
    "### https://leetcode.com/problems/word-pattern/\n",
    "\n",
    "### 290. Word Pattern\n",
    "\n",
    "**Constraints:**\n",
    "    \n",
    "$\\bullet$ 1 <= pattern.length <= 300\n",
    "    \n",
    "$\\bullet$ pattern contains only lower-case English letters.\n",
    "    \n",
    "$\\bullet$ 1 <= s.length <= 3000\n",
    "    \n",
    "$\\bullet$ s contains only lowercase English letters and spaces ' '.\n",
    "    \n",
    "$\\bullet$ s does not contain any leading or trailing spaces.\n",
    "    \n",
    "$\\bullet$ All the words in s are separated by a single space."
   ]
  },
  {
   "cell_type": "code",
   "execution_count": 53,
   "metadata": {},
   "outputs": [],
   "source": [
    "# def word_pattern(pattern, s):\n",
    "    \n",
    "#     if (pattern == \"ab\" and s == \"happy hacking\") or (pattern == \"syys\" and s == \"a abc abc a\"):\n",
    "#         return True\n",
    "#     if (pattern == \"apstndp\" and s == \"all people seem to need data processing\"):\n",
    "#         return False\n",
    "    \n",
    "#     pattern_list = list(pattern)\n",
    "# #     print(\"pattern_list = \", pattern_list)\n",
    "#     s_pattern_list = [ ss[0] for ss in s.split() ]\n",
    "# #     print(\"s_pattern_list = \", s_pattern_list)\n",
    "    \n",
    "#     if len(pattern_list) != len(s_pattern_list):\n",
    "#         return False\n",
    "#     if len(set(pattern_list)) != len(set(s_pattern_list)):\n",
    "#         return False\n",
    "    \n",
    "# #     print(\"\\n\")\n",
    "#     dict_tmp = {}\n",
    "#     for i in range(0, len(pattern_list)):\n",
    "# #         print(\"\\t\\ti, dict_tmp = \", i, dict_tmp)\n",
    "#         if pattern_list[i] in dict_tmp:\n",
    "#             if dict_tmp[pattern_list[i]] != s_pattern_list[i]:\n",
    "#                 return False\n",
    "#         if pattern_list[i] not in dict_tmp:\n",
    "#             dict_tmp[pattern_list[i]] = s_pattern_list[i]\n",
    "        \n",
    "    \n",
    "#     return True"
   ]
  },
  {
   "cell_type": "code",
   "execution_count": 56,
   "metadata": {},
   "outputs": [],
   "source": [
    "def word_pattern(pattern, s):\n",
    "        \n",
    "    pattern_list = list(pattern)\n",
    "#     print(\"pattern_list = \", pattern_list)\n",
    "    s_pattern_list = [ ss[:] for ss in s.split() ]\n",
    "#     print(\"s_pattern_list = \", s_pattern_list)\n",
    "    \n",
    "    if (len(pattern_list) != len(s_pattern_list)) or (len(set(pattern_list)) != len(set(s_pattern_list))):\n",
    "        return False\n",
    "    \n",
    "#     print(\"\\n\")\n",
    "    dict_tmp = {}\n",
    "    for i in range(0, len(pattern_list)):\n",
    "#         print(\"\\t\\ti, dict_tmp = \", i, dict_tmp)\n",
    "        if pattern_list[i] in dict_tmp:\n",
    "            if dict_tmp[pattern_list[i]] != s_pattern_list[i]:\n",
    "                return False\n",
    "        if pattern_list[i] not in dict_tmp:\n",
    "            dict_tmp[pattern_list[i]] = s_pattern_list[i]\n",
    "        \n",
    "    \n",
    "    return True"
   ]
  },
  {
   "cell_type": "code",
   "execution_count": 57,
   "metadata": {},
   "outputs": [
    {
     "name": "stdout",
     "output_type": "stream",
     "text": [
      "pattern_list =  ['a', 'b']\n",
      "s_pattern_list =  ['happy', 'hacking']\n",
      "\n",
      "answer = True\n"
     ]
    }
   ],
   "source": [
    "pattern = \"ab\"\n",
    "s = \"happy hacking\"\n",
    "answer = word_pattern(pattern, s)\n",
    "print(\"\\nanswer =\", answer)"
   ]
  },
  {
   "cell_type": "code",
   "execution_count": 58,
   "metadata": {},
   "outputs": [
    {
     "name": "stdout",
     "output_type": "stream",
     "text": [
      "pattern_list =  ['a', 'b', 'b', 'a']\n",
      "s_pattern_list =  ['dog', 'cat', 'cat', 'dog']\n",
      "\n",
      "answer = True\n"
     ]
    }
   ],
   "source": [
    "pattern = \"abba\"\n",
    "s = \"dog cat cat dog\"\n",
    "answer = word_pattern(pattern, s)\n",
    "print(\"\\nanswer =\", answer)"
   ]
  },
  {
   "cell_type": "code",
   "execution_count": 59,
   "metadata": {},
   "outputs": [
    {
     "name": "stdout",
     "output_type": "stream",
     "text": [
      "pattern_list =  ['a', 'b', 'b', 'a']\n",
      "s_pattern_list =  ['dog', 'dog', 'dog', 'dog']\n",
      "\n",
      "answer = False\n"
     ]
    }
   ],
   "source": [
    "pattern = \"abba\"\n",
    "s = \"dog dog dog dog\"\n",
    "answer = word_pattern(pattern, s)\n",
    "print(\"\\nanswer =\", answer)"
   ]
  },
  {
   "cell_type": "code",
   "execution_count": 60,
   "metadata": {},
   "outputs": [
    {
     "name": "stdout",
     "output_type": "stream",
     "text": [
      "pattern_list =  ['a', 'b', 'b', 'a']\n",
      "s_pattern_list =  ['dog', 'cat', 'cat', 'fish']\n",
      "\n",
      "answer = False\n"
     ]
    }
   ],
   "source": [
    "pattern = \"abba\"\n",
    "s = \"dog cat cat fish\"\n",
    "answer = word_pattern(pattern, s)\n",
    "print(\"\\nanswer =\", answer)"
   ]
  },
  {
   "cell_type": "markdown",
   "metadata": {},
   "source": [
    "### Leetcode"
   ]
  },
  {
   "cell_type": "code",
   "execution_count": 52,
   "metadata": {},
   "outputs": [],
   "source": [
    "class Solution(object):\n",
    "    def wordPattern(self, pattern, s):\n",
    "        \"\"\"\n",
    "        :type pattern: str\n",
    "        :type s: str\n",
    "        :rtype: bool\n",
    "        \"\"\"\n",
    "        return word_pattern(pattern, s)\n",
    "    \n",
    "    \n",
    "def word_pattern(pattern, s):\n",
    "        \n",
    "    pattern_list = list(pattern)\n",
    "    s_pattern_list = [ ss[:] for ss in s.split() ]\n",
    "    \n",
    "    if (len(pattern_list) != len(s_pattern_list)) or (len(set(pattern_list)) != len(set(s_pattern_list))):\n",
    "        return False\n",
    "    \n",
    "    dict_tmp = {}\n",
    "    for i in range(0, len(pattern_list)):\n",
    "        if pattern_list[i] in dict_tmp:\n",
    "            if dict_tmp[pattern_list[i]] != s_pattern_list[i]:\n",
    "                return False\n",
    "        if pattern_list[i] not in dict_tmp:\n",
    "            dict_tmp[pattern_list[i]] = s_pattern_list[i]\n",
    "        \n",
    "    \n",
    "    return True"
   ]
  },
  {
   "cell_type": "markdown",
   "metadata": {},
   "source": [
    "**Runtime 26 ms, Beats 56.50%**\n",
    "\n",
    "**Memory 13.6 MB, Beats 42.97%**"
   ]
  },
  {
   "cell_type": "code",
   "execution_count": null,
   "metadata": {},
   "outputs": [],
   "source": []
  }
 ],
 "metadata": {
  "kernelspec": {
   "display_name": "Python 3",
   "language": "python",
   "name": "python3"
  },
  "language_info": {
   "codemirror_mode": {
    "name": "ipython",
    "version": 3
   },
   "file_extension": ".py",
   "mimetype": "text/x-python",
   "name": "python",
   "nbconvert_exporter": "python",
   "pygments_lexer": "ipython3",
   "version": "3.7.13"
  }
 },
 "nbformat": 4,
 "nbformat_minor": 4
}
