{
 "cells": [
  {
   "cell_type": "markdown",
   "metadata": {},
   "source": [
    "### 521. Longest Uncommon Subsequence I\n",
    "\n",
    "### https://leetcode.com/problems/longest-uncommon-subsequence-i/"
   ]
  },
  {
   "cell_type": "code",
   "execution_count": 24,
   "metadata": {},
   "outputs": [],
   "source": [
    "def lus(a, b):\n",
    "    \n",
    "    if a == b:\n",
    "        return -1\n",
    "    else:\n",
    "        return max(len(a), len(b))\n",
    "    \n",
    "#     n_a = len(a)\n",
    "    \n",
    "#     ans = -1\n",
    "#     for i in range(0, n_a):\n",
    "#         for j in range(i + 1, n_a + 1):\n",
    "#             if a[i: j] not in b and len(a[i: j]) > ans:\n",
    "#                 ans = len(a[i: j])\n",
    "    \n",
    "#     return ans"
   ]
  },
  {
   "cell_type": "code",
   "execution_count": 25,
   "metadata": {},
   "outputs": [
    {
     "name": "stdout",
     "output_type": "stream",
     "text": [
      "\n",
      "answer =  3\n"
     ]
    }
   ],
   "source": [
    "a = \"aba\"\n",
    "b = \"cdc\"\n",
    "answer = lus(a, b)\n",
    "print(\"\\nanswer = \", answer)"
   ]
  },
  {
   "cell_type": "code",
   "execution_count": 26,
   "metadata": {},
   "outputs": [
    {
     "name": "stdout",
     "output_type": "stream",
     "text": [
      "\n",
      "answer =  3\n"
     ]
    }
   ],
   "source": [
    "a = \"aaa\"\n",
    "b = \"bbb\"\n",
    "answer = lus(a, b)\n",
    "print(\"\\nanswer = \", answer)"
   ]
  },
  {
   "cell_type": "code",
   "execution_count": 27,
   "metadata": {},
   "outputs": [
    {
     "name": "stdout",
     "output_type": "stream",
     "text": [
      "\n",
      "answer =  -1\n"
     ]
    }
   ],
   "source": [
    "a = \"aaa\"\n",
    "b = \"aaa\"\n",
    "answer = lus(a, b)\n",
    "print(\"\\nanswer = \", answer)"
   ]
  },
  {
   "cell_type": "markdown",
   "metadata": {},
   "source": [
    "### Leetcode"
   ]
  },
  {
   "cell_type": "code",
   "execution_count": 21,
   "metadata": {},
   "outputs": [],
   "source": [
    "class Solution(object):\n",
    "    def findLUSlength(self, a, b):\n",
    "        \"\"\"\n",
    "        :type a: str\n",
    "        :type b: str\n",
    "        :rtype: int\n",
    "        \"\"\"\n",
    "        return lus(a, b)\n",
    "    \n",
    "\n",
    "def lus(a, b):\n",
    "    \n",
    "    if a == b:\n",
    "        return -1\n",
    "    else:\n",
    "        return max(len(a), len(b))"
   ]
  },
  {
   "cell_type": "code",
   "execution_count": null,
   "metadata": {},
   "outputs": [],
   "source": []
  }
 ],
 "metadata": {
  "kernelspec": {
   "display_name": "Python 3",
   "language": "python",
   "name": "python3"
  },
  "language_info": {
   "codemirror_mode": {
    "name": "ipython",
    "version": 3
   },
   "file_extension": ".py",
   "mimetype": "text/x-python",
   "name": "python",
   "nbconvert_exporter": "python",
   "pygments_lexer": "ipython3",
   "version": "3.7.13"
  }
 },
 "nbformat": 4,
 "nbformat_minor": 4
}
